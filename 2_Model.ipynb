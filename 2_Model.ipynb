{
  "cells": [
    {
      "cell_type": "markdown",
      "metadata": {
        "id": "1ACL4GMARUX6"
      },
      "source": [
        "---\n",
        "\n",
        "# **I. Import Libraries**"
      ]
    },
    {
      "cell_type": "markdown",
      "metadata": {
        "id": "XMMbYuyiKAs2"
      },
      "source": [
        "Let's start with importing essential libraries."
      ]
    },
    {
      "cell_type": "code",
      "execution_count": 3,
      "metadata": {
        "id": "GVdrJKxLPL3k"
      },
      "outputs": [],
      "source": [
        "import numpy as np              # scientific computing\n",
        "import pandas as pd             # high-performance data structures\n",
        "import matplotlib.pyplot as plt # data visualization\n",
        "import seaborn as sb            # high-level data visualization\n",
        "import os"
      ]
    },
    {
      "cell_type": "markdown",
      "metadata": {
        "id": "moQ1oTlvFWfp"
      },
      "source": [
        "---\n",
        "\n",
        "# **V. Prepare the Data for Machine Learning Algorithms**"
      ]
    },
    {
      "cell_type": "markdown",
      "metadata": {
        "id": "DbFgUkGFpTbp"
      },
      "source": [
        "At this stage, we will separate the predictors and labels as well as split the dataset into training set and test set. In addition, we will also perform feature scaling technique in order to help Machine Learning models learn better from the dataset."
      ]
    },
    {
      "cell_type": "code",
      "execution_count": 4,
      "metadata": {
        "id": "H9LjU1_QtMfw"
      },
      "outputs": [
        {
          "ename": "NameError",
          "evalue": "name 'cardio' is not defined",
          "output_type": "error",
          "traceback": [
            "\u001b[1;31m---------------------------------------------------------------------------\u001b[0m",
            "\u001b[1;31mNameError\u001b[0m                                 Traceback (most recent call last)",
            "\u001b[1;32m~\\AppData\\Local\\Temp/ipykernel_17680/112039332.py\u001b[0m in \u001b[0;36m<module>\u001b[1;34m\u001b[0m\n\u001b[0;32m      1\u001b[0m \u001b[0mcardio_raw\u001b[0m \u001b[1;33m=\u001b[0m \u001b[0mpd\u001b[0m\u001b[1;33m.\u001b[0m\u001b[0mread_csv\u001b[0m\u001b[1;33m(\u001b[0m\u001b[1;34m'cardio_train.csv'\u001b[0m\u001b[1;33m,\u001b[0m \u001b[0msep\u001b[0m \u001b[1;33m=\u001b[0m \u001b[1;34m';'\u001b[0m\u001b[1;33m)\u001b[0m\u001b[1;33m\u001b[0m\u001b[1;33m\u001b[0m\u001b[0m\n\u001b[0;32m      2\u001b[0m \u001b[1;31m# Separate the dataset\u001b[0m\u001b[1;33m\u001b[0m\u001b[1;33m\u001b[0m\u001b[1;33m\u001b[0m\u001b[0m\n\u001b[1;32m----> 3\u001b[1;33m \u001b[0mcardio_label\u001b[0m \u001b[1;33m=\u001b[0m \u001b[0mpd\u001b[0m\u001b[1;33m.\u001b[0m\u001b[0mDataFrame\u001b[0m\u001b[1;33m(\u001b[0m\u001b[0mcardio\u001b[0m\u001b[1;33m[\u001b[0m\u001b[1;34m'cardio'\u001b[0m\u001b[1;33m]\u001b[0m\u001b[1;33m)\u001b[0m \u001b[1;31m# label\u001b[0m\u001b[1;33m\u001b[0m\u001b[1;33m\u001b[0m\u001b[0m\n\u001b[0m\u001b[0;32m      4\u001b[0m \u001b[0mcardio\u001b[0m \u001b[1;33m=\u001b[0m \u001b[0mcardio\u001b[0m\u001b[1;33m.\u001b[0m\u001b[0mdrop\u001b[0m\u001b[1;33m(\u001b[0m\u001b[1;34m'cardio'\u001b[0m\u001b[1;33m,\u001b[0m \u001b[0maxis\u001b[0m\u001b[1;33m=\u001b[0m\u001b[1;36m1\u001b[0m\u001b[1;33m)\u001b[0m        \u001b[1;31m# predictors\u001b[0m\u001b[1;33m\u001b[0m\u001b[1;33m\u001b[0m\u001b[0m\n",
            "\u001b[1;31mNameError\u001b[0m: name 'cardio' is not defined"
          ]
        }
      ],
      "source": [
        "cardio = pd.read_csv('cardio_train.csv', sep = ';')\n",
        "# Separate the dataset\n",
        "cardio_label = pd.DataFrame(cardio['cardio']) # label\n",
        "cardio = cardio.drop('cardio', axis=1)        # predictors"
      ]
    },
    {
      "cell_type": "markdown",
      "metadata": {
        "id": "CELXRAKiF2BP"
      },
      "source": [
        "### V.1. Feature Scaling"
      ]
    },
    {
      "cell_type": "markdown",
      "metadata": {
        "id": "iFi2_hw6xZu7"
      },
      "source": [
        "Very often, Machine Learning don't perform well when the input numerical attributes have very different scales. In this **Cardiovascular Disease dataset**, the range of each numerical attribute is as follow.\n",
        "\n",
        "Let's check the statistical summary of numerical attributes again."
      ]
    },
    {
      "cell_type": "code",
      "execution_count": null,
      "metadata": {
        "colab": {
          "base_uri": "https://localhost:8080/"
        },
        "id": "zASD-2Z8x_k1",
        "outputId": "1c776471-8395-4757-8746-96d7d88e7f94"
      },
      "outputs": [
        {
          "data": {
            "text/html": [
              "<div>\n",
              "<style scoped>\n",
              "    .dataframe tbody tr th:only-of-type {\n",
              "        vertical-align: middle;\n",
              "    }\n",
              "\n",
              "    .dataframe tbody tr th {\n",
              "        vertical-align: top;\n",
              "    }\n",
              "\n",
              "    .dataframe thead th {\n",
              "        text-align: right;\n",
              "    }\n",
              "</style>\n",
              "<table border=\"1\" class=\"dataframe\">\n",
              "  <thead>\n",
              "    <tr style=\"text-align: right;\">\n",
              "      <th></th>\n",
              "      <th>count</th>\n",
              "      <th>mean</th>\n",
              "      <th>std</th>\n",
              "      <th>min</th>\n",
              "      <th>25%</th>\n",
              "      <th>50%</th>\n",
              "      <th>75%</th>\n",
              "      <th>max</th>\n",
              "    </tr>\n",
              "  </thead>\n",
              "  <tbody>\n",
              "    <tr>\n",
              "      <th>age</th>\n",
              "      <td>70000.0</td>\n",
              "      <td>52.803257</td>\n",
              "      <td>6.762462</td>\n",
              "      <td>29.0</td>\n",
              "      <td>48.0</td>\n",
              "      <td>53.0</td>\n",
              "      <td>58.0</td>\n",
              "      <td>64.0</td>\n",
              "    </tr>\n",
              "    <tr>\n",
              "      <th>height</th>\n",
              "      <td>70000.0</td>\n",
              "      <td>164.359229</td>\n",
              "      <td>8.210126</td>\n",
              "      <td>55.0</td>\n",
              "      <td>159.0</td>\n",
              "      <td>165.0</td>\n",
              "      <td>170.0</td>\n",
              "      <td>250.0</td>\n",
              "    </tr>\n",
              "    <tr>\n",
              "      <th>weight</th>\n",
              "      <td>70000.0</td>\n",
              "      <td>74.205690</td>\n",
              "      <td>14.395757</td>\n",
              "      <td>10.0</td>\n",
              "      <td>65.0</td>\n",
              "      <td>72.0</td>\n",
              "      <td>82.0</td>\n",
              "      <td>200.0</td>\n",
              "    </tr>\n",
              "  </tbody>\n",
              "</table>\n",
              "</div>"
            ],
            "text/plain": [
              "          count        mean        std   min    25%    50%    75%    max\n",
              "age     70000.0   52.803257   6.762462  29.0   48.0   53.0   58.0   64.0\n",
              "height  70000.0  164.359229   8.210126  55.0  159.0  165.0  170.0  250.0\n",
              "weight  70000.0   74.205690  14.395757  10.0   65.0   72.0   82.0  200.0"
            ]
          },
          "execution_count": 52,
          "metadata": {},
          "output_type": "execute_result"
        }
      ],
      "source": [
        "# Summary of numerical attributes' statistics\n",
        "cardio.describe().transpose()"
      ]
    },
    {
      "cell_type": "markdown",
      "metadata": {
        "id": "1ryyqwGXT_aT"
      },
      "source": [
        "Although the scales of the input numerical attributes are not too different, we will still rescale them because it is a good practice to do so.\n",
        "\n",
        "We will be using [Standardization Scaling](https://towardsdatascience.com/normalization-vs-standardization-quantitative-analysis-a91e8a79cebf)."
      ]
    },
    {
      "cell_type": "code",
      "execution_count": null,
      "metadata": {
        "id": "qIKTJtYMlHxl"
      },
      "outputs": [],
      "source": [
        "# Import scaler\n",
        "from sklearn.preprocessing import StandardScaler\n",
        "\n",
        "# Define scaler object\n",
        "scaler = StandardScaler()\n",
        "\n",
        "# Scale numerical attributes\n",
        "cardio[num_attribs] = scaler.fit_transform(cardio[num_attribs])"
      ]
    },
    {
      "cell_type": "markdown",
      "metadata": {
        "id": "fq9hLP8TkxSL"
      },
      "source": [
        "### V.2. Split the Dataset"
      ]
    },
    {
      "cell_type": "markdown",
      "metadata": {
        "id": "zBANbDm6lPWt"
      },
      "source": [
        "Now, let's split the dataset into two parts:\n",
        "\n",
        "\n",
        "1.   Training set for training models\n",
        "2.   Test set for evaluating models\n",
        "\n",
        "\n",
        "with the ratio $\\frac{training\\space set}{test\\space set} = \\frac{8}{2}$ and a random state to get the same datasets everytime running."
      ]
    },
    {
      "cell_type": "code",
      "execution_count": null,
      "metadata": {
        "id": "bqCjKBRkFqzr"
      },
      "outputs": [],
      "source": [
        "# Import splitter\n",
        "from sklearn.model_selection import train_test_split\n",
        "\n",
        "# Split the dataset into Train and Test\n",
        "X_train, X_test, y_train, y_test = train_test_split(cardio, cardio_label, test_size=0.2, random_state=42)"
      ]
    },
    {
      "cell_type": "markdown",
      "metadata": {
        "id": "HQv_XUhqVZFP"
      },
      "source": [
        "---\n",
        "\n",
        "# **VI. Select and Train a Model**"
      ]
    },
    {
      "cell_type": "markdown",
      "metadata": {
        "id": "him5IK9X6q_Z"
      },
      "source": [
        "Finally we come to this stage, where we will select and train a Machine Learning model.\n",
        "\n",
        "We're going to plot the [confusion matrix](https://towardsdatascience.com/understanding-confusion-matrix-a9ad42dcfd62) and the [Receiver Operating Characteristic (ROC) curve](https://towardsdatascience.com/understanding-auc-roc-curve-68b2303cc9c5) multiple times, therefore, creating functions for those tasks is a good practice as it will help reduce repetitive lines of code."
      ]
    },
    {
      "cell_type": "code",
      "execution_count": null,
      "metadata": {
        "id": "pWmva49F6uwU"
      },
      "outputs": [],
      "source": [
        "class ModelEvaluation():\n",
        "  def __init__(self, y):\n",
        "    # Ground truth of the target class\n",
        "    self.y = y\n",
        "\n",
        "  def plot_confusion_matrix(self, y_pred):\n",
        "    # Plot actual class against predicted class\n",
        "    sb.heatmap(confusion_matrix(self.y, y_pred), annot=True, fmt='.0f', annot_kws={'size':18})\n",
        "\n",
        "    # Print scores\n",
        "    print(\"Accuracy:\\t\", accuracy_score(self.y, y_pred))   # accuracy\n",
        "    print(\"Precision:\\t\", precision_score(self.y, y_pred)) # precision\n",
        "    print(\"Recall:\\t\\t\", recall_score(self.y, y_pred))     # recall\n",
        "    print(\"F1 score:\\t\", f1_score(self.y, y_pred))         # f1 score\n",
        "    print(\"ROC AUC:\\t\", roc_auc_score(self.y, y_pred))     # area under roc curve\n",
        "\n",
        "  def plot_roc_curve(self, y_probas):\n",
        "    # Keep probabilities for the successful outcome\n",
        "    y_scores = y_probas[:, 1]\n",
        "\n",
        "    # Calculate roc curves\n",
        "    fpr, tpr, thresholds = roc_curve(self.y, y_scores)\n",
        "\n",
        "    # Calculate the g-mean for each threshold\n",
        "    gmeans = sqrt(tpr * (1 - fpr))\n",
        "\n",
        "    # Locate the index of the largest g-mean\n",
        "    index = argmax(gmeans)\n",
        "\n",
        "    # Best threshold\n",
        "    self.threshold = thresholds[index]\n",
        "\n",
        "    # Plot the roc curve for the model\n",
        "    plt.plot([0,1], [0,1], 'k--', label='No Skill')                             # purely random classifier\n",
        "    plt.plot(fpr, tpr, label='Logistic')                                        # trained classifier\n",
        "    plt.scatter(fpr[index], tpr[index], marker='o', color='red', label='Best')  # best classifier\n",
        "\n",
        "    # Label axes\n",
        "    plt.xlabel(\"False Positive Rate (Fall-Out)\")  # x-axis label\n",
        "    plt.ylabel(\"True Positive Rate (Recall)\")     # y-axis label\n",
        "    plt.legend(loc='lower right')                 # legend\n",
        "    plt.grid(True)                                # plot grid\n",
        "\n",
        "    # Show the plot\n",
        "    plt.show()\n",
        "\n",
        "    # Print the best threshold and g-mean\n",
        "    print(\"Best Threshold =\", self.threshold) # best threshold\n",
        "    print(\"G-Mean =\", gmeans[index])          # g-mean\n",
        "\n",
        "  def best_threshold(self):\n",
        "    # Return the best threshold\n",
        "    return self.threshold"
      ]
    },
    {
      "cell_type": "markdown",
      "metadata": {
        "id": "yPkfMO4xzk3W"
      },
      "source": [
        "Let's start with the [Decision Tree Classifier](https://towardsdatascience.com/decision-tree-classifier-explained-in-real-life-picking-a-vacation-destination-6226b2b60575) model.\n",
        "\n",
        "The intuition behind Decision Trees is that we use the dataset features to create yes/no questions and continually split the dataset until we isolate all data points belonging to each class.\n",
        "\n",
        "With the Decision Tree Classifier, the right question to ask is: \"*At a particular node, what feature will allow me to split the observations at hand in a way that the resulting groups are as different from each other as possible (and the members of each resulting subgroup are as similar to each other as possible)?*\""
      ]
    },
    {
      "cell_type": "markdown",
      "metadata": {
        "id": "xb1Mab5bnh_5"
      },
      "source": [
        "### VI.1. Train and Evaluate on Training Set"
      ]
    },
    {
      "cell_type": "markdown",
      "metadata": {
        "id": "QA52WnrISMzf"
      },
      "source": [
        "We will be using GridSearchCV to find the best combination of hyper-parameters for an estimator. The hyper-parameters of the estimator used to apply these methods are optimized by cross-validated grid-search over a hyper-parameter grid."
      ]
    },
    {
      "cell_type": "code",
      "execution_count": null,
      "metadata": {
        "colab": {
          "base_uri": "https://localhost:8080/"
        },
        "id": "dp7DfkntsT1O",
        "outputId": "32d9edca-764f-47ce-e891-bde388fa5352"
      },
      "outputs": [
        {
          "name": "stdout",
          "output_type": "stream",
          "text": [
            "Fitting 10 folds for each of 10 candidates, totalling 100 fits\n",
            "[CV] criterion=gini, max_depth=5, random_state=42 ....................\n",
            "[CV]  criterion=gini, max_depth=5, random_state=42, score=0.780, total=   0.1s\n",
            "[CV] criterion=gini, max_depth=5, random_state=42 ....................\n",
            "[CV]  criterion=gini, max_depth=5, random_state=42, score=0.779, total=   0.1s\n",
            "[CV] criterion=gini, max_depth=5, random_state=42 ....................\n"
          ]
        },
        {
          "name": "stderr",
          "output_type": "stream",
          "text": [
            "[Parallel(n_jobs=1)]: Using backend SequentialBackend with 1 concurrent workers.\n",
            "[Parallel(n_jobs=1)]: Done   1 out of   1 | elapsed:    0.1s remaining:    0.0s\n",
            "[Parallel(n_jobs=1)]: Done   2 out of   2 | elapsed:    0.2s remaining:    0.0s\n"
          ]
        },
        {
          "name": "stdout",
          "output_type": "stream",
          "text": [
            "[CV]  criterion=gini, max_depth=5, random_state=42, score=0.773, total=   0.1s\n",
            "[CV] criterion=gini, max_depth=5, random_state=42 ....................\n",
            "[CV]  criterion=gini, max_depth=5, random_state=42, score=0.772, total=   0.1s\n",
            "[CV] criterion=gini, max_depth=5, random_state=42 ....................\n",
            "[CV]  criterion=gini, max_depth=5, random_state=42, score=0.772, total=   0.1s\n",
            "[CV] criterion=gini, max_depth=5, random_state=42 ....................\n",
            "[CV]  criterion=gini, max_depth=5, random_state=42, score=0.775, total=   0.1s\n",
            "[CV] criterion=gini, max_depth=5, random_state=42 ....................\n",
            "[CV]  criterion=gini, max_depth=5, random_state=42, score=0.776, total=   0.1s\n",
            "[CV] criterion=gini, max_depth=5, random_state=42 ....................\n",
            "[CV]  criterion=gini, max_depth=5, random_state=42, score=0.764, total=   0.1s\n",
            "[CV] criterion=gini, max_depth=5, random_state=42 ....................\n",
            "[CV]  criterion=gini, max_depth=5, random_state=42, score=0.778, total=   0.1s\n",
            "[CV] criterion=gini, max_depth=5, random_state=42 ....................\n",
            "[CV]  criterion=gini, max_depth=5, random_state=42, score=0.779, total=   0.1s\n",
            "[CV] criterion=gini, max_depth=6, random_state=42 ....................\n",
            "[CV]  criterion=gini, max_depth=6, random_state=42, score=0.783, total=   0.1s\n",
            "[CV] criterion=gini, max_depth=6, random_state=42 ....................\n",
            "[CV]  criterion=gini, max_depth=6, random_state=42, score=0.782, total=   0.1s\n",
            "[CV] criterion=gini, max_depth=6, random_state=42 ....................\n",
            "[CV]  criterion=gini, max_depth=6, random_state=42, score=0.777, total=   0.1s\n",
            "[CV] criterion=gini, max_depth=6, random_state=42 ....................\n",
            "[CV]  criterion=gini, max_depth=6, random_state=42, score=0.776, total=   0.1s\n",
            "[CV] criterion=gini, max_depth=6, random_state=42 ....................\n",
            "[CV]  criterion=gini, max_depth=6, random_state=42, score=0.772, total=   0.1s\n",
            "[CV] criterion=gini, max_depth=6, random_state=42 ....................\n",
            "[CV]  criterion=gini, max_depth=6, random_state=42, score=0.778, total=   0.1s\n",
            "[CV] criterion=gini, max_depth=6, random_state=42 ....................\n",
            "[CV]  criterion=gini, max_depth=6, random_state=42, score=0.779, total=   0.1s\n",
            "[CV] criterion=gini, max_depth=6, random_state=42 ....................\n",
            "[CV]  criterion=gini, max_depth=6, random_state=42, score=0.767, total=   0.1s\n",
            "[CV] criterion=gini, max_depth=6, random_state=42 ....................\n",
            "[CV]  criterion=gini, max_depth=6, random_state=42, score=0.781, total=   0.1s\n",
            "[CV] criterion=gini, max_depth=6, random_state=42 ....................\n",
            "[CV]  criterion=gini, max_depth=6, random_state=42, score=0.781, total=   0.1s\n",
            "[CV] criterion=gini, max_depth=7, random_state=42 ....................\n",
            "[CV]  criterion=gini, max_depth=7, random_state=42, score=0.785, total=   0.1s\n",
            "[CV] criterion=gini, max_depth=7, random_state=42 ....................\n",
            "[CV]  criterion=gini, max_depth=7, random_state=42, score=0.781, total=   0.1s\n",
            "[CV] criterion=gini, max_depth=7, random_state=42 ....................\n",
            "[CV]  criterion=gini, max_depth=7, random_state=42, score=0.777, total=   0.1s\n",
            "[CV] criterion=gini, max_depth=7, random_state=42 ....................\n",
            "[CV]  criterion=gini, max_depth=7, random_state=42, score=0.776, total=   0.1s\n",
            "[CV] criterion=gini, max_depth=7, random_state=42 ....................\n",
            "[CV]  criterion=gini, max_depth=7, random_state=42, score=0.773, total=   0.1s\n",
            "[CV] criterion=gini, max_depth=7, random_state=42 ....................\n",
            "[CV]  criterion=gini, max_depth=7, random_state=42, score=0.777, total=   0.1s\n",
            "[CV] criterion=gini, max_depth=7, random_state=42 ....................\n",
            "[CV]  criterion=gini, max_depth=7, random_state=42, score=0.779, total=   0.1s\n",
            "[CV] criterion=gini, max_depth=7, random_state=42 ....................\n",
            "[CV]  criterion=gini, max_depth=7, random_state=42, score=0.767, total=   0.1s\n",
            "[CV] criterion=gini, max_depth=7, random_state=42 ....................\n",
            "[CV]  criterion=gini, max_depth=7, random_state=42, score=0.778, total=   0.1s\n",
            "[CV] criterion=gini, max_depth=7, random_state=42 ....................\n",
            "[CV]  criterion=gini, max_depth=7, random_state=42, score=0.782, total=   0.1s\n",
            "[CV] criterion=gini, max_depth=8, random_state=42 ....................\n",
            "[CV]  criterion=gini, max_depth=8, random_state=42, score=0.781, total=   0.1s\n",
            "[CV] criterion=gini, max_depth=8, random_state=42 ....................\n",
            "[CV]  criterion=gini, max_depth=8, random_state=42, score=0.781, total=   0.1s\n",
            "[CV] criterion=gini, max_depth=8, random_state=42 ....................\n",
            "[CV]  criterion=gini, max_depth=8, random_state=42, score=0.772, total=   0.1s\n",
            "[CV] criterion=gini, max_depth=8, random_state=42 ....................\n",
            "[CV]  criterion=gini, max_depth=8, random_state=42, score=0.776, total=   0.1s\n",
            "[CV] criterion=gini, max_depth=8, random_state=42 ....................\n",
            "[CV]  criterion=gini, max_depth=8, random_state=42, score=0.774, total=   0.1s\n",
            "[CV] criterion=gini, max_depth=8, random_state=42 ....................\n",
            "[CV]  criterion=gini, max_depth=8, random_state=42, score=0.777, total=   0.1s\n",
            "[CV] criterion=gini, max_depth=8, random_state=42 ....................\n",
            "[CV]  criterion=gini, max_depth=8, random_state=42, score=0.780, total=   0.1s\n",
            "[CV] criterion=gini, max_depth=8, random_state=42 ....................\n",
            "[CV]  criterion=gini, max_depth=8, random_state=42, score=0.765, total=   0.1s\n",
            "[CV] criterion=gini, max_depth=8, random_state=42 ....................\n",
            "[CV]  criterion=gini, max_depth=8, random_state=42, score=0.778, total=   0.1s\n",
            "[CV] criterion=gini, max_depth=8, random_state=42 ....................\n",
            "[CV]  criterion=gini, max_depth=8, random_state=42, score=0.777, total=   0.1s\n",
            "[CV] criterion=gini, max_depth=9, random_state=42 ....................\n",
            "[CV]  criterion=gini, max_depth=9, random_state=42, score=0.778, total=   0.1s\n",
            "[CV] criterion=gini, max_depth=9, random_state=42 ....................\n",
            "[CV]  criterion=gini, max_depth=9, random_state=42, score=0.781, total=   0.1s\n",
            "[CV] criterion=gini, max_depth=9, random_state=42 ....................\n",
            "[CV]  criterion=gini, max_depth=9, random_state=42, score=0.770, total=   0.1s\n",
            "[CV] criterion=gini, max_depth=9, random_state=42 ....................\n",
            "[CV]  criterion=gini, max_depth=9, random_state=42, score=0.773, total=   0.1s\n",
            "[CV] criterion=gini, max_depth=9, random_state=42 ....................\n",
            "[CV]  criterion=gini, max_depth=9, random_state=42, score=0.770, total=   0.1s\n",
            "[CV] criterion=gini, max_depth=9, random_state=42 ....................\n",
            "[CV]  criterion=gini, max_depth=9, random_state=42, score=0.774, total=   0.1s\n",
            "[CV] criterion=gini, max_depth=9, random_state=42 ....................\n",
            "[CV]  criterion=gini, max_depth=9, random_state=42, score=0.777, total=   0.1s\n",
            "[CV] criterion=gini, max_depth=9, random_state=42 ....................\n",
            "[CV]  criterion=gini, max_depth=9, random_state=42, score=0.760, total=   0.1s\n",
            "[CV] criterion=gini, max_depth=9, random_state=42 ....................\n",
            "[CV]  criterion=gini, max_depth=9, random_state=42, score=0.777, total=   0.1s\n",
            "[CV] criterion=gini, max_depth=9, random_state=42 ....................\n",
            "[CV]  criterion=gini, max_depth=9, random_state=42, score=0.771, total=   0.1s\n",
            "[CV] criterion=entropy, max_depth=5, random_state=42 .................\n",
            "[CV]  criterion=entropy, max_depth=5, random_state=42, score=0.781, total=   0.1s\n",
            "[CV] criterion=entropy, max_depth=5, random_state=42 .................\n",
            "[CV]  criterion=entropy, max_depth=5, random_state=42, score=0.779, total=   0.1s\n",
            "[CV] criterion=entropy, max_depth=5, random_state=42 .................\n",
            "[CV]  criterion=entropy, max_depth=5, random_state=42, score=0.774, total=   0.1s\n",
            "[CV] criterion=entropy, max_depth=5, random_state=42 .................\n",
            "[CV]  criterion=entropy, max_depth=5, random_state=42, score=0.771, total=   0.1s\n",
            "[CV] criterion=entropy, max_depth=5, random_state=42 .................\n",
            "[CV]  criterion=entropy, max_depth=5, random_state=42, score=0.773, total=   0.1s\n",
            "[CV] criterion=entropy, max_depth=5, random_state=42 .................\n",
            "[CV]  criterion=entropy, max_depth=5, random_state=42, score=0.775, total=   0.1s\n",
            "[CV] criterion=entropy, max_depth=5, random_state=42 .................\n",
            "[CV]  criterion=entropy, max_depth=5, random_state=42, score=0.776, total=   0.1s\n",
            "[CV] criterion=entropy, max_depth=5, random_state=42 .................\n",
            "[CV]  criterion=entropy, max_depth=5, random_state=42, score=0.764, total=   0.1s\n",
            "[CV] criterion=entropy, max_depth=5, random_state=42 .................\n",
            "[CV]  criterion=entropy, max_depth=5, random_state=42, score=0.778, total=   0.1s\n",
            "[CV] criterion=entropy, max_depth=5, random_state=42 .................\n",
            "[CV]  criterion=entropy, max_depth=5, random_state=42, score=0.779, total=   0.1s\n",
            "[CV] criterion=entropy, max_depth=6, random_state=42 .................\n",
            "[CV]  criterion=entropy, max_depth=6, random_state=42, score=0.783, total=   0.1s\n",
            "[CV] criterion=entropy, max_depth=6, random_state=42 .................\n",
            "[CV]  criterion=entropy, max_depth=6, random_state=42, score=0.780, total=   0.1s\n",
            "[CV] criterion=entropy, max_depth=6, random_state=42 .................\n",
            "[CV]  criterion=entropy, max_depth=6, random_state=42, score=0.777, total=   0.1s\n",
            "[CV] criterion=entropy, max_depth=6, random_state=42 .................\n",
            "[CV]  criterion=entropy, max_depth=6, random_state=42, score=0.775, total=   0.1s\n",
            "[CV] criterion=entropy, max_depth=6, random_state=42 .................\n",
            "[CV]  criterion=entropy, max_depth=6, random_state=42, score=0.774, total=   0.1s\n",
            "[CV] criterion=entropy, max_depth=6, random_state=42 .................\n",
            "[CV]  criterion=entropy, max_depth=6, random_state=42, score=0.779, total=   0.1s\n",
            "[CV] criterion=entropy, max_depth=6, random_state=42 .................\n",
            "[CV]  criterion=entropy, max_depth=6, random_state=42, score=0.778, total=   0.1s\n",
            "[CV] criterion=entropy, max_depth=6, random_state=42 .................\n",
            "[CV]  criterion=entropy, max_depth=6, random_state=42, score=0.768, total=   0.1s\n",
            "[CV] criterion=entropy, max_depth=6, random_state=42 .................\n",
            "[CV]  criterion=entropy, max_depth=6, random_state=42, score=0.781, total=   0.1s\n",
            "[CV] criterion=entropy, max_depth=6, random_state=42 .................\n",
            "[CV]  criterion=entropy, max_depth=6, random_state=42, score=0.781, total=   0.1s\n",
            "[CV] criterion=entropy, max_depth=7, random_state=42 .................\n",
            "[CV]  criterion=entropy, max_depth=7, random_state=42, score=0.784, total=   0.1s\n",
            "[CV] criterion=entropy, max_depth=7, random_state=42 .................\n",
            "[CV]  criterion=entropy, max_depth=7, random_state=42, score=0.782, total=   0.1s\n",
            "[CV] criterion=entropy, max_depth=7, random_state=42 .................\n",
            "[CV]  criterion=entropy, max_depth=7, random_state=42, score=0.778, total=   0.1s\n",
            "[CV] criterion=entropy, max_depth=7, random_state=42 .................\n",
            "[CV]  criterion=entropy, max_depth=7, random_state=42, score=0.778, total=   0.1s\n",
            "[CV] criterion=entropy, max_depth=7, random_state=42 .................\n",
            "[CV]  criterion=entropy, max_depth=7, random_state=42, score=0.775, total=   0.1s\n",
            "[CV] criterion=entropy, max_depth=7, random_state=42 .................\n",
            "[CV]  criterion=entropy, max_depth=7, random_state=42, score=0.777, total=   0.1s\n",
            "[CV] criterion=entropy, max_depth=7, random_state=42 .................\n",
            "[CV]  criterion=entropy, max_depth=7, random_state=42, score=0.779, total=   0.1s\n",
            "[CV] criterion=entropy, max_depth=7, random_state=42 .................\n",
            "[CV]  criterion=entropy, max_depth=7, random_state=42, score=0.768, total=   0.1s\n",
            "[CV] criterion=entropy, max_depth=7, random_state=42 .................\n",
            "[CV]  criterion=entropy, max_depth=7, random_state=42, score=0.780, total=   0.1s\n",
            "[CV] criterion=entropy, max_depth=7, random_state=42 .................\n",
            "[CV]  criterion=entropy, max_depth=7, random_state=42, score=0.781, total=   0.1s\n",
            "[CV] criterion=entropy, max_depth=8, random_state=42 .................\n",
            "[CV]  criterion=entropy, max_depth=8, random_state=42, score=0.781, total=   0.1s\n",
            "[CV] criterion=entropy, max_depth=8, random_state=42 .................\n",
            "[CV]  criterion=entropy, max_depth=8, random_state=42, score=0.782, total=   0.1s\n",
            "[CV] criterion=entropy, max_depth=8, random_state=42 .................\n",
            "[CV]  criterion=entropy, max_depth=8, random_state=42, score=0.774, total=   0.1s\n",
            "[CV] criterion=entropy, max_depth=8, random_state=42 .................\n",
            "[CV]  criterion=entropy, max_depth=8, random_state=42, score=0.776, total=   0.1s\n",
            "[CV] criterion=entropy, max_depth=8, random_state=42 .................\n",
            "[CV]  criterion=entropy, max_depth=8, random_state=42, score=0.775, total=   0.1s\n",
            "[CV] criterion=entropy, max_depth=8, random_state=42 .................\n",
            "[CV]  criterion=entropy, max_depth=8, random_state=42, score=0.779, total=   0.1s\n",
            "[CV] criterion=entropy, max_depth=8, random_state=42 .................\n",
            "[CV]  criterion=entropy, max_depth=8, random_state=42, score=0.778, total=   0.1s\n",
            "[CV] criterion=entropy, max_depth=8, random_state=42 .................\n",
            "[CV]  criterion=entropy, max_depth=8, random_state=42, score=0.766, total=   0.1s\n",
            "[CV] criterion=entropy, max_depth=8, random_state=42 .................\n",
            "[CV]  criterion=entropy, max_depth=8, random_state=42, score=0.779, total=   0.1s\n",
            "[CV] criterion=entropy, max_depth=8, random_state=42 .................\n",
            "[CV]  criterion=entropy, max_depth=8, random_state=42, score=0.778, total=   0.1s\n",
            "[CV] criterion=entropy, max_depth=9, random_state=42 .................\n",
            "[CV]  criterion=entropy, max_depth=9, random_state=42, score=0.780, total=   0.1s\n",
            "[CV] criterion=entropy, max_depth=9, random_state=42 .................\n",
            "[CV]  criterion=entropy, max_depth=9, random_state=42, score=0.779, total=   0.1s\n",
            "[CV] criterion=entropy, max_depth=9, random_state=42 .................\n",
            "[CV]  criterion=entropy, max_depth=9, random_state=42, score=0.772, total=   0.1s\n",
            "[CV] criterion=entropy, max_depth=9, random_state=42 .................\n",
            "[CV]  criterion=entropy, max_depth=9, random_state=42, score=0.773, total=   0.1s\n",
            "[CV] criterion=entropy, max_depth=9, random_state=42 .................\n",
            "[CV]  criterion=entropy, max_depth=9, random_state=42, score=0.772, total=   0.1s\n",
            "[CV] criterion=entropy, max_depth=9, random_state=42 .................\n",
            "[CV]  criterion=entropy, max_depth=9, random_state=42, score=0.776, total=   0.1s\n",
            "[CV] criterion=entropy, max_depth=9, random_state=42 .................\n",
            "[CV]  criterion=entropy, max_depth=9, random_state=42, score=0.779, total=   0.1s\n",
            "[CV] criterion=entropy, max_depth=9, random_state=42 .................\n",
            "[CV]  criterion=entropy, max_depth=9, random_state=42, score=0.762, total=   0.1s\n",
            "[CV] criterion=entropy, max_depth=9, random_state=42 .................\n",
            "[CV]  criterion=entropy, max_depth=9, random_state=42, score=0.778, total=   0.1s\n",
            "[CV] criterion=entropy, max_depth=9, random_state=42 .................\n",
            "[CV]  criterion=entropy, max_depth=9, random_state=42, score=0.774, total=   0.1s\n"
          ]
        },
        {
          "name": "stderr",
          "output_type": "stream",
          "text": [
            "[Parallel(n_jobs=1)]: Done 100 out of 100 | elapsed:    9.5s finished\n"
          ]
        },
        {
          "data": {
            "text/plain": [
              "{'criterion': 'entropy', 'max_depth': 7, 'random_state': 42}"
            ]
          },
          "execution_count": 56,
          "metadata": {},
          "output_type": "execute_result"
        }
      ],
      "source": [
        "# Import classification model and hyper-parameter optimizer\n",
        "from sklearn.model_selection import GridSearchCV  # optimizer\n",
        "from sklearn.tree import DecisionTreeClassifier   # model\n",
        "\n",
        "# A dictionary contains hyper-parameters combinations that we want to examine\n",
        "dectree_param_grid = {\n",
        "    'criterion': ['gini', 'entropy'],\n",
        "    'max_depth': range(5, 10),\n",
        "    'random_state': [42]\n",
        "}\n",
        "\n",
        "# Setup grid search\n",
        "search_dectree = GridSearchCV(DecisionTreeClassifier(),\n",
        "                              param_grid=dectree_param_grid,\n",
        "                              scoring='roc_auc',\n",
        "                              cv=10,\n",
        "                              verbose=3)\n",
        "\n",
        "# Fit the training set on the model with combinations of hyper-parameters\n",
        "search_dectree.fit(X_train, y_train)\n",
        "\n",
        "# The best hyper-parameters combination\n",
        "search_dectree.best_params_"
      ]
    },
    {
      "cell_type": "markdown",
      "metadata": {
        "id": "NZVv-nEuYsEr"
      },
      "source": [
        "Let's create a model object using the best combination of hyper-parameters found and fit it on the training set."
      ]
    },
    {
      "cell_type": "code",
      "execution_count": null,
      "metadata": {
        "colab": {
          "base_uri": "https://localhost:8080/"
        },
        "id": "kijWlKasaaQP",
        "outputId": "20c80f74-3e20-4dfa-a02e-ec7abfe004a4"
      },
      "outputs": [
        {
          "data": {
            "text/plain": [
              "DecisionTreeClassifier(ccp_alpha=0.0, class_weight=None, criterion='entropy',\n",
              "                       max_depth=7, max_features=None, max_leaf_nodes=None,\n",
              "                       min_impurity_decrease=0.0, min_impurity_split=None,\n",
              "                       min_samples_leaf=1, min_samples_split=2,\n",
              "                       min_weight_fraction_leaf=0.0, presort='deprecated',\n",
              "                       random_state=42, splitter='best')"
            ]
          },
          "execution_count": 57,
          "metadata": {},
          "output_type": "execute_result"
        }
      ],
      "source": [
        "# Create model object with the best found hyper-parameters combination\n",
        "dectree = search_dectree.best_estimator_\n",
        "\n",
        "# Fit the training set on the model\n",
        "dectree.fit(X_train, y_train)"
      ]
    },
    {
      "cell_type": "markdown",
      "metadata": {
        "id": "A1iyYdfLiWR2"
      },
      "source": [
        "After predicting on the training set, we will plot the confusion matrix and print out some scores to evaluate the model."
      ]
    },
    {
      "cell_type": "code",
      "execution_count": null,
      "metadata": {
        "colab": {
          "base_uri": "https://localhost:8080/"
        },
        "id": "m--vNchSuliV",
        "outputId": "28ac1978-ede7-4687-e229-95ef228364de"
      },
      "outputs": [
        {
          "name": "stdout",
          "output_type": "stream",
          "text": [
            "Accuracy:\t 0.7291428571428571\n",
            "Precision:\t 0.7502835464820681\n",
            "Recall:\t\t 0.6859512997461293\n",
            "F1 score:\t 0.7166766288105199\n",
            "ROC AUC:\t 0.7290920127311249\n"
          ]
        },
        {
          "data": {
            "image/png": "[encoded data removed]",
            "text/plain": [
              "<Figure size 432x288 with 2 Axes>"
            ]
          },
          "metadata": {
            "needs_background": "light"
          },
          "output_type": "display_data"
        }
      ],
      "source": [
        "# Import classification metrics\n",
        "from sklearn.metrics import confusion_matrix                                                        # confusion matrix\n",
        "from sklearn.metrics import accuracy_score, precision_score, recall_score, f1_score, roc_auc_score  # metrics\n",
        "\n",
        "# Create model evaluation object\n",
        "evaluation = ModelEvaluation(y_train)\n",
        "\n",
        "# Predict target class based on training set\n",
        "y_train_pred = dectree.predict(X_train)\n",
        "\n",
        "# Plot confusion matrix\n",
        "evaluation.plot_confusion_matrix(y_train_pred)"
      ]
    },
    {
      "cell_type": "markdown",
      "metadata": {
        "id": "RnR3oQSKLboM"
      },
      "source": [
        "It seems like the way the dataset was preprocessed causes this model to be underfitted on the training set."
      ]
    },
    {
      "cell_type": "markdown",
      "metadata": {
        "id": "70KLYMNTjKjZ"
      },
      "source": [
        "One way to evaluate the Decision Tree model would be to use the `train_test_split()` function to split the training set into a smaller training set and a validation set, then train the model against the smaller training set and evaluate them against the validation set.\n",
        "\n",
        "A great alternative is to use Scikit-Learn’s K-fold cross-validation feature. The following code randomly splits the training set into $10$ distinct subsets\n",
        "called folds, then it trains and evaluates the Decision Tree model $10$ times, picking a different fold for evaluation every time and training on the other $9$ folds. After that, it will return the average of predictions made on each test fold."
      ]
    },
    {
      "cell_type": "code",
      "execution_count": null,
      "metadata": {
        "colab": {
          "base_uri": "https://localhost:8080/"
        },
        "id": "rxT9_3vga1nq",
        "outputId": "18356868-72ab-4bc9-c56a-b79e1b21a51c"
      },
      "outputs": [
        {
          "name": "stdout",
          "output_type": "stream",
          "text": [
            "Accuracy:\t 0.72575\n",
            "Precision:\t 0.7459908697178977\n",
            "Recall:\t\t 0.6836271319769729\n",
            "F1 score:\t 0.7134487648331966\n",
            "ROC AUC:\t 0.7257004136323348\n"
          ]
        },
        {
          "data": {
            "image/png": "[encoded data removed]",
            "text/plain": [
              "<Figure size 432x288 with 2 Axes>"
            ]
          },
          "metadata": {
            "needs_background": "light"
          },
          "output_type": "display_data"
        }
      ],
      "source": [
        "# Import cross-validation predictor\n",
        "from sklearn.model_selection import cross_val_predict # model validation\n",
        "\n",
        "# Use cross-validation to predict target class based on training set\n",
        "y_train_pred = cross_val_predict(dectree, X_train, y_train.values.flatten(), cv=10)\n",
        "\n",
        "# Plot confusion matrix\n",
        "evaluation.plot_confusion_matrix(y_train_pred)"
      ]
    },
    {
      "cell_type": "markdown",
      "metadata": {
        "id": "t_KCXkrDlMdz"
      },
      "source": [
        "Check the importance of each feature."
      ]
    },
    {
      "cell_type": "code",
      "execution_count": null,
      "metadata": {
        "colab": {
          "base_uri": "https://localhost:8080/"
        },
        "id": "qkYRkKYjgWo7",
        "outputId": "75f6f112-50e3-4cd0-e777-9465be6910f1"
      },
      "outputs": [
        {
          "name": "stdout",
          "output_type": "stream",
          "text": [
            "1. bp (0.6841486379878592)\n",
            "2. age (0.1639902537110131)\n",
            "3. cholesterol (0.09226845074873881)\n",
            "4. weight (0.02946713082941161)\n",
            "5. height (0.012228396041321036)\n",
            "6. gluc (0.011037865290498987)\n",
            "7. active (0.004161865394963023)\n",
            "8. smoke (0.0014818211591808214)\n",
            "9. alco (0.0006886183926526189)\n",
            "10. gender (0.0005269604443607237)\n"
          ]
        }
      ],
      "source": [
        "# The impact of each feature on the model\n",
        "importances = list(zip(dectree.feature_importances_, X_train.columns))  # list of important features\n",
        "importances.sort(reverse=True)                                          # sort the importances\n",
        "\n",
        "# Print feature ranking\n",
        "i = 1\n",
        "for f in importances:                         # iterate over the list of important features\n",
        "  print(\"{}. {} ({})\".format(i, f[1], f[0]))  # print the ranking\n",
        "  i += 1"
      ]
    },
    {
      "cell_type": "markdown",
      "metadata": {
        "id": "Q4-cKRm8Qfgt"
      },
      "source": [
        "The blood pressure is the most dominant feature in this model, followed by the age. As expected, smoking, alcohol intake and gender aren't contribute much to the prediction of the model."
      ]
    },
    {
      "cell_type": "markdown",
      "metadata": {
        "id": "gxE-YJ1XdjAD"
      },
      "source": [
        "Great adventage of the Decision Tree Classifier is that we can actually see the tree and observe how the algorithm classifies training examples at each node."
      ]
    },
    {
      "cell_type": "code",
      "execution_count": null,
      "metadata": {
        "colab": {
          "base_uri": "https://localhost:8080/"
        },
        "id": "5jb58A9jc6Uj",
        "outputId": "dd17e5be-cd9b-4d66-ffeb-9e7dce2121dc"
      },
      "outputs": [
        {
          "data": {
            "image/png": "[encoded data removed]",
            "text/plain": [
              "<Figure size 864x864 with 1 Axes>"
            ]
          },
          "metadata": {
            "needs_background": "light"
          },
          "output_type": "display_data"
        }
      ],
      "source": [
        "# Plot the trained Decision Tree\n",
        "from sklearn.tree import plot_tree\n",
        "\n",
        "fig, axes = plt.subplots(figsize=(12,12))\n",
        "out = plot_tree(dectree,\n",
        "                feature_names=X_train.columns,\n",
        "                class_names=[str(x) for x in dectree.classes_],\n",
        "                filled=True)\n",
        "\n",
        "for o in out:\n",
        "  arrow = o.arrow_patch\n",
        "  if arrow is not None:\n",
        "    arrow.set_edgecolor('black')\n",
        "    arrow.set_linewidth(3)\n",
        "        \n",
        "plt.show()"
      ]
    },
    {
      "cell_type": "markdown",
      "metadata": {
        "id": "IgjH8k0lLgFL"
      },
      "source": [
        "Now, we will take a step back and change the way we preprocessed the dataset."
      ]
    },
    {
      "cell_type": "markdown",
      "metadata": {
        "id": "7OLSRFg__uim"
      },
      "source": [
        "---\n",
        "\n",
        "# **VII. Fine-tune the Model**"
      ]
    },
    {
      "cell_type": "markdown",
      "metadata": {
        "id": "KxLLI53hTmwP"
      },
      "source": [
        "### VII.1. Reprocess the Data"
      ]
    },
    {
      "cell_type": "markdown",
      "metadata": {
        "id": "Qx8_G9ZkyL58"
      },
      "source": [
        "This time, we will filter out the outliers from the original data set. They are training examples with:\n",
        "\n",
        "\n",
        "*   `ap_hi` and `ap_lo` values those below $40$ or above $200mmHg$\n",
        "*   `ap_lo` greater than `ap_hi`\n",
        "*   `bmi` values those below $10$ and above $80kg/m^2$\n",
        "\n",
        "\n",
        "The height and weight features seems to be in rational ranges but when we combine the two features to calculate the BMI, some unreasonable values start to appear. We will filter out those odd values."
      ]
    },
    {
      "cell_type": "code",
      "execution_count": null,
      "metadata": {
        "id": "xCxBvXk1xsEg"
      },
      "outputs": [],
      "source": [
        "# Create a copy of the dataset\n",
        "cardio2 = cardio.copy()\n",
        "\n",
        "# Numerical and categorical attributes\n",
        "num_attribs = ['age', 'height', 'weight', 'ap_hi', 'ap_lo']\n",
        "cat_attribs = ['gender', 'cholesterol', 'gluc', 'smoke', 'alco', 'active', 'cardio']\n",
        "\n",
        "# Covert the data type of categorical attributes into \"category\"\n",
        "for cat_attrib in cat_attribs:\n",
        "  cardio2[cat_attrib] = cardio2[cat_attrib].astype('category')\n",
        "\n",
        "# Remove the id column\n",
        "cardio2 = cardio2.drop(columns='id')\n",
        "\n",
        "# Convert the age into years\n",
        "cardio2['age'] = cardio2['age'] // 365.25\n",
        "\n",
        "# Convert gender to binary categorical attribute\n",
        "cardio2['gender'] = (cardio2['gender'].astype('int') - 1).astype('category')\n",
        "\n",
        "# Extract Systolic (ap_hi) and Diastolic (ap_lo) blood pressure features\n",
        "ap_hi = cardio2['ap_hi']\n",
        "ap_lo = cardio2['ap_lo']\n",
        "\n",
        "# Drop data points those have ap_hi and ap_lo lower than 40 and higher than 200\n",
        "cardio2 = cardio2.drop(cardio2.loc[(ap_hi < 40) | (ap_hi > 200) | (ap_lo < 40) | (ap_lo > 200)].index)\n",
        "\n",
        "# Some data points have ap_lo > ap_hi, we will filter these as well\n",
        "cardio2 = cardio2.drop(cardio2.loc[ap_lo > ap_hi].index)\n",
        "\n",
        "# Caculate BMI for every patients\n",
        "cardio2['bmi'] = cardio2['weight'] / (cardio2['height'] / 100) ** 2\n",
        "\n",
        "# Extract BMI (bmi) feature\n",
        "bmi = cardio2['bmi']\n",
        "\n",
        "# Drop data points those have bmi lower than 10 and higher than 80\n",
        "cardio2 = cardio2.drop(cardio2.loc[(bmi < 10) | (bmi > 80)].index)\n",
        "\n",
        "# Drop BMI (bmi) feature\n",
        "cardio2 = cardio2.drop(columns=['bmi'])\n"
      ]
    },
    {
      "cell_type": "markdown",
      "metadata": {
        "id": "W03Dqi9ORbOZ"
      },
      "source": [
        "Let's check the infomation of the processed dataset."
      ]
    },
    {
      "cell_type": "code",
      "execution_count": null,
      "metadata": {
        "colab": {
          "base_uri": "https://localhost:8080/"
        },
        "id": "UnZrs5hKRa0L",
        "outputId": "9a853084-e16f-4d77-b016-2f2d44d4abd5"
      },
      "outputs": [
        {
          "name": "stdout",
          "output_type": "stream",
          "text": [
            "<class 'pandas.core.frame.DataFrame'>\n",
            "Int64Index: 68586 entries, 0 to 69999\n",
            "Data columns (total 12 columns):\n",
            " #   Column       Non-Null Count  Dtype   \n",
            "---  ------       --------------  -----   \n",
            " 0   age          68586 non-null  int64   \n",
            " 1   gender       68586 non-null  category\n",
            " 2   height       68586 non-null  int64   \n",
            " 3   weight       68586 non-null  float64 \n",
            " 4   ap_hi        68586 non-null  int64   \n",
            " 5   ap_lo        68586 non-null  int64   \n",
            " 6   cholesterol  68586 non-null  category\n",
            " 7   gluc         68586 non-null  category\n",
            " 8   smoke        68586 non-null  category\n",
            " 9   alco         68586 non-null  category\n",
            " 10  active       68586 non-null  category\n",
            " 11  cardio       68586 non-null  category\n",
            "dtypes: category(7), float64(1), int64(4)\n",
            "memory usage: 3.6 MB\n"
          ]
        }
      ],
      "source": [
        "# Basic information about the dataset\n",
        "cardio2.info()"
      ]
    },
    {
      "cell_type": "markdown",
      "metadata": {
        "id": "R_s9PmTyT8DO"
      },
      "source": [
        "The dataset is dropped by around $2$%."
      ]
    },
    {
      "cell_type": "markdown",
      "metadata": {
        "id": "LB9sJ7b0UXQU"
      },
      "source": [
        "### VII.2. Exploratory Analysis"
      ]
    },
    {
      "cell_type": "code",
      "execution_count": null,
      "metadata": {
        "colab": {
          "base_uri": "https://localhost:8080/"
        },
        "id": "yEQxyXpbXF8B",
        "outputId": "60e9941d-1c5f-4804-ff2e-7f1257e0993d"
      },
      "outputs": [
        {
          "ename": "NameError",
          "evalue": "name 'num_attribs' is not defined",
          "output_type": "error",
          "traceback": [
            "\u001b[1;31m---------------------------------------------------------------------------\u001b[0m",
            "\u001b[1;31mNameError\u001b[0m                                 Traceback (most recent call last)",
            "\u001b[1;32m~\\AppData\\Local\\Temp/ipykernel_17680/64645948.py\u001b[0m in \u001b[0;36m<module>\u001b[1;34m\u001b[0m\n\u001b[0;32m      1\u001b[0m \u001b[1;31m# Bivariate analysis with respect to target class\u001b[0m\u001b[1;33m\u001b[0m\u001b[1;33m\u001b[0m\u001b[1;33m\u001b[0m\u001b[0m\n\u001b[1;32m----> 2\u001b[1;33m \u001b[1;32mfor\u001b[0m \u001b[0mattribs\u001b[0m \u001b[1;32min\u001b[0m \u001b[0mnum_attribs\u001b[0m\u001b[1;33m:\u001b[0m                                                             \u001b[1;31m# iterate over numerical attributes\u001b[0m\u001b[1;33m\u001b[0m\u001b[1;33m\u001b[0m\u001b[0m\n\u001b[0m\u001b[0;32m      3\u001b[0m   \u001b[0mfig\u001b[0m\u001b[1;33m,\u001b[0m \u001b[0maxes\u001b[0m \u001b[1;33m=\u001b[0m \u001b[0mplt\u001b[0m\u001b[1;33m.\u001b[0m\u001b[0msubplots\u001b[0m\u001b[1;33m(\u001b[0m\u001b[1;36m1\u001b[0m\u001b[1;33m,\u001b[0m \u001b[1;36m3\u001b[0m\u001b[1;33m,\u001b[0m \u001b[0mfigsize\u001b[0m\u001b[1;33m=\u001b[0m\u001b[1;33m(\u001b[0m\u001b[1;36m30\u001b[0m\u001b[1;33m,\u001b[0m\u001b[1;36m5\u001b[0m\u001b[1;33m)\u001b[0m\u001b[1;33m)\u001b[0m                                        \u001b[1;31m# setup the frame of the plot\u001b[0m\u001b[1;33m\u001b[0m\u001b[1;33m\u001b[0m\u001b[0m\n\u001b[0;32m      4\u001b[0m   \u001b[0msb\u001b[0m\u001b[1;33m.\u001b[0m\u001b[0mboxplot\u001b[0m\u001b[1;33m(\u001b[0m\u001b[0mdata\u001b[0m\u001b[1;33m=\u001b[0m\u001b[0mcardio2\u001b[0m\u001b[1;33m,\u001b[0m \u001b[0mx\u001b[0m\u001b[1;33m=\u001b[0m\u001b[0mattribs\u001b[0m\u001b[1;33m,\u001b[0m \u001b[0my\u001b[0m\u001b[1;33m=\u001b[0m\u001b[1;34m'cardio'\u001b[0m\u001b[1;33m,\u001b[0m \u001b[0morient\u001b[0m\u001b[1;33m=\u001b[0m\u001b[1;34m'horizontal'\u001b[0m\u001b[1;33m,\u001b[0m \u001b[0max\u001b[0m\u001b[1;33m=\u001b[0m\u001b[0maxes\u001b[0m\u001b[1;33m[\u001b[0m\u001b[1;36m0\u001b[0m\u001b[1;33m]\u001b[0m\u001b[1;33m)\u001b[0m      \u001b[1;31m# box plot\u001b[0m\u001b[1;33m\u001b[0m\u001b[1;33m\u001b[0m\u001b[0m\n\u001b[0;32m      5\u001b[0m   \u001b[0msb\u001b[0m\u001b[1;33m.\u001b[0m\u001b[0mhistplot\u001b[0m\u001b[1;33m(\u001b[0m\u001b[0mdata\u001b[0m\u001b[1;33m=\u001b[0m\u001b[0mcardio2\u001b[0m\u001b[1;33m[\u001b[0m\u001b[0mattribs\u001b[0m\u001b[1;33m]\u001b[0m\u001b[1;33m,\u001b[0m \u001b[0mkde\u001b[0m\u001b[1;33m=\u001b[0m\u001b[1;32mTrue\u001b[0m\u001b[1;33m,\u001b[0m \u001b[0max\u001b[0m\u001b[1;33m=\u001b[0m\u001b[0maxes\u001b[0m\u001b[1;33m[\u001b[0m\u001b[1;36m1\u001b[0m\u001b[1;33m]\u001b[0m\u001b[1;33m)\u001b[0m                              \u001b[1;31m# histogram with kde\u001b[0m\u001b[1;33m\u001b[0m\u001b[1;33m\u001b[0m\u001b[0m\n",
            "\u001b[1;31mNameError\u001b[0m: name 'num_attribs' is not defined"
          ]
        }
      ],
      "source": [
        "# Bivariate analysis with respect to target class\n",
        "fig , ax = plt.subplots(nrows = len(num_attribs), figsize = (8,15))\n",
        "count = 0\n",
        "for number in num_attribs:\n",
        "\tsb.kdeplot(data = cardio2, x =number, hue = \"cardio\", ax = ax[count])\n",
        "\tcount +=1"
      ]
    },
    {
      "cell_type": "markdown",
      "metadata": {
        "id": "mQfjP0UUXF8C"
      },
      "source": [
        "Use `catplot()` to observe the correlations between categorical attributes and the target variable `cardio`."
      ]
    },
    {
      "cell_type": "code",
      "execution_count": null,
      "metadata": {
        "colab": {
          "base_uri": "https://localhost:8080/"
        },
        "id": "WrfwUk3RXF8C",
        "outputId": "d2d58ede-1ae6-4662-98a9-5793a0157416"
      },
      "outputs": [
        {
          "data": {
            "text/plain": [
              "<seaborn.axisgrid.FacetGrid at 0x7fc7e06dc6d0>"
            ]
          },
          "execution_count": 65,
          "metadata": {},
          "output_type": "execute_result"
        },
        {
          "data": {
            "image/png": "[encoded data removed]",
            "text/plain": [
              "<Figure size 762.375x360 with 2 Axes>"
            ]
          },
          "metadata": {
            "needs_background": "light"
          },
          "output_type": "display_data"
        }
      ],
      "source": [
        "# Presence and absence of CVDs over each categorical attribute\n",
        "cat_df = pd.melt(cardio2, id_vars=['cardio'], value_vars=cat_attribs[:-1])        # dataframe of categorical attributes\n",
        "sb.catplot(x='variable', hue='value', col='cardio', data=cat_df, kind='count')    # categorical plot"
      ]
    },
    {
      "cell_type": "markdown",
      "metadata": {
        "id": "q73E-EwNXF8C"
      },
      "source": [
        "It can be seen that patients with CVD have higher cholesterol and glucose level."
      ]
    },
    {
      "cell_type": "markdown",
      "metadata": {
        "id": "_sXKNzLwR5m-"
      },
      "source": [
        "Correlations matrix."
      ]
    },
    {
      "cell_type": "code",
      "execution_count": null,
      "metadata": {
        "colab": {
          "base_uri": "https://localhost:8080/"
        },
        "id": "Ox-W0T_rxsEh",
        "outputId": "76bea906-ddc8-4adb-9f77-02bd6556ca0c"
      },
      "outputs": [
        {
          "data": {
            "text/plain": [
              "<matplotlib.axes._subplots.AxesSubplot at 0x7fc7dfe916d0>"
            ]
          },
          "execution_count": 66,
          "metadata": {},
          "output_type": "execute_result"
        },
        {
          "data": {
            "image/png": "[encoded data removed]",
            "text/plain": [
              "<Figure size 792x648 with 2 Axes>"
            ]
          },
          "metadata": {
            "needs_background": "light"
          },
          "output_type": "display_data"
        }
      ],
      "source": [
        "# Calculate the correlations between attributes\n",
        "corr = cardio2.astype('float').corr()\n",
        "cmap = sb.diverging_palette(220, 10, as_cmap=True)\n",
        "\n",
        "# Generate a mask for the upper triangle\n",
        "mask = np.zeros_like(corr, dtype=np.bool)\n",
        "mask[np.triu_indices_from(mask)] = True\n",
        "\n",
        "# Set up the matplotlib figure\n",
        "fig, axes = plt.subplots(figsize=(11, 9))\n",
        "\n",
        "# Draw the heatmap with the mask and correct aspect ratio\n",
        "sb.heatmap(corr, mask=mask, cmap=cmap, vmax=.3, center=0, annot=True,\n",
        "           square=True, linewidths=.5, cbar_kws={\"shrink\": .5})"
      ]
    },
    {
      "cell_type": "markdown",
      "metadata": {
        "id": "w6wsYccaUvs3"
      },
      "source": [
        "### VII.3. Prepare the Data"
      ]
    },
    {
      "cell_type": "markdown",
      "metadata": {
        "id": "DJPpSVDSYDOG"
      },
      "source": [
        "Scale features."
      ]
    },
    {
      "cell_type": "code",
      "execution_count": null,
      "metadata": {
        "id": "O8JD2wN3xsEh"
      },
      "outputs": [],
      "source": [
        "# Import scaler\n",
        "from sklearn.preprocessing import StandardScaler\n",
        "\n",
        "# Define scaler object\n",
        "scaler = StandardScaler()\n",
        "\n",
        "# Scale numerical attributes\n",
        "cardio2[num_attribs] = scaler.fit_transform(cardio2[num_attribs])"
      ]
    },
    {
      "cell_type": "markdown",
      "metadata": {
        "id": "OnDjQYFFYGwX"
      },
      "source": [
        "Split the dataset."
      ]
    },
    {
      "cell_type": "code",
      "execution_count": null,
      "metadata": {
        "id": "FgVDwoZLxsEh"
      },
      "outputs": [],
      "source": [
        "# Import splitter\n",
        "from sklearn.model_selection import train_test_split\n",
        "\n",
        "# Separate the dataset\n",
        "cardio2_label = pd.DataFrame(cardio2['cardio']) # label\n",
        "cardio2 = cardio2.drop('cardio', axis=1)        # predictors\n",
        "\n",
        "# Split the dataset into Train and Test\n",
        "X_train, X_test, y_train, y_test = train_test_split(cardio2, cardio2_label, test_size=0.2, random_state=42)"
      ]
    },
    {
      "cell_type": "markdown",
      "metadata": {
        "id": "qff6YK_pU-CX"
      },
      "source": [
        "### VII.4. Retrain the Model"
      ]
    },
    {
      "cell_type": "markdown",
      "metadata": {
        "id": "alhMEo40WQ-1"
      },
      "source": [
        "##### VII.4.1. Train and Evaluate on Training Set"
      ]
    },
    {
      "cell_type": "code",
      "execution_count": null,
      "metadata": {
        "colab": {
          "base_uri": "https://localhost:8080/"
        },
        "id": "-QbC1XVqyUaX",
        "outputId": "496286e5-a72a-41f6-93cb-f0986ee4cde0"
      },
      "outputs": [
        {
          "name": "stdout",
          "output_type": "stream",
          "text": [
            "Fitting 10 folds for each of 10 candidates, totalling 100 fits\n",
            "[CV] criterion=gini, max_depth=5, random_state=42 ....................\n",
            "[CV]  criterion=gini, max_depth=5, random_state=42, score=0.786, total=   0.1s\n",
            "[CV] criterion=gini, max_depth=5, random_state=42 ....................\n",
            "[CV]  criterion=gini, max_depth=5, random_state=42, score=0.795, total=   0.1s\n",
            "[CV] criterion=gini, max_depth=5, random_state=42 ....................\n"
          ]
        },
        {
          "name": "stderr",
          "output_type": "stream",
          "text": [
            "[Parallel(n_jobs=1)]: Using backend SequentialBackend with 1 concurrent workers.\n",
            "[Parallel(n_jobs=1)]: Done   1 out of   1 | elapsed:    0.1s remaining:    0.0s\n",
            "[Parallel(n_jobs=1)]: Done   2 out of   2 | elapsed:    0.2s remaining:    0.0s\n"
          ]
        },
        {
          "name": "stdout",
          "output_type": "stream",
          "text": [
            "[CV]  criterion=gini, max_depth=5, random_state=42, score=0.784, total=   0.1s\n",
            "[CV] criterion=gini, max_depth=5, random_state=42 ....................\n",
            "[CV]  criterion=gini, max_depth=5, random_state=42, score=0.785, total=   0.1s\n",
            "[CV] criterion=gini, max_depth=5, random_state=42 ....................\n",
            "[CV]  criterion=gini, max_depth=5, random_state=42, score=0.804, total=   0.1s\n",
            "[CV] criterion=gini, max_depth=5, random_state=42 ....................\n",
            "[CV]  criterion=gini, max_depth=5, random_state=42, score=0.795, total=   0.1s\n",
            "[CV] criterion=gini, max_depth=5, random_state=42 ....................\n",
            "[CV]  criterion=gini, max_depth=5, random_state=42, score=0.796, total=   0.1s\n",
            "[CV] criterion=gini, max_depth=5, random_state=42 ....................\n",
            "[CV]  criterion=gini, max_depth=5, random_state=42, score=0.795, total=   0.1s\n",
            "[CV] criterion=gini, max_depth=5, random_state=42 ....................\n",
            "[CV]  criterion=gini, max_depth=5, random_state=42, score=0.781, total=   0.1s\n",
            "[CV] criterion=gini, max_depth=5, random_state=42 ....................\n",
            "[CV]  criterion=gini, max_depth=5, random_state=42, score=0.803, total=   0.1s\n",
            "[CV] criterion=gini, max_depth=6, random_state=42 ....................\n",
            "[CV]  criterion=gini, max_depth=6, random_state=42, score=0.788, total=   0.1s\n",
            "[CV] criterion=gini, max_depth=6, random_state=42 ....................\n",
            "[CV]  criterion=gini, max_depth=6, random_state=42, score=0.797, total=   0.1s\n",
            "[CV] criterion=gini, max_depth=6, random_state=42 ....................\n",
            "[CV]  criterion=gini, max_depth=6, random_state=42, score=0.784, total=   0.1s\n",
            "[CV] criterion=gini, max_depth=6, random_state=42 ....................\n",
            "[CV]  criterion=gini, max_depth=6, random_state=42, score=0.788, total=   0.1s\n",
            "[CV] criterion=gini, max_depth=6, random_state=42 ....................\n",
            "[CV]  criterion=gini, max_depth=6, random_state=42, score=0.805, total=   0.1s\n",
            "[CV] criterion=gini, max_depth=6, random_state=42 ....................\n",
            "[CV]  criterion=gini, max_depth=6, random_state=42, score=0.798, total=   0.1s\n",
            "[CV] criterion=gini, max_depth=6, random_state=42 ....................\n",
            "[CV]  criterion=gini, max_depth=6, random_state=42, score=0.798, total=   0.1s\n",
            "[CV] criterion=gini, max_depth=6, random_state=42 ....................\n",
            "[CV]  criterion=gini, max_depth=6, random_state=42, score=0.799, total=   0.1s\n",
            "[CV] criterion=gini, max_depth=6, random_state=42 ....................\n",
            "[CV]  criterion=gini, max_depth=6, random_state=42, score=0.783, total=   0.1s\n",
            "[CV] criterion=gini, max_depth=6, random_state=42 ....................\n",
            "[CV]  criterion=gini, max_depth=6, random_state=42, score=0.806, total=   0.1s\n",
            "[CV] criterion=gini, max_depth=7, random_state=42 ....................\n",
            "[CV]  criterion=gini, max_depth=7, random_state=42, score=0.786, total=   0.1s\n",
            "[CV] criterion=gini, max_depth=7, random_state=42 ....................\n",
            "[CV]  criterion=gini, max_depth=7, random_state=42, score=0.796, total=   0.1s\n",
            "[CV] criterion=gini, max_depth=7, random_state=42 ....................\n",
            "[CV]  criterion=gini, max_depth=7, random_state=42, score=0.786, total=   0.1s\n",
            "[CV] criterion=gini, max_depth=7, random_state=42 ....................\n",
            "[CV]  criterion=gini, max_depth=7, random_state=42, score=0.786, total=   0.1s\n",
            "[CV] criterion=gini, max_depth=7, random_state=42 ....................\n",
            "[CV]  criterion=gini, max_depth=7, random_state=42, score=0.801, total=   0.1s\n",
            "[CV] criterion=gini, max_depth=7, random_state=42 ....................\n",
            "[CV]  criterion=gini, max_depth=7, random_state=42, score=0.796, total=   0.1s\n",
            "[CV] criterion=gini, max_depth=7, random_state=42 ....................\n",
            "[CV]  criterion=gini, max_depth=7, random_state=42, score=0.797, total=   0.1s\n",
            "[CV] criterion=gini, max_depth=7, random_state=42 ....................\n",
            "[CV]  criterion=gini, max_depth=7, random_state=42, score=0.797, total=   0.1s\n",
            "[CV] criterion=gini, max_depth=7, random_state=42 ....................\n",
            "[CV]  criterion=gini, max_depth=7, random_state=42, score=0.782, total=   0.1s\n",
            "[CV] criterion=gini, max_depth=7, random_state=42 ....................\n",
            "[CV]  criterion=gini, max_depth=7, random_state=42, score=0.804, total=   0.1s\n",
            "[CV] criterion=gini, max_depth=8, random_state=42 ....................\n",
            "[CV]  criterion=gini, max_depth=8, random_state=42, score=0.786, total=   0.1s\n",
            "[CV] criterion=gini, max_depth=8, random_state=42 ....................\n",
            "[CV]  criterion=gini, max_depth=8, random_state=42, score=0.795, total=   0.1s\n",
            "[CV] criterion=gini, max_depth=8, random_state=42 ....................\n",
            "[CV]  criterion=gini, max_depth=8, random_state=42, score=0.787, total=   0.1s\n",
            "[CV] criterion=gini, max_depth=8, random_state=42 ....................\n",
            "[CV]  criterion=gini, max_depth=8, random_state=42, score=0.784, total=   0.1s\n",
            "[CV] criterion=gini, max_depth=8, random_state=42 ....................\n",
            "[CV]  criterion=gini, max_depth=8, random_state=42, score=0.799, total=   0.1s\n",
            "[CV] criterion=gini, max_depth=8, random_state=42 ....................\n",
            "[CV]  criterion=gini, max_depth=8, random_state=42, score=0.795, total=   0.1s\n",
            "[CV] criterion=gini, max_depth=8, random_state=42 ....................\n",
            "[CV]  criterion=gini, max_depth=8, random_state=42, score=0.795, total=   0.1s\n",
            "[CV] criterion=gini, max_depth=8, random_state=42 ....................\n",
            "[CV]  criterion=gini, max_depth=8, random_state=42, score=0.794, total=   0.1s\n",
            "[CV] criterion=gini, max_depth=8, random_state=42 ....................\n",
            "[CV]  criterion=gini, max_depth=8, random_state=42, score=0.780, total=   0.1s\n",
            "[CV] criterion=gini, max_depth=8, random_state=42 ....................\n",
            "[CV]  criterion=gini, max_depth=8, random_state=42, score=0.804, total=   0.1s\n",
            "[CV] criterion=gini, max_depth=9, random_state=42 ....................\n",
            "[CV]  criterion=gini, max_depth=9, random_state=42, score=0.781, total=   0.1s\n",
            "[CV] criterion=gini, max_depth=9, random_state=42 ....................\n",
            "[CV]  criterion=gini, max_depth=9, random_state=42, score=0.790, total=   0.1s\n",
            "[CV] criterion=gini, max_depth=9, random_state=42 ....................\n",
            "[CV]  criterion=gini, max_depth=9, random_state=42, score=0.779, total=   0.1s\n",
            "[CV] criterion=gini, max_depth=9, random_state=42 ....................\n",
            "[CV]  criterion=gini, max_depth=9, random_state=42, score=0.779, total=   0.1s\n",
            "[CV] criterion=gini, max_depth=9, random_state=42 ....................\n",
            "[CV]  criterion=gini, max_depth=9, random_state=42, score=0.794, total=   0.1s\n",
            "[CV] criterion=gini, max_depth=9, random_state=42 ....................\n",
            "[CV]  criterion=gini, max_depth=9, random_state=42, score=0.793, total=   0.1s\n",
            "[CV] criterion=gini, max_depth=9, random_state=42 ....................\n",
            "[CV]  criterion=gini, max_depth=9, random_state=42, score=0.793, total=   0.1s\n",
            "[CV] criterion=gini, max_depth=9, random_state=42 ....................\n",
            "[CV]  criterion=gini, max_depth=9, random_state=42, score=0.791, total=   0.1s\n",
            "[CV] criterion=gini, max_depth=9, random_state=42 ....................\n",
            "[CV]  criterion=gini, max_depth=9, random_state=42, score=0.778, total=   0.1s\n",
            "[CV] criterion=gini, max_depth=9, random_state=42 ....................\n",
            "[CV]  criterion=gini, max_depth=9, random_state=42, score=0.798, total=   0.1s\n",
            "[CV] criterion=entropy, max_depth=5, random_state=42 .................\n",
            "[CV]  criterion=entropy, max_depth=5, random_state=42, score=0.786, total=   0.1s\n",
            "[CV] criterion=entropy, max_depth=5, random_state=42 .................\n",
            "[CV]  criterion=entropy, max_depth=5, random_state=42, score=0.796, total=   0.1s\n",
            "[CV] criterion=entropy, max_depth=5, random_state=42 .................\n",
            "[CV]  criterion=entropy, max_depth=5, random_state=42, score=0.785, total=   0.1s\n",
            "[CV] criterion=entropy, max_depth=5, random_state=42 .................\n",
            "[CV]  criterion=entropy, max_depth=5, random_state=42, score=0.785, total=   0.1s\n",
            "[CV] criterion=entropy, max_depth=5, random_state=42 .................\n",
            "[CV]  criterion=entropy, max_depth=5, random_state=42, score=0.804, total=   0.1s\n",
            "[CV] criterion=entropy, max_depth=5, random_state=42 .................\n",
            "[CV]  criterion=entropy, max_depth=5, random_state=42, score=0.796, total=   0.1s\n",
            "[CV] criterion=entropy, max_depth=5, random_state=42 .................\n",
            "[CV]  criterion=entropy, max_depth=5, random_state=42, score=0.796, total=   0.1s\n",
            "[CV] criterion=entropy, max_depth=5, random_state=42 .................\n",
            "[CV]  criterion=entropy, max_depth=5, random_state=42, score=0.795, total=   0.1s\n",
            "[CV] criterion=entropy, max_depth=5, random_state=42 .................\n",
            "[CV]  criterion=entropy, max_depth=5, random_state=42, score=0.781, total=   0.1s\n",
            "[CV] criterion=entropy, max_depth=5, random_state=42 .................\n",
            "[CV]  criterion=entropy, max_depth=5, random_state=42, score=0.803, total=   0.1s\n",
            "[CV] criterion=entropy, max_depth=6, random_state=42 .................\n",
            "[CV]  criterion=entropy, max_depth=6, random_state=42, score=0.787, total=   0.1s\n",
            "[CV] criterion=entropy, max_depth=6, random_state=42 .................\n",
            "[CV]  criterion=entropy, max_depth=6, random_state=42, score=0.797, total=   0.1s\n",
            "[CV] criterion=entropy, max_depth=6, random_state=42 .................\n",
            "[CV]  criterion=entropy, max_depth=6, random_state=42, score=0.785, total=   0.1s\n",
            "[CV] criterion=entropy, max_depth=6, random_state=42 .................\n",
            "[CV]  criterion=entropy, max_depth=6, random_state=42, score=0.787, total=   0.1s\n",
            "[CV] criterion=entropy, max_depth=6, random_state=42 .................\n",
            "[CV]  criterion=entropy, max_depth=6, random_state=42, score=0.805, total=   0.1s\n",
            "[CV] criterion=entropy, max_depth=6, random_state=42 .................\n",
            "[CV]  criterion=entropy, max_depth=6, random_state=42, score=0.797, total=   0.1s\n",
            "[CV] criterion=entropy, max_depth=6, random_state=42 .................\n",
            "[CV]  criterion=entropy, max_depth=6, random_state=42, score=0.797, total=   0.1s\n",
            "[CV] criterion=entropy, max_depth=6, random_state=42 .................\n",
            "[CV]  criterion=entropy, max_depth=6, random_state=42, score=0.799, total=   0.1s\n",
            "[CV] criterion=entropy, max_depth=6, random_state=42 .................\n",
            "[CV]  criterion=entropy, max_depth=6, random_state=42, score=0.783, total=   0.1s\n",
            "[CV] criterion=entropy, max_depth=6, random_state=42 .................\n",
            "[CV]  criterion=entropy, max_depth=6, random_state=42, score=0.805, total=   0.1s\n",
            "[CV] criterion=entropy, max_depth=7, random_state=42 .................\n",
            "[CV]  criterion=entropy, max_depth=7, random_state=42, score=0.787, total=   0.1s\n",
            "[CV] criterion=entropy, max_depth=7, random_state=42 .................\n",
            "[CV]  criterion=entropy, max_depth=7, random_state=42, score=0.796, total=   0.1s\n",
            "[CV] criterion=entropy, max_depth=7, random_state=42 .................\n",
            "[CV]  criterion=entropy, max_depth=7, random_state=42, score=0.788, total=   0.1s\n",
            "[CV] criterion=entropy, max_depth=7, random_state=42 .................\n",
            "[CV]  criterion=entropy, max_depth=7, random_state=42, score=0.787, total=   0.1s\n",
            "[CV] criterion=entropy, max_depth=7, random_state=42 .................\n",
            "[CV]  criterion=entropy, max_depth=7, random_state=42, score=0.802, total=   0.1s\n",
            "[CV] criterion=entropy, max_depth=7, random_state=42 .................\n",
            "[CV]  criterion=entropy, max_depth=7, random_state=42, score=0.797, total=   0.1s\n",
            "[CV] criterion=entropy, max_depth=7, random_state=42 .................\n",
            "[CV]  criterion=entropy, max_depth=7, random_state=42, score=0.796, total=   0.1s\n",
            "[CV] criterion=entropy, max_depth=7, random_state=42 .................\n",
            "[CV]  criterion=entropy, max_depth=7, random_state=42, score=0.799, total=   0.1s\n",
            "[CV] criterion=entropy, max_depth=7, random_state=42 .................\n",
            "[CV]  criterion=entropy, max_depth=7, random_state=42, score=0.782, total=   0.1s\n",
            "[CV] criterion=entropy, max_depth=7, random_state=42 .................\n",
            "[CV]  criterion=entropy, max_depth=7, random_state=42, score=0.805, total=   0.1s\n",
            "[CV] criterion=entropy, max_depth=8, random_state=42 .................\n",
            "[CV]  criterion=entropy, max_depth=8, random_state=42, score=0.786, total=   0.1s\n",
            "[CV] criterion=entropy, max_depth=8, random_state=42 .................\n",
            "[CV]  criterion=entropy, max_depth=8, random_state=42, score=0.794, total=   0.1s\n",
            "[CV] criterion=entropy, max_depth=8, random_state=42 .................\n",
            "[CV]  criterion=entropy, max_depth=8, random_state=42, score=0.786, total=   0.1s\n",
            "[CV] criterion=entropy, max_depth=8, random_state=42 .................\n",
            "[CV]  criterion=entropy, max_depth=8, random_state=42, score=0.786, total=   0.1s\n",
            "[CV] criterion=entropy, max_depth=8, random_state=42 .................\n",
            "[CV]  criterion=entropy, max_depth=8, random_state=42, score=0.802, total=   0.1s\n",
            "[CV] criterion=entropy, max_depth=8, random_state=42 .................\n",
            "[CV]  criterion=entropy, max_depth=8, random_state=42, score=0.796, total=   0.1s\n",
            "[CV] criterion=entropy, max_depth=8, random_state=42 .................\n",
            "[CV]  criterion=entropy, max_depth=8, random_state=42, score=0.794, total=   0.1s\n",
            "[CV] criterion=entropy, max_depth=8, random_state=42 .................\n",
            "[CV]  criterion=entropy, max_depth=8, random_state=42, score=0.796, total=   0.1s\n",
            "[CV] criterion=entropy, max_depth=8, random_state=42 .................\n",
            "[CV]  criterion=entropy, max_depth=8, random_state=42, score=0.781, total=   0.1s\n",
            "[CV] criterion=entropy, max_depth=8, random_state=42 .................\n",
            "[CV]  criterion=entropy, max_depth=8, random_state=42, score=0.803, total=   0.1s\n",
            "[CV] criterion=entropy, max_depth=9, random_state=42 .................\n",
            "[CV]  criterion=entropy, max_depth=9, random_state=42, score=0.786, total=   0.1s\n",
            "[CV] criterion=entropy, max_depth=9, random_state=42 .................\n",
            "[CV]  criterion=entropy, max_depth=9, random_state=42, score=0.789, total=   0.1s\n",
            "[CV] criterion=entropy, max_depth=9, random_state=42 .................\n",
            "[CV]  criterion=entropy, max_depth=9, random_state=42, score=0.782, total=   0.1s\n",
            "[CV] criterion=entropy, max_depth=9, random_state=42 .................\n",
            "[CV]  criterion=entropy, max_depth=9, random_state=42, score=0.778, total=   0.1s\n",
            "[CV] criterion=entropy, max_depth=9, random_state=42 .................\n",
            "[CV]  criterion=entropy, max_depth=9, random_state=42, score=0.796, total=   0.1s\n",
            "[CV] criterion=entropy, max_depth=9, random_state=42 .................\n",
            "[CV]  criterion=entropy, max_depth=9, random_state=42, score=0.793, total=   0.1s\n",
            "[CV] criterion=entropy, max_depth=9, random_state=42 .................\n",
            "[CV]  criterion=entropy, max_depth=9, random_state=42, score=0.793, total=   0.1s\n",
            "[CV] criterion=entropy, max_depth=9, random_state=42 .................\n",
            "[CV]  criterion=entropy, max_depth=9, random_state=42, score=0.792, total=   0.1s\n",
            "[CV] criterion=entropy, max_depth=9, random_state=42 .................\n",
            "[CV]  criterion=entropy, max_depth=9, random_state=42, score=0.779, total=   0.1s\n",
            "[CV] criterion=entropy, max_depth=9, random_state=42 .................\n",
            "[CV]  criterion=entropy, max_depth=9, random_state=42, score=0.801, total=   0.1s\n"
          ]
        },
        {
          "name": "stderr",
          "output_type": "stream",
          "text": [
            "[Parallel(n_jobs=1)]: Done 100 out of 100 | elapsed:   10.1s finished\n"
          ]
        },
        {
          "data": {
            "text/plain": [
              "{'criterion': 'gini', 'max_depth': 6, 'random_state': 42}"
            ]
          },
          "execution_count": 69,
          "metadata": {},
          "output_type": "execute_result"
        }
      ],
      "source": [
        "# Import classification model and hyper-parameter optimizer\n",
        "from sklearn.model_selection import GridSearchCV  # optimizer\n",
        "from sklearn.tree import DecisionTreeClassifier   # model\n",
        "\n",
        "# A dictionary contains hyper-parameters combinations that we want to examine\n",
        "dectree_param_grid = {\n",
        "    'criterion': ['gini', 'entropy'],\n",
        "    'max_depth': range(5, 10),\n",
        "    'random_state': [42]\n",
        "}\n",
        "\n",
        "# Setup grid search\n",
        "search_dectree = GridSearchCV(DecisionTreeClassifier(),\n",
        "                              param_grid=dectree_param_grid,\n",
        "                              scoring='roc_auc',\n",
        "                              cv=10,\n",
        "                              verbose=3)\n",
        "\n",
        "# Fit the training set on the model with combinations of hyper-parameters\n",
        "search_dectree.fit(X_train, y_train)\n",
        "\n",
        "# The best hyper-parameters combination\n",
        "search_dectree.best_params_"
      ]
    },
    {
      "cell_type": "code",
      "execution_count": null,
      "metadata": {
        "colab": {
          "base_uri": "https://localhost:8080/"
        },
        "id": "XgK8APoVyUaX",
        "outputId": "1451f1a2-9d75-4be7-8f44-b7c00f85ae5e"
      },
      "outputs": [
        {
          "data": {
            "text/plain": [
              "DecisionTreeClassifier(ccp_alpha=0.0, class_weight=None, criterion='gini',\n",
              "                       max_depth=6, max_features=None, max_leaf_nodes=None,\n",
              "                       min_impurity_decrease=0.0, min_impurity_split=None,\n",
              "                       min_samples_leaf=1, min_samples_split=2,\n",
              "                       min_weight_fraction_leaf=0.0, presort='deprecated',\n",
              "                       random_state=42, splitter='best')"
            ]
          },
          "execution_count": 70,
          "metadata": {},
          "output_type": "execute_result"
        }
      ],
      "source": [
        "# Create model object with the best found hyper-parameters combination\n",
        "dectree = search_dectree.best_estimator_\n",
        "\n",
        "# Fit the training set on the model\n",
        "dectree.fit(X_train, y_train)"
      ]
    },
    {
      "cell_type": "code",
      "execution_count": null,
      "metadata": {
        "colab": {
          "base_uri": "https://localhost:8080/",
          "height": 355
        },
        "id": "MD6aPt9fyUaX",
        "outputId": "55fc577b-6d8e-4946-9b5e-5c8935d51260"
      },
      "outputs": [
        {
          "name": "stdout",
          "output_type": "stream",
          "text": [
            "Accuracy:\t 0.734234891011154\n",
            "Precision:\t 0.7645279213412328\n",
            "Recall:\t\t 0.6695984985095499\n",
            "F1 score:\t 0.7139213685945225\n",
            "ROC AUC:\t 0.7336257522336519\n"
          ]
        },
        {
          "data": {
            "image/png": "[encoded data removed]",
            "text/plain": [
              "<Figure size 432x288 with 2 Axes>"
            ]
          },
          "metadata": {
            "needs_background": "light"
          },
          "output_type": "display_data"
        }
      ],
      "source": [
        "# Import classification metrics\n",
        "from sklearn.metrics import confusion_matrix                                                        # confusion matrix\n",
        "from sklearn.metrics import accuracy_score, precision_score, recall_score, f1_score, roc_auc_score  # metrics\n",
        "\n",
        "# Create model evaluation object\n",
        "evaluation = ModelEvaluation(y_train)\n",
        "\n",
        "# Predict target class based on training set\n",
        "y_train_pred = dectree.predict(X_train)\n",
        "\n",
        "# Plot confusion matrix\n",
        "evaluation.plot_confusion_matrix(y_train_pred)"
      ]
    },
    {
      "cell_type": "code",
      "execution_count": null,
      "metadata": {
        "colab": {
          "base_uri": "https://localhost:8080/",
          "height": 356
        },
        "id": "ib3AqbjHyUaX",
        "outputId": "73e61042-4cd0-4101-d6ba-7e34e40ef70f"
      },
      "outputs": [
        {
          "name": "stdout",
          "output_type": "stream",
          "text": [
            "Accuracy:\t 0.7294233432966392\n",
            "Precision:\t 0.76027194797517\n",
            "Recall:\t\t 0.6625694623339344\n",
            "F1 score:\t 0.7080662288118929\n",
            "ROC AUC:\t 0.7287933067221215\n"
          ]
        },
        {
          "data": {
            "image/png": "[encoded data removed]",
            "text/plain": [
              "<Figure size 432x288 with 2 Axes>"
            ]
          },
          "metadata": {
            "needs_background": "light"
          },
          "output_type": "display_data"
        }
      ],
      "source": [
        "# Import cross-validation predictor\n",
        "from sklearn.model_selection import cross_val_predict # model validation\n",
        "\n",
        "# Use cross-validation to predict target class based on training set\n",
        "y_train_pred = cross_val_predict(dectree, X_train, y_train.values.flatten(), cv=10)\n",
        "\n",
        "# Plot confusion matrix\n",
        "evaluation.plot_confusion_matrix(y_train_pred)"
      ]
    },
    {
      "cell_type": "code",
      "execution_count": null,
      "metadata": {
        "colab": {
          "base_uri": "https://localhost:8080/"
        },
        "id": "RIIlunsSyUaY",
        "outputId": "fad70317-a104-4574-ebb4-ba702fa4f509"
      },
      "outputs": [
        {
          "name": "stdout",
          "output_type": "stream",
          "text": [
            "1. ap_hi (0.7715068748440467)\n",
            "2. age (0.1196285190111651)\n",
            "3. cholesterol (0.07671518223395093)\n",
            "4. weight (0.009091014688636238)\n",
            "5. ap_lo (0.006712924399592935)\n",
            "6. active (0.006250617005920727)\n",
            "7. gluc (0.005416330677076446)\n",
            "8. height (0.003329713752875033)\n",
            "9. smoke (0.001348823386736047)\n",
            "10. gender (0.0)\n",
            "11. alco (0.0)\n"
          ]
        }
      ],
      "source": [
        "# The impact of each feature on the model\n",
        "importances = list(zip(dectree.feature_importances_, X_train.columns))  # list of important features\n",
        "importances.sort(reverse=True)                                          # sort the importances\n",
        "\n",
        "# Print feature ranking\n",
        "i = 1\n",
        "for f in importances:                         # iterate over the list of important features\n",
        "  print(\"{}. {} ({})\".format(i, f[1], f[0]))  # print the ranking\n",
        "  i += 1"
      ]
    },
    {
      "cell_type": "code",
      "execution_count": null,
      "metadata": {
        "colab": {
          "base_uri": "https://localhost:8080/",
          "height": 683
        },
        "id": "sOTQ14kJfSxi",
        "outputId": "98666ceb-a2e1-42f1-f594-fce3aee287dd"
      },
      "outputs": [
        {
          "data": {
            "image/png": "[encoded data removed]",
            "text/plain": [
              "<Figure size 864x864 with 1 Axes>"
            ]
          },
          "metadata": {
            "needs_background": "light"
          },
          "output_type": "display_data"
        }
      ],
      "source": [
        "# Plot the trained Decision Tree\n",
        "from sklearn.tree import plot_tree\n",
        "\n",
        "fig, axes = plt.subplots(figsize=(12,12))\n",
        "out = plot_tree(dectree,\n",
        "                feature_names=X_train.columns,\n",
        "                class_names=[str(x) for x in dectree.classes_],\n",
        "                filled=True)\n",
        "\n",
        "for o in out:\n",
        "  arrow = o.arrow_patch\n",
        "  if arrow is not None:\n",
        "    arrow.set_edgecolor('black')\n",
        "    arrow.set_linewidth(3)\n",
        "        \n",
        "plt.show()"
      ]
    },
    {
      "cell_type": "markdown",
      "metadata": {
        "id": "uBcpufYbWdsi"
      },
      "source": [
        "##### VII.4.2. Evaluate on Test Set"
      ]
    },
    {
      "cell_type": "code",
      "execution_count": null,
      "metadata": {
        "colab": {
          "base_uri": "https://localhost:8080/",
          "height": 355
        },
        "id": "MKMZjP2GyUaY",
        "outputId": "7fef7d89-e29c-4c05-e38d-1beb844a3874"
      },
      "outputs": [
        {
          "name": "stdout",
          "output_type": "stream",
          "text": [
            "Accuracy:\t 0.727219711328182\n",
            "Precision:\t 0.7534223424032449\n",
            "Recall:\t\t 0.6613262127280819\n",
            "F1 score:\t 0.704376678780218\n",
            "ROC AUC:\t 0.7261052734845799\n"
          ]
        },
        {
          "data": {
            "image/png": "[encoded data removed]",
            "text/plain": [
              "<Figure size 432x288 with 2 Axes>"
            ]
          },
          "metadata": {
            "needs_background": "light"
          },
          "output_type": "display_data"
        }
      ],
      "source": [
        "# Create model evaluation object\n",
        "evaluation = ModelEvaluation(y_test)\n",
        "\n",
        "# Predict target class based on test set\n",
        "y_test_pred = dectree.predict(X_test)\n",
        "\n",
        "# Plot confusion matrix\n",
        "evaluation.plot_confusion_matrix(y_test_pred)"
      ]
    },
    {
      "cell_type": "code",
      "execution_count": null,
      "metadata": {
        "colab": {
          "base_uri": "https://localhost:8080/",
          "height": 314
        },
        "id": "Hv3UYaxnyUaY",
        "outputId": "a0cf8e60-9143-4dda-dcd0-3908a1eee5f8"
      },
      "outputs": [
        {
          "data": {
            "image/png": "[encoded data removed]",
            "text/plain": [
              "<Figure size 432x288 with 1 Axes>"
            ]
          },
          "metadata": {
            "needs_background": "light"
          },
          "output_type": "display_data"
        },
        {
          "name": "stdout",
          "output_type": "stream",
          "text": [
            "Best Threshold = 0.4744525547445255\n",
            "G-Mean = 0.7243216638752316\n"
          ]
        }
      ],
      "source": [
        "# Import essential libraries\n",
        "from sklearn.metrics import roc_curve # roc curve metric\n",
        "from numpy import sqrt                # calculate square root\n",
        "from numpy import argmax              # find max value\n",
        "\n",
        "# Predict target class probabilities based on test set\n",
        "y_test_probas = dectree.predict_proba(X_test)\n",
        "\n",
        "# Plot Receiver Operating Characteristic (ROC) curve\n",
        "evaluation.plot_roc_curve(y_test_probas)"
      ]
    },
    {
      "cell_type": "code",
      "execution_count": null,
      "metadata": {
        "colab": {
          "base_uri": "https://localhost:8080/",
          "height": 355
        },
        "id": "HogAbq1syUaY",
        "outputId": "7d74bf2c-84f5-4dc0-c72b-95f013041cc4"
      },
      "outputs": [
        {
          "name": "stdout",
          "output_type": "stream",
          "text": [
            "Accuracy:\t 0.7237206589881907\n",
            "Precision:\t 0.7146806343663611\n",
            "Recall:\t\t 0.7286752707313455\n",
            "F1 score:\t 0.7216101072425445\n",
            "ROC AUC:\t 0.7238044549156227\n"
          ]
        },
        {
          "data": {
            "image/png": "[encoded data removed]",
            "text/plain": [
              "<Figure size 432x288 with 2 Axes>"
            ]
          },
          "metadata": {
            "needs_background": "light"
          },
          "output_type": "display_data"
        }
      ],
      "source": [
        "# Set threshold to best threshold\n",
        "threshold = evaluation.best_threshold()\n",
        "\n",
        "# Use new threshold value to make new prediction based on test set\n",
        "y_test_newpred = [1 if y_test_probas[i][1] > threshold else 0 for i in range(len(y_test_probas))]\n",
        "\n",
        "# Plot confusion matrix\n",
        "evaluation.plot_confusion_matrix(y_test_newpred)"
      ]
    },
    {
      "cell_type": "markdown",
      "metadata": {
        "id": "1J896i9VcjaT"
      },
      "source": [
        "We're going to use another classification model to train the dataset on, which is the [Random Forest Classifier](https://towardsdatascience.com/understanding-random-forest-58381e0602d2)."
      ]
    },
    {
      "cell_type": "markdown",
      "metadata": {
        "id": "5czKDXOb4MW0"
      },
      "source": [
        "# **VIII. More Classification Models**"
      ]
    },
    {
      "cell_type": "markdown",
      "metadata": {
        "id": "omC4YRmqyUaY"
      },
      "source": [
        "### VIII.1. Random Forest Classifier"
      ]
    },
    {
      "cell_type": "markdown",
      "metadata": {
        "id": "xgRndFoPvPXQ"
      },
      "source": [
        "The Random Forest is a classification algorithm consisting of many decisions trees. It uses bagging and feature randomness when building each individual tree to try to create an uncorrelated forest of trees whose prediction by committee is more accurate than that of any individual tree."
      ]
    },
    {
      "cell_type": "markdown",
      "metadata": {
        "id": "1eONjf2tyUaY"
      },
      "source": [
        "##### VIII.1.1. Train and Evaluate on Training Set"
      ]
    },
    {
      "cell_type": "code",
      "execution_count": null,
      "metadata": {
        "colab": {
          "base_uri": "https://localhost:8080/"
        },
        "id": "gfPuXvmOyUaY",
        "outputId": "0a8e2239-7e1b-40c1-cc35-3e5a78fad2ad"
      },
      "outputs": [
        {
          "name": "stdout",
          "output_type": "stream",
          "text": [
            "Fitting 10 folds for each of 30 candidates, totalling 300 fits\n",
            "[CV] criterion=gini, max_depth=5, n_estimators=300, random_state=42 ..\n"
          ]
        },
        {
          "name": "stderr",
          "output_type": "stream",
          "text": [
            "[Parallel(n_jobs=1)]: Using backend SequentialBackend with 1 concurrent workers.\n"
          ]
        },
        {
          "name": "stdout",
          "output_type": "stream",
          "text": [
            "[CV]  criterion=gini, max_depth=5, n_estimators=300, random_state=42, score=0.791, total=   5.6s\n",
            "[CV] criterion=gini, max_depth=5, n_estimators=300, random_state=42 ..\n"
          ]
        },
        {
          "name": "stderr",
          "output_type": "stream",
          "text": [
            "[Parallel(n_jobs=1)]: Done   1 out of   1 | elapsed:    5.6s remaining:    0.0s\n"
          ]
        },
        {
          "name": "stdout",
          "output_type": "stream",
          "text": [
            "[CV]  criterion=gini, max_depth=5, n_estimators=300, random_state=42, score=0.799, total=   5.6s\n",
            "[CV] criterion=gini, max_depth=5, n_estimators=300, random_state=42 ..\n"
          ]
        },
        {
          "name": "stderr",
          "output_type": "stream",
          "text": [
            "[Parallel(n_jobs=1)]: Done   2 out of   2 | elapsed:   11.2s remaining:    0.0s\n"
          ]
        },
        {
          "name": "stdout",
          "output_type": "stream",
          "text": [
            "[CV]  criterion=gini, max_depth=5, n_estimators=300, random_state=42, score=0.786, total=   5.6s\n",
            "[CV] criterion=gini, max_depth=5, n_estimators=300, random_state=42 ..\n",
            "[CV]  criterion=gini, max_depth=5, n_estimators=300, random_state=42, score=0.787, total=   5.5s\n",
            "[CV] criterion=gini, max_depth=5, n_estimators=300, random_state=42 ..\n",
            "[CV]  criterion=gini, max_depth=5, n_estimators=300, random_state=42, score=0.809, total=   5.5s\n",
            "[CV] criterion=gini, max_depth=5, n_estimators=300, random_state=42 ..\n",
            "[CV]  criterion=gini, max_depth=5, n_estimators=300, random_state=42, score=0.797, total=   5.5s\n",
            "[CV] criterion=gini, max_depth=5, n_estimators=300, random_state=42 ..\n",
            "[CV]  criterion=gini, max_depth=5, n_estimators=300, random_state=42, score=0.797, total=   5.6s\n",
            "[CV] criterion=gini, max_depth=5, n_estimators=300, random_state=42 ..\n",
            "[CV]  criterion=gini, max_depth=5, n_estimators=300, random_state=42, score=0.799, total=   5.5s\n",
            "[CV] criterion=gini, max_depth=5, n_estimators=300, random_state=42 ..\n",
            "[CV]  criterion=gini, max_depth=5, n_estimators=300, random_state=42, score=0.786, total=   5.5s\n",
            "[CV] criterion=gini, max_depth=5, n_estimators=300, random_state=42 ..\n",
            "[CV]  criterion=gini, max_depth=5, n_estimators=300, random_state=42, score=0.803, total=   5.5s\n",
            "[CV] criterion=gini, max_depth=5, n_estimators=350, random_state=42 ..\n",
            "[CV]  criterion=gini, max_depth=5, n_estimators=350, random_state=42, score=0.791, total=   6.4s\n",
            "[CV] criterion=gini, max_depth=5, n_estimators=350, random_state=42 ..\n",
            "[CV]  criterion=gini, max_depth=5, n_estimators=350, random_state=42, score=0.799, total=   6.4s\n",
            "[CV] criterion=gini, max_depth=5, n_estimators=350, random_state=42 ..\n",
            "[CV]  criterion=gini, max_depth=5, n_estimators=350, random_state=42, score=0.786, total=   6.5s\n",
            "[CV] criterion=gini, max_depth=5, n_estimators=350, random_state=42 ..\n",
            "[CV]  criterion=gini, max_depth=5, n_estimators=350, random_state=42, score=0.787, total=   6.5s\n",
            "[CV] criterion=gini, max_depth=5, n_estimators=350, random_state=42 ..\n",
            "[CV]  criterion=gini, max_depth=5, n_estimators=350, random_state=42, score=0.809, total=   6.4s\n",
            "[CV] criterion=gini, max_depth=5, n_estimators=350, random_state=42 ..\n",
            "[CV]  criterion=gini, max_depth=5, n_estimators=350, random_state=42, score=0.797, total=   6.4s\n",
            "[CV] criterion=gini, max_depth=5, n_estimators=350, random_state=42 ..\n",
            "[CV]  criterion=gini, max_depth=5, n_estimators=350, random_state=42, score=0.798, total=   6.4s\n",
            "[CV] criterion=gini, max_depth=5, n_estimators=350, random_state=42 ..\n",
            "[CV]  criterion=gini, max_depth=5, n_estimators=350, random_state=42, score=0.799, total=   6.3s\n",
            "[CV] criterion=gini, max_depth=5, n_estimators=350, random_state=42 ..\n",
            "[CV]  criterion=gini, max_depth=5, n_estimators=350, random_state=42, score=0.786, total=   6.4s\n",
            "[CV] criterion=gini, max_depth=5, n_estimators=350, random_state=42 ..\n",
            "[CV]  criterion=gini, max_depth=5, n_estimators=350, random_state=42, score=0.803, total=   6.5s\n",
            "[CV] criterion=gini, max_depth=5, n_estimators=400, random_state=42 ..\n",
            "[CV]  criterion=gini, max_depth=5, n_estimators=400, random_state=42, score=0.791, total=   7.3s\n",
            "[CV] criterion=gini, max_depth=5, n_estimators=400, random_state=42 ..\n",
            "[CV]  criterion=gini, max_depth=5, n_estimators=400, random_state=42, score=0.799, total=   7.3s\n",
            "[CV] criterion=gini, max_depth=5, n_estimators=400, random_state=42 ..\n",
            "[CV]  criterion=gini, max_depth=5, n_estimators=400, random_state=42, score=0.786, total=   7.4s\n",
            "[CV] criterion=gini, max_depth=5, n_estimators=400, random_state=42 ..\n",
            "[CV]  criterion=gini, max_depth=5, n_estimators=400, random_state=42, score=0.787, total=   7.5s\n",
            "[CV] criterion=gini, max_depth=5, n_estimators=400, random_state=42 ..\n",
            "[CV]  criterion=gini, max_depth=5, n_estimators=400, random_state=42, score=0.808, total=   7.4s\n",
            "[CV] criterion=gini, max_depth=5, n_estimators=400, random_state=42 ..\n",
            "[CV]  criterion=gini, max_depth=5, n_estimators=400, random_state=42, score=0.797, total=   7.3s\n",
            "[CV] criterion=gini, max_depth=5, n_estimators=400, random_state=42 ..\n",
            "[CV]  criterion=gini, max_depth=5, n_estimators=400, random_state=42, score=0.798, total=   7.5s\n",
            "[CV] criterion=gini, max_depth=5, n_estimators=400, random_state=42 ..\n",
            "[CV]  criterion=gini, max_depth=5, n_estimators=400, random_state=42, score=0.799, total=   7.6s\n",
            "[CV] criterion=gini, max_depth=5, n_estimators=400, random_state=42 ..\n",
            "[CV]  criterion=gini, max_depth=5, n_estimators=400, random_state=42, score=0.786, total=   7.5s\n",
            "[CV] criterion=gini, max_depth=5, n_estimators=400, random_state=42 ..\n",
            "[CV]  criterion=gini, max_depth=5, n_estimators=400, random_state=42, score=0.803, total=   7.5s\n",
            "[CV] criterion=gini, max_depth=6, n_estimators=300, random_state=42 ..\n",
            "[CV]  criterion=gini, max_depth=6, n_estimators=300, random_state=42, score=0.793, total=   6.3s\n",
            "[CV] criterion=gini, max_depth=6, n_estimators=300, random_state=42 ..\n",
            "[CV]  criterion=gini, max_depth=6, n_estimators=300, random_state=42, score=0.801, total=   6.4s\n",
            "[CV] criterion=gini, max_depth=6, n_estimators=300, random_state=42 ..\n",
            "[CV]  criterion=gini, max_depth=6, n_estimators=300, random_state=42, score=0.788, total=   6.4s\n",
            "[CV] criterion=gini, max_depth=6, n_estimators=300, random_state=42 ..\n",
            "[CV]  criterion=gini, max_depth=6, n_estimators=300, random_state=42, score=0.789, total=   6.4s\n",
            "[CV] criterion=gini, max_depth=6, n_estimators=300, random_state=42 ..\n",
            "[CV]  criterion=gini, max_depth=6, n_estimators=300, random_state=42, score=0.810, total=   6.3s\n",
            "[CV] criterion=gini, max_depth=6, n_estimators=300, random_state=42 ..\n",
            "[CV]  criterion=gini, max_depth=6, n_estimators=300, random_state=42, score=0.799, total=   6.5s\n",
            "[CV] criterion=gini, max_depth=6, n_estimators=300, random_state=42 ..\n",
            "[CV]  criterion=gini, max_depth=6, n_estimators=300, random_state=42, score=0.799, total=   6.4s\n",
            "[CV] criterion=gini, max_depth=6, n_estimators=300, random_state=42 ..\n",
            "[CV]  criterion=gini, max_depth=6, n_estimators=300, random_state=42, score=0.801, total=   6.4s\n",
            "[CV] criterion=gini, max_depth=6, n_estimators=300, random_state=42 ..\n",
            "[CV]  criterion=gini, max_depth=6, n_estimators=300, random_state=42, score=0.788, total=   6.4s\n",
            "[CV] criterion=gini, max_depth=6, n_estimators=300, random_state=42 ..\n",
            "[CV]  criterion=gini, max_depth=6, n_estimators=300, random_state=42, score=0.806, total=   6.5s\n",
            "[CV] criterion=gini, max_depth=6, n_estimators=350, random_state=42 ..\n",
            "[CV]  criterion=gini, max_depth=6, n_estimators=350, random_state=42, score=0.793, total=   7.5s\n",
            "[CV] criterion=gini, max_depth=6, n_estimators=350, random_state=42 ..\n",
            "[CV]  criterion=gini, max_depth=6, n_estimators=350, random_state=42, score=0.801, total=   7.5s\n",
            "[CV] criterion=gini, max_depth=6, n_estimators=350, random_state=42 ..\n",
            "[CV]  criterion=gini, max_depth=6, n_estimators=350, random_state=42, score=0.788, total=   7.4s\n",
            "[CV] criterion=gini, max_depth=6, n_estimators=350, random_state=42 ..\n",
            "[CV]  criterion=gini, max_depth=6, n_estimators=350, random_state=42, score=0.789, total=   7.4s\n",
            "[CV] criterion=gini, max_depth=6, n_estimators=350, random_state=42 ..\n",
            "[CV]  criterion=gini, max_depth=6, n_estimators=350, random_state=42, score=0.810, total=   7.3s\n",
            "[CV] criterion=gini, max_depth=6, n_estimators=350, random_state=42 ..\n",
            "[CV]  criterion=gini, max_depth=6, n_estimators=350, random_state=42, score=0.799, total=   7.2s\n",
            "[CV] criterion=gini, max_depth=6, n_estimators=350, random_state=42 ..\n",
            "[CV]  criterion=gini, max_depth=6, n_estimators=350, random_state=42, score=0.799, total=   7.4s\n",
            "[CV] criterion=gini, max_depth=6, n_estimators=350, random_state=42 ..\n",
            "[CV]  criterion=gini, max_depth=6, n_estimators=350, random_state=42, score=0.801, total=   7.3s\n",
            "[CV] criterion=gini, max_depth=6, n_estimators=350, random_state=42 ..\n",
            "[CV]  criterion=gini, max_depth=6, n_estimators=350, random_state=42, score=0.788, total=   7.7s\n",
            "[CV] criterion=gini, max_depth=6, n_estimators=350, random_state=42 ..\n",
            "[CV]  criterion=gini, max_depth=6, n_estimators=350, random_state=42, score=0.805, total=   7.6s\n",
            "[CV] criterion=gini, max_depth=6, n_estimators=400, random_state=42 ..\n",
            "[CV]  criterion=gini, max_depth=6, n_estimators=400, random_state=42, score=0.793, total=   8.6s\n",
            "[CV] criterion=gini, max_depth=6, n_estimators=400, random_state=42 ..\n",
            "[CV]  criterion=gini, max_depth=6, n_estimators=400, random_state=42, score=0.801, total=   8.4s\n",
            "[CV] criterion=gini, max_depth=6, n_estimators=400, random_state=42 ..\n",
            "[CV]  criterion=gini, max_depth=6, n_estimators=400, random_state=42, score=0.788, total=   8.3s\n",
            "[CV] criterion=gini, max_depth=6, n_estimators=400, random_state=42 ..\n",
            "[CV]  criterion=gini, max_depth=6, n_estimators=400, random_state=42, score=0.789, total=   8.5s\n",
            "[CV] criterion=gini, max_depth=6, n_estimators=400, random_state=42 ..\n",
            "[CV]  criterion=gini, max_depth=6, n_estimators=400, random_state=42, score=0.810, total=   8.5s\n",
            "[CV] criterion=gini, max_depth=6, n_estimators=400, random_state=42 ..\n",
            "[CV]  criterion=gini, max_depth=6, n_estimators=400, random_state=42, score=0.799, total=   8.5s\n",
            "[CV] criterion=gini, max_depth=6, n_estimators=400, random_state=42 ..\n",
            "[CV]  criterion=gini, max_depth=6, n_estimators=400, random_state=42, score=0.799, total=   8.5s\n",
            "[CV] criterion=gini, max_depth=6, n_estimators=400, random_state=42 ..\n",
            "[CV]  criterion=gini, max_depth=6, n_estimators=400, random_state=42, score=0.801, total=   8.5s\n",
            "[CV] criterion=gini, max_depth=6, n_estimators=400, random_state=42 ..\n",
            "[CV]  criterion=gini, max_depth=6, n_estimators=400, random_state=42, score=0.788, total=   8.5s\n",
            "[CV] criterion=gini, max_depth=6, n_estimators=400, random_state=42 ..\n",
            "[CV]  criterion=gini, max_depth=6, n_estimators=400, random_state=42, score=0.806, total=   8.3s\n",
            "[CV] criterion=gini, max_depth=7, n_estimators=300, random_state=42 ..\n",
            "[CV]  criterion=gini, max_depth=7, n_estimators=300, random_state=42, score=0.794, total=   6.9s\n",
            "[CV] criterion=gini, max_depth=7, n_estimators=300, random_state=42 ..\n",
            "[CV]  criterion=gini, max_depth=7, n_estimators=300, random_state=42, score=0.802, total=   6.9s\n",
            "[CV] criterion=gini, max_depth=7, n_estimators=300, random_state=42 ..\n",
            "[CV]  criterion=gini, max_depth=7, n_estimators=300, random_state=42, score=0.789, total=   6.8s\n",
            "[CV] criterion=gini, max_depth=7, n_estimators=300, random_state=42 ..\n",
            "[CV]  criterion=gini, max_depth=7, n_estimators=300, random_state=42, score=0.790, total=   6.9s\n",
            "[CV] criterion=gini, max_depth=7, n_estimators=300, random_state=42 ..\n",
            "[CV]  criterion=gini, max_depth=7, n_estimators=300, random_state=42, score=0.812, total=   6.9s\n",
            "[CV] criterion=gini, max_depth=7, n_estimators=300, random_state=42 ..\n",
            "[CV]  criterion=gini, max_depth=7, n_estimators=300, random_state=42, score=0.801, total=   6.8s\n",
            "[CV] criterion=gini, max_depth=7, n_estimators=300, random_state=42 ..\n",
            "[CV]  criterion=gini, max_depth=7, n_estimators=300, random_state=42, score=0.801, total=   6.9s\n",
            "[CV] criterion=gini, max_depth=7, n_estimators=300, random_state=42 ..\n",
            "[CV]  criterion=gini, max_depth=7, n_estimators=300, random_state=42, score=0.803, total=   6.9s\n",
            "[CV] criterion=gini, max_depth=7, n_estimators=300, random_state=42 ..\n",
            "[CV]  criterion=gini, max_depth=7, n_estimators=300, random_state=42, score=0.790, total=   6.9s\n",
            "[CV] criterion=gini, max_depth=7, n_estimators=300, random_state=42 ..\n",
            "[CV]  criterion=gini, max_depth=7, n_estimators=300, random_state=42, score=0.807, total=   6.8s\n",
            "[CV] criterion=gini, max_depth=7, n_estimators=350, random_state=42 ..\n",
            "[CV]  criterion=gini, max_depth=7, n_estimators=350, random_state=42, score=0.794, total=   8.0s\n",
            "[CV] criterion=gini, max_depth=7, n_estimators=350, random_state=42 ..\n",
            "[CV]  criterion=gini, max_depth=7, n_estimators=350, random_state=42, score=0.802, total=   8.1s\n",
            "[CV] criterion=gini, max_depth=7, n_estimators=350, random_state=42 ..\n",
            "[CV]  criterion=gini, max_depth=7, n_estimators=350, random_state=42, score=0.789, total=   8.1s\n",
            "[CV] criterion=gini, max_depth=7, n_estimators=350, random_state=42 ..\n",
            "[CV]  criterion=gini, max_depth=7, n_estimators=350, random_state=42, score=0.790, total=   8.0s\n",
            "[CV] criterion=gini, max_depth=7, n_estimators=350, random_state=42 ..\n",
            "[CV]  criterion=gini, max_depth=7, n_estimators=350, random_state=42, score=0.812, total=   7.9s\n",
            "[CV] criterion=gini, max_depth=7, n_estimators=350, random_state=42 ..\n",
            "[CV]  criterion=gini, max_depth=7, n_estimators=350, random_state=42, score=0.801, total=   7.9s\n",
            "[CV] criterion=gini, max_depth=7, n_estimators=350, random_state=42 ..\n",
            "[CV]  criterion=gini, max_depth=7, n_estimators=350, random_state=42, score=0.801, total=   7.9s\n",
            "[CV] criterion=gini, max_depth=7, n_estimators=350, random_state=42 ..\n",
            "[CV]  criterion=gini, max_depth=7, n_estimators=350, random_state=42, score=0.803, total=   7.9s\n",
            "[CV] criterion=gini, max_depth=7, n_estimators=350, random_state=42 ..\n",
            "[CV]  criterion=gini, max_depth=7, n_estimators=350, random_state=42, score=0.790, total=   8.0s\n",
            "[CV] criterion=gini, max_depth=7, n_estimators=350, random_state=42 ..\n",
            "[CV]  criterion=gini, max_depth=7, n_estimators=350, random_state=42, score=0.807, total=   8.0s\n",
            "[CV] criterion=gini, max_depth=7, n_estimators=400, random_state=42 ..\n",
            "[CV]  criterion=gini, max_depth=7, n_estimators=400, random_state=42, score=0.794, total=   9.1s\n",
            "[CV] criterion=gini, max_depth=7, n_estimators=400, random_state=42 ..\n",
            "[CV]  criterion=gini, max_depth=7, n_estimators=400, random_state=42, score=0.802, total=   9.1s\n",
            "[CV] criterion=gini, max_depth=7, n_estimators=400, random_state=42 ..\n",
            "[CV]  criterion=gini, max_depth=7, n_estimators=400, random_state=42, score=0.789, total=   9.0s\n",
            "[CV] criterion=gini, max_depth=7, n_estimators=400, random_state=42 ..\n",
            "[CV]  criterion=gini, max_depth=7, n_estimators=400, random_state=42, score=0.790, total=   9.0s\n",
            "[CV] criterion=gini, max_depth=7, n_estimators=400, random_state=42 ..\n",
            "[CV]  criterion=gini, max_depth=7, n_estimators=400, random_state=42, score=0.812, total=   9.2s\n",
            "[CV] criterion=gini, max_depth=7, n_estimators=400, random_state=42 ..\n",
            "[CV]  criterion=gini, max_depth=7, n_estimators=400, random_state=42, score=0.801, total=   9.1s\n",
            "[CV] criterion=gini, max_depth=7, n_estimators=400, random_state=42 ..\n",
            "[CV]  criterion=gini, max_depth=7, n_estimators=400, random_state=42, score=0.801, total=   9.1s\n",
            "[CV] criterion=gini, max_depth=7, n_estimators=400, random_state=42 ..\n",
            "[CV]  criterion=gini, max_depth=7, n_estimators=400, random_state=42, score=0.803, total=   9.1s\n",
            "[CV] criterion=gini, max_depth=7, n_estimators=400, random_state=42 ..\n",
            "[CV]  criterion=gini, max_depth=7, n_estimators=400, random_state=42, score=0.790, total=   9.1s\n",
            "[CV] criterion=gini, max_depth=7, n_estimators=400, random_state=42 ..\n",
            "[CV]  criterion=gini, max_depth=7, n_estimators=400, random_state=42, score=0.807, total=   9.1s\n",
            "[CV] criterion=gini, max_depth=8, n_estimators=300, random_state=42 ..\n",
            "[CV]  criterion=gini, max_depth=8, n_estimators=300, random_state=42, score=0.795, total=   7.3s\n",
            "[CV] criterion=gini, max_depth=8, n_estimators=300, random_state=42 ..\n",
            "[CV]  criterion=gini, max_depth=8, n_estimators=300, random_state=42, score=0.803, total=   7.4s\n",
            "[CV] criterion=gini, max_depth=8, n_estimators=300, random_state=42 ..\n",
            "[CV]  criterion=gini, max_depth=8, n_estimators=300, random_state=42, score=0.790, total=   7.6s\n",
            "[CV] criterion=gini, max_depth=8, n_estimators=300, random_state=42 ..\n",
            "[CV]  criterion=gini, max_depth=8, n_estimators=300, random_state=42, score=0.791, total=   7.5s\n",
            "[CV] criterion=gini, max_depth=8, n_estimators=300, random_state=42 ..\n",
            "[CV]  criterion=gini, max_depth=8, n_estimators=300, random_state=42, score=0.812, total=   7.6s\n",
            "[CV] criterion=gini, max_depth=8, n_estimators=300, random_state=42 ..\n",
            "[CV]  criterion=gini, max_depth=8, n_estimators=300, random_state=42, score=0.802, total=   7.6s\n",
            "[CV] criterion=gini, max_depth=8, n_estimators=300, random_state=42 ..\n",
            "[CV]  criterion=gini, max_depth=8, n_estimators=300, random_state=42, score=0.803, total=   7.5s\n",
            "[CV] criterion=gini, max_depth=8, n_estimators=300, random_state=42 ..\n",
            "[CV]  criterion=gini, max_depth=8, n_estimators=300, random_state=42, score=0.804, total=   7.4s\n",
            "[CV] criterion=gini, max_depth=8, n_estimators=300, random_state=42 ..\n",
            "[CV]  criterion=gini, max_depth=8, n_estimators=300, random_state=42, score=0.790, total=   7.4s\n",
            "[CV] criterion=gini, max_depth=8, n_estimators=300, random_state=42 ..\n",
            "[CV]  criterion=gini, max_depth=8, n_estimators=300, random_state=42, score=0.808, total=   7.4s\n",
            "[CV] criterion=gini, max_depth=8, n_estimators=350, random_state=42 ..\n",
            "[CV]  criterion=gini, max_depth=8, n_estimators=350, random_state=42, score=0.795, total=   8.8s\n",
            "[CV] criterion=gini, max_depth=8, n_estimators=350, random_state=42 ..\n",
            "[CV]  criterion=gini, max_depth=8, n_estimators=350, random_state=42, score=0.803, total=   8.8s\n",
            "[CV] criterion=gini, max_depth=8, n_estimators=350, random_state=42 ..\n",
            "[CV]  criterion=gini, max_depth=8, n_estimators=350, random_state=42, score=0.790, total=   8.8s\n",
            "[CV] criterion=gini, max_depth=8, n_estimators=350, random_state=42 ..\n",
            "[CV]  criterion=gini, max_depth=8, n_estimators=350, random_state=42, score=0.791, total=   8.7s\n",
            "[CV] criterion=gini, max_depth=8, n_estimators=350, random_state=42 ..\n",
            "[CV]  criterion=gini, max_depth=8, n_estimators=350, random_state=42, score=0.812, total=   8.7s\n",
            "[CV] criterion=gini, max_depth=8, n_estimators=350, random_state=42 ..\n",
            "[CV]  criterion=gini, max_depth=8, n_estimators=350, random_state=42, score=0.802, total=   8.7s\n",
            "[CV] criterion=gini, max_depth=8, n_estimators=350, random_state=42 ..\n",
            "[CV]  criterion=gini, max_depth=8, n_estimators=350, random_state=42, score=0.802, total=   8.8s\n",
            "[CV] criterion=gini, max_depth=8, n_estimators=350, random_state=42 ..\n",
            "[CV]  criterion=gini, max_depth=8, n_estimators=350, random_state=42, score=0.804, total=   8.5s\n",
            "[CV] criterion=gini, max_depth=8, n_estimators=350, random_state=42 ..\n",
            "[CV]  criterion=gini, max_depth=8, n_estimators=350, random_state=42, score=0.791, total=   8.8s\n",
            "[CV] criterion=gini, max_depth=8, n_estimators=350, random_state=42 ..\n",
            "[CV]  criterion=gini, max_depth=8, n_estimators=350, random_state=42, score=0.808, total=   8.8s\n",
            "[CV] criterion=gini, max_depth=8, n_estimators=400, random_state=42 ..\n",
            "[CV]  criterion=gini, max_depth=8, n_estimators=400, random_state=42, score=0.795, total=  10.0s\n",
            "[CV] criterion=gini, max_depth=8, n_estimators=400, random_state=42 ..\n",
            "[CV]  criterion=gini, max_depth=8, n_estimators=400, random_state=42, score=0.803, total=   9.9s\n",
            "[CV] criterion=gini, max_depth=8, n_estimators=400, random_state=42 ..\n",
            "[CV]  criterion=gini, max_depth=8, n_estimators=400, random_state=42, score=0.790, total=  10.2s\n",
            "[CV] criterion=gini, max_depth=8, n_estimators=400, random_state=42 ..\n",
            "[CV]  criterion=gini, max_depth=8, n_estimators=400, random_state=42, score=0.791, total=  10.0s\n",
            "[CV] criterion=gini, max_depth=8, n_estimators=400, random_state=42 ..\n",
            "[CV]  criterion=gini, max_depth=8, n_estimators=400, random_state=42, score=0.812, total=  10.1s\n",
            "[CV] criterion=gini, max_depth=8, n_estimators=400, random_state=42 ..\n",
            "[CV]  criterion=gini, max_depth=8, n_estimators=400, random_state=42, score=0.802, total=   9.9s\n",
            "[CV] criterion=gini, max_depth=8, n_estimators=400, random_state=42 ..\n",
            "[CV]  criterion=gini, max_depth=8, n_estimators=400, random_state=42, score=0.803, total=  10.0s\n",
            "[CV] criterion=gini, max_depth=8, n_estimators=400, random_state=42 ..\n",
            "[CV]  criterion=gini, max_depth=8, n_estimators=400, random_state=42, score=0.804, total=  10.1s\n",
            "[CV] criterion=gini, max_depth=8, n_estimators=400, random_state=42 ..\n",
            "[CV]  criterion=gini, max_depth=8, n_estimators=400, random_state=42, score=0.791, total=   9.9s\n",
            "[CV] criterion=gini, max_depth=8, n_estimators=400, random_state=42 ..\n",
            "[CV]  criterion=gini, max_depth=8, n_estimators=400, random_state=42, score=0.808, total=  10.0s\n",
            "[CV] criterion=gini, max_depth=9, n_estimators=300, random_state=42 ..\n",
            "[CV]  criterion=gini, max_depth=9, n_estimators=300, random_state=42, score=0.796, total=   8.1s\n",
            "[CV] criterion=gini, max_depth=9, n_estimators=300, random_state=42 ..\n",
            "[CV]  criterion=gini, max_depth=9, n_estimators=300, random_state=42, score=0.804, total=   8.1s\n",
            "[CV] criterion=gini, max_depth=9, n_estimators=300, random_state=42 ..\n",
            "[CV]  criterion=gini, max_depth=9, n_estimators=300, random_state=42, score=0.790, total=   8.1s\n",
            "[CV] criterion=gini, max_depth=9, n_estimators=300, random_state=42 ..\n",
            "[CV]  criterion=gini, max_depth=9, n_estimators=300, random_state=42, score=0.792, total=   8.2s\n",
            "[CV] criterion=gini, max_depth=9, n_estimators=300, random_state=42 ..\n",
            "[CV]  criterion=gini, max_depth=9, n_estimators=300, random_state=42, score=0.813, total=   8.1s\n",
            "[CV] criterion=gini, max_depth=9, n_estimators=300, random_state=42 ..\n",
            "[CV]  criterion=gini, max_depth=9, n_estimators=300, random_state=42, score=0.803, total=   8.2s\n",
            "[CV] criterion=gini, max_depth=9, n_estimators=300, random_state=42 ..\n",
            "[CV]  criterion=gini, max_depth=9, n_estimators=300, random_state=42, score=0.804, total=   8.2s\n",
            "[CV] criterion=gini, max_depth=9, n_estimators=300, random_state=42 ..\n",
            "[CV]  criterion=gini, max_depth=9, n_estimators=300, random_state=42, score=0.804, total=   8.2s\n",
            "[CV] criterion=gini, max_depth=9, n_estimators=300, random_state=42 ..\n",
            "[CV]  criterion=gini, max_depth=9, n_estimators=300, random_state=42, score=0.791, total=   8.1s\n",
            "[CV] criterion=gini, max_depth=9, n_estimators=300, random_state=42 ..\n",
            "[CV]  criterion=gini, max_depth=9, n_estimators=300, random_state=42, score=0.808, total=   8.3s\n",
            "[CV] criterion=gini, max_depth=9, n_estimators=350, random_state=42 ..\n",
            "[CV]  criterion=gini, max_depth=9, n_estimators=350, random_state=42, score=0.796, total=   9.5s\n",
            "[CV] criterion=gini, max_depth=9, n_estimators=350, random_state=42 ..\n",
            "[CV]  criterion=gini, max_depth=9, n_estimators=350, random_state=42, score=0.804, total=   9.5s\n",
            "[CV] criterion=gini, max_depth=9, n_estimators=350, random_state=42 ..\n",
            "[CV]  criterion=gini, max_depth=9, n_estimators=350, random_state=42, score=0.790, total=   9.6s\n",
            "[CV] criterion=gini, max_depth=9, n_estimators=350, random_state=42 ..\n",
            "[CV]  criterion=gini, max_depth=9, n_estimators=350, random_state=42, score=0.792, total=   9.4s\n",
            "[CV] criterion=gini, max_depth=9, n_estimators=350, random_state=42 ..\n",
            "[CV]  criterion=gini, max_depth=9, n_estimators=350, random_state=42, score=0.813, total=   9.6s\n",
            "[CV] criterion=gini, max_depth=9, n_estimators=350, random_state=42 ..\n",
            "[CV]  criterion=gini, max_depth=9, n_estimators=350, random_state=42, score=0.803, total=   9.8s\n",
            "[CV] criterion=gini, max_depth=9, n_estimators=350, random_state=42 ..\n",
            "[CV]  criterion=gini, max_depth=9, n_estimators=350, random_state=42, score=0.804, total=   9.6s\n",
            "[CV] criterion=gini, max_depth=9, n_estimators=350, random_state=42 ..\n",
            "[CV]  criterion=gini, max_depth=9, n_estimators=350, random_state=42, score=0.804, total=  10.0s\n",
            "[CV] criterion=gini, max_depth=9, n_estimators=350, random_state=42 ..\n",
            "[CV]  criterion=gini, max_depth=9, n_estimators=350, random_state=42, score=0.791, total=   9.5s\n",
            "[CV] criterion=gini, max_depth=9, n_estimators=350, random_state=42 ..\n",
            "[CV]  criterion=gini, max_depth=9, n_estimators=350, random_state=42, score=0.808, total=   9.7s\n",
            "[CV] criterion=gini, max_depth=9, n_estimators=400, random_state=42 ..\n",
            "[CV]  criterion=gini, max_depth=9, n_estimators=400, random_state=42, score=0.796, total=  11.3s\n",
            "[CV] criterion=gini, max_depth=9, n_estimators=400, random_state=42 ..\n",
            "[CV]  criterion=gini, max_depth=9, n_estimators=400, random_state=42, score=0.804, total=  11.3s\n",
            "[CV] criterion=gini, max_depth=9, n_estimators=400, random_state=42 ..\n",
            "[CV]  criterion=gini, max_depth=9, n_estimators=400, random_state=42, score=0.790, total=  11.2s\n",
            "[CV] criterion=gini, max_depth=9, n_estimators=400, random_state=42 ..\n",
            "[CV]  criterion=gini, max_depth=9, n_estimators=400, random_state=42, score=0.792, total=  11.0s\n",
            "[CV] criterion=gini, max_depth=9, n_estimators=400, random_state=42 ..\n",
            "[CV]  criterion=gini, max_depth=9, n_estimators=400, random_state=42, score=0.813, total=  11.1s\n",
            "[CV] criterion=gini, max_depth=9, n_estimators=400, random_state=42 ..\n",
            "[CV]  criterion=gini, max_depth=9, n_estimators=400, random_state=42, score=0.803, total=  11.7s\n",
            "[CV] criterion=gini, max_depth=9, n_estimators=400, random_state=42 ..\n",
            "[CV]  criterion=gini, max_depth=9, n_estimators=400, random_state=42, score=0.804, total=  11.4s\n",
            "[CV] criterion=gini, max_depth=9, n_estimators=400, random_state=42 ..\n",
            "[CV]  criterion=gini, max_depth=9, n_estimators=400, random_state=42, score=0.804, total=  11.3s\n",
            "[CV] criterion=gini, max_depth=9, n_estimators=400, random_state=42 ..\n",
            "[CV]  criterion=gini, max_depth=9, n_estimators=400, random_state=42, score=0.791, total=  11.1s\n",
            "[CV] criterion=gini, max_depth=9, n_estimators=400, random_state=42 ..\n",
            "[CV]  criterion=gini, max_depth=9, n_estimators=400, random_state=42, score=0.808, total=  10.9s\n",
            "[CV] criterion=entropy, max_depth=5, n_estimators=300, random_state=42 \n",
            "[CV]  criterion=entropy, max_depth=5, n_estimators=300, random_state=42, score=0.792, total=   5.8s\n",
            "[CV] criterion=entropy, max_depth=5, n_estimators=300, random_state=42 \n",
            "[CV]  criterion=entropy, max_depth=5, n_estimators=300, random_state=42, score=0.800, total=   5.8s\n",
            "[CV] criterion=entropy, max_depth=5, n_estimators=300, random_state=42 \n",
            "[CV]  criterion=entropy, max_depth=5, n_estimators=300, random_state=42, score=0.786, total=   6.0s\n",
            "[CV] criterion=entropy, max_depth=5, n_estimators=300, random_state=42 \n",
            "[CV]  criterion=entropy, max_depth=5, n_estimators=300, random_state=42, score=0.787, total=   5.9s\n",
            "[CV] criterion=entropy, max_depth=5, n_estimators=300, random_state=42 \n",
            "[CV]  criterion=entropy, max_depth=5, n_estimators=300, random_state=42, score=0.809, total=   5.8s\n",
            "[CV] criterion=entropy, max_depth=5, n_estimators=300, random_state=42 \n",
            "[CV]  criterion=entropy, max_depth=5, n_estimators=300, random_state=42, score=0.797, total=   5.9s\n",
            "[CV] criterion=entropy, max_depth=5, n_estimators=300, random_state=42 \n",
            "[CV]  criterion=entropy, max_depth=5, n_estimators=300, random_state=42, score=0.798, total=   5.9s\n",
            "[CV] criterion=entropy, max_depth=5, n_estimators=300, random_state=42 \n",
            "[CV]  criterion=entropy, max_depth=5, n_estimators=300, random_state=42, score=0.799, total=   5.9s\n",
            "[CV] criterion=entropy, max_depth=5, n_estimators=300, random_state=42 \n",
            "[CV]  criterion=entropy, max_depth=5, n_estimators=300, random_state=42, score=0.786, total=   5.8s\n",
            "[CV] criterion=entropy, max_depth=5, n_estimators=300, random_state=42 \n",
            "[CV]  criterion=entropy, max_depth=5, n_estimators=300, random_state=42, score=0.803, total=   5.9s\n",
            "[CV] criterion=entropy, max_depth=5, n_estimators=350, random_state=42 \n",
            "[CV]  criterion=entropy, max_depth=5, n_estimators=350, random_state=42, score=0.792, total=   6.6s\n",
            "[CV] criterion=entropy, max_depth=5, n_estimators=350, random_state=42 \n",
            "[CV]  criterion=entropy, max_depth=5, n_estimators=350, random_state=42, score=0.800, total=   6.8s\n",
            "[CV] criterion=entropy, max_depth=5, n_estimators=350, random_state=42 \n",
            "[CV]  criterion=entropy, max_depth=5, n_estimators=350, random_state=42, score=0.787, total=   6.8s\n",
            "[CV] criterion=entropy, max_depth=5, n_estimators=350, random_state=42 \n",
            "[CV]  criterion=entropy, max_depth=5, n_estimators=350, random_state=42, score=0.787, total=   6.7s\n",
            "[CV] criterion=entropy, max_depth=5, n_estimators=350, random_state=42 \n",
            "[CV]  criterion=entropy, max_depth=5, n_estimators=350, random_state=42, score=0.809, total=   6.8s\n",
            "[CV] criterion=entropy, max_depth=5, n_estimators=350, random_state=42 \n",
            "[CV]  criterion=entropy, max_depth=5, n_estimators=350, random_state=42, score=0.797, total=   6.8s\n",
            "[CV] criterion=entropy, max_depth=5, n_estimators=350, random_state=42 \n",
            "[CV]  criterion=entropy, max_depth=5, n_estimators=350, random_state=42, score=0.798, total=   6.8s\n",
            "[CV] criterion=entropy, max_depth=5, n_estimators=350, random_state=42 \n",
            "[CV]  criterion=entropy, max_depth=5, n_estimators=350, random_state=42, score=0.800, total=   6.8s\n",
            "[CV] criterion=entropy, max_depth=5, n_estimators=350, random_state=42 \n",
            "[CV]  criterion=entropy, max_depth=5, n_estimators=350, random_state=42, score=0.786, total=   6.8s\n",
            "[CV] criterion=entropy, max_depth=5, n_estimators=350, random_state=42 \n",
            "[CV]  criterion=entropy, max_depth=5, n_estimators=350, random_state=42, score=0.803, total=   6.8s\n",
            "[CV] criterion=entropy, max_depth=5, n_estimators=400, random_state=42 \n",
            "[CV]  criterion=entropy, max_depth=5, n_estimators=400, random_state=42, score=0.792, total=   7.8s\n",
            "[CV] criterion=entropy, max_depth=5, n_estimators=400, random_state=42 \n",
            "[CV]  criterion=entropy, max_depth=5, n_estimators=400, random_state=42, score=0.800, total=   7.6s\n",
            "[CV] criterion=entropy, max_depth=5, n_estimators=400, random_state=42 \n",
            "[CV]  criterion=entropy, max_depth=5, n_estimators=400, random_state=42, score=0.786, total=   7.7s\n",
            "[CV] criterion=entropy, max_depth=5, n_estimators=400, random_state=42 \n",
            "[CV]  criterion=entropy, max_depth=5, n_estimators=400, random_state=42, score=0.787, total=   7.5s\n",
            "[CV] criterion=entropy, max_depth=5, n_estimators=400, random_state=42 \n",
            "[CV]  criterion=entropy, max_depth=5, n_estimators=400, random_state=42, score=0.809, total=   7.6s\n",
            "[CV] criterion=entropy, max_depth=5, n_estimators=400, random_state=42 \n",
            "[CV]  criterion=entropy, max_depth=5, n_estimators=400, random_state=42, score=0.797, total=   7.7s\n",
            "[CV] criterion=entropy, max_depth=5, n_estimators=400, random_state=42 \n",
            "[CV]  criterion=entropy, max_depth=5, n_estimators=400, random_state=42, score=0.798, total=   7.7s\n",
            "[CV] criterion=entropy, max_depth=5, n_estimators=400, random_state=42 \n",
            "[CV]  criterion=entropy, max_depth=5, n_estimators=400, random_state=42, score=0.799, total=   7.8s\n",
            "[CV] criterion=entropy, max_depth=5, n_estimators=400, random_state=42 \n",
            "[CV]  criterion=entropy, max_depth=5, n_estimators=400, random_state=42, score=0.786, total=   7.7s\n",
            "[CV] criterion=entropy, max_depth=5, n_estimators=400, random_state=42 \n",
            "[CV]  criterion=entropy, max_depth=5, n_estimators=400, random_state=42, score=0.803, total=   7.8s\n",
            "[CV] criterion=entropy, max_depth=6, n_estimators=300, random_state=42 \n",
            "[CV]  criterion=entropy, max_depth=6, n_estimators=300, random_state=42, score=0.793, total=   6.6s\n",
            "[CV] criterion=entropy, max_depth=6, n_estimators=300, random_state=42 \n",
            "[CV]  criterion=entropy, max_depth=6, n_estimators=300, random_state=42, score=0.801, total=   6.4s\n",
            "[CV] criterion=entropy, max_depth=6, n_estimators=300, random_state=42 \n",
            "[CV]  criterion=entropy, max_depth=6, n_estimators=300, random_state=42, score=0.788, total=   6.6s\n",
            "[CV] criterion=entropy, max_depth=6, n_estimators=300, random_state=42 \n",
            "[CV]  criterion=entropy, max_depth=6, n_estimators=300, random_state=42, score=0.789, total=   6.6s\n",
            "[CV] criterion=entropy, max_depth=6, n_estimators=300, random_state=42 \n",
            "[CV]  criterion=entropy, max_depth=6, n_estimators=300, random_state=42, score=0.810, total=   6.5s\n",
            "[CV] criterion=entropy, max_depth=6, n_estimators=300, random_state=42 \n",
            "[CV]  criterion=entropy, max_depth=6, n_estimators=300, random_state=42, score=0.799, total=   6.6s\n",
            "[CV] criterion=entropy, max_depth=6, n_estimators=300, random_state=42 \n",
            "[CV]  criterion=entropy, max_depth=6, n_estimators=300, random_state=42, score=0.800, total=   6.6s\n",
            "[CV] criterion=entropy, max_depth=6, n_estimators=300, random_state=42 \n",
            "[CV]  criterion=entropy, max_depth=6, n_estimators=300, random_state=42, score=0.801, total=   6.6s\n",
            "[CV] criterion=entropy, max_depth=6, n_estimators=300, random_state=42 \n",
            "[CV]  criterion=entropy, max_depth=6, n_estimators=300, random_state=42, score=0.788, total=   6.6s\n",
            "[CV] criterion=entropy, max_depth=6, n_estimators=300, random_state=42 \n",
            "[CV]  criterion=entropy, max_depth=6, n_estimators=300, random_state=42, score=0.806, total=   6.6s\n",
            "[CV] criterion=entropy, max_depth=6, n_estimators=350, random_state=42 \n",
            "[CV]  criterion=entropy, max_depth=6, n_estimators=350, random_state=42, score=0.793, total=   7.6s\n",
            "[CV] criterion=entropy, max_depth=6, n_estimators=350, random_state=42 \n",
            "[CV]  criterion=entropy, max_depth=6, n_estimators=350, random_state=42, score=0.801, total=   7.7s\n",
            "[CV] criterion=entropy, max_depth=6, n_estimators=350, random_state=42 \n",
            "[CV]  criterion=entropy, max_depth=6, n_estimators=350, random_state=42, score=0.788, total=   7.8s\n",
            "[CV] criterion=entropy, max_depth=6, n_estimators=350, random_state=42 \n",
            "[CV]  criterion=entropy, max_depth=6, n_estimators=350, random_state=42, score=0.789, total=   8.0s\n",
            "[CV] criterion=entropy, max_depth=6, n_estimators=350, random_state=42 \n",
            "[CV]  criterion=entropy, max_depth=6, n_estimators=350, random_state=42, score=0.810, total=   7.7s\n",
            "[CV] criterion=entropy, max_depth=6, n_estimators=350, random_state=42 \n",
            "[CV]  criterion=entropy, max_depth=6, n_estimators=350, random_state=42, score=0.799, total=   7.8s\n",
            "[CV] criterion=entropy, max_depth=6, n_estimators=350, random_state=42 \n",
            "[CV]  criterion=entropy, max_depth=6, n_estimators=350, random_state=42, score=0.800, total=   7.9s\n",
            "[CV] criterion=entropy, max_depth=6, n_estimators=350, random_state=42 \n",
            "[CV]  criterion=entropy, max_depth=6, n_estimators=350, random_state=42, score=0.801, total=   8.0s\n",
            "[CV] criterion=entropy, max_depth=6, n_estimators=350, random_state=42 \n",
            "[CV]  criterion=entropy, max_depth=6, n_estimators=350, random_state=42, score=0.788, total=   7.8s\n",
            "[CV] criterion=entropy, max_depth=6, n_estimators=350, random_state=42 \n",
            "[CV]  criterion=entropy, max_depth=6, n_estimators=350, random_state=42, score=0.806, total=   7.7s\n",
            "[CV] criterion=entropy, max_depth=6, n_estimators=400, random_state=42 \n",
            "[CV]  criterion=entropy, max_depth=6, n_estimators=400, random_state=42, score=0.793, total=   8.9s\n",
            "[CV] criterion=entropy, max_depth=6, n_estimators=400, random_state=42 \n",
            "[CV]  criterion=entropy, max_depth=6, n_estimators=400, random_state=42, score=0.801, total=   8.9s\n",
            "[CV] criterion=entropy, max_depth=6, n_estimators=400, random_state=42 \n",
            "[CV]  criterion=entropy, max_depth=6, n_estimators=400, random_state=42, score=0.788, total=   8.9s\n",
            "[CV] criterion=entropy, max_depth=6, n_estimators=400, random_state=42 \n",
            "[CV]  criterion=entropy, max_depth=6, n_estimators=400, random_state=42, score=0.789, total=   8.9s\n",
            "[CV] criterion=entropy, max_depth=6, n_estimators=400, random_state=42 \n",
            "[CV]  criterion=entropy, max_depth=6, n_estimators=400, random_state=42, score=0.810, total=   8.8s\n",
            "[CV] criterion=entropy, max_depth=6, n_estimators=400, random_state=42 \n",
            "[CV]  criterion=entropy, max_depth=6, n_estimators=400, random_state=42, score=0.799, total=   8.8s\n",
            "[CV] criterion=entropy, max_depth=6, n_estimators=400, random_state=42 \n",
            "[CV]  criterion=entropy, max_depth=6, n_estimators=400, random_state=42, score=0.800, total=   8.7s\n",
            "[CV] criterion=entropy, max_depth=6, n_estimators=400, random_state=42 \n",
            "[CV]  criterion=entropy, max_depth=6, n_estimators=400, random_state=42, score=0.801, total=   8.8s\n",
            "[CV] criterion=entropy, max_depth=6, n_estimators=400, random_state=42 \n",
            "[CV]  criterion=entropy, max_depth=6, n_estimators=400, random_state=42, score=0.788, total=   8.8s\n",
            "[CV] criterion=entropy, max_depth=6, n_estimators=400, random_state=42 \n",
            "[CV]  criterion=entropy, max_depth=6, n_estimators=400, random_state=42, score=0.806, total=   8.7s\n",
            "[CV] criterion=entropy, max_depth=7, n_estimators=300, random_state=42 \n",
            "[CV]  criterion=entropy, max_depth=7, n_estimators=300, random_state=42, score=0.794, total=   7.4s\n",
            "[CV] criterion=entropy, max_depth=7, n_estimators=300, random_state=42 \n",
            "[CV]  criterion=entropy, max_depth=7, n_estimators=300, random_state=42, score=0.803, total=   7.4s\n",
            "[CV] criterion=entropy, max_depth=7, n_estimators=300, random_state=42 \n",
            "[CV]  criterion=entropy, max_depth=7, n_estimators=300, random_state=42, score=0.790, total=   7.2s\n",
            "[CV] criterion=entropy, max_depth=7, n_estimators=300, random_state=42 \n",
            "[CV]  criterion=entropy, max_depth=7, n_estimators=300, random_state=42, score=0.790, total=   7.3s\n",
            "[CV] criterion=entropy, max_depth=7, n_estimators=300, random_state=42 \n",
            "[CV]  criterion=entropy, max_depth=7, n_estimators=300, random_state=42, score=0.812, total=   7.3s\n",
            "[CV] criterion=entropy, max_depth=7, n_estimators=300, random_state=42 \n",
            "[CV]  criterion=entropy, max_depth=7, n_estimators=300, random_state=42, score=0.801, total=   7.0s\n",
            "[CV] criterion=entropy, max_depth=7, n_estimators=300, random_state=42 \n",
            "[CV]  criterion=entropy, max_depth=7, n_estimators=300, random_state=42, score=0.801, total=   6.7s\n",
            "[CV] criterion=entropy, max_depth=7, n_estimators=300, random_state=42 \n",
            "[CV]  criterion=entropy, max_depth=7, n_estimators=300, random_state=42, score=0.803, total=   6.7s\n",
            "[CV] criterion=entropy, max_depth=7, n_estimators=300, random_state=42 \n",
            "[CV]  criterion=entropy, max_depth=7, n_estimators=300, random_state=42, score=0.789, total=   6.7s\n",
            "[CV] criterion=entropy, max_depth=7, n_estimators=300, random_state=42 \n",
            "[CV]  criterion=entropy, max_depth=7, n_estimators=300, random_state=42, score=0.807, total=   6.7s\n",
            "[CV] criterion=entropy, max_depth=7, n_estimators=350, random_state=42 \n",
            "[CV]  criterion=entropy, max_depth=7, n_estimators=350, random_state=42, score=0.794, total=   7.9s\n",
            "[CV] criterion=entropy, max_depth=7, n_estimators=350, random_state=42 \n",
            "[CV]  criterion=entropy, max_depth=7, n_estimators=350, random_state=42, score=0.803, total=   7.8s\n",
            "[CV] criterion=entropy, max_depth=7, n_estimators=350, random_state=42 \n",
            "[CV]  criterion=entropy, max_depth=7, n_estimators=350, random_state=42, score=0.790, total=   7.9s\n",
            "[CV] criterion=entropy, max_depth=7, n_estimators=350, random_state=42 \n",
            "[CV]  criterion=entropy, max_depth=7, n_estimators=350, random_state=42, score=0.790, total=   7.9s\n",
            "[CV] criterion=entropy, max_depth=7, n_estimators=350, random_state=42 \n",
            "[CV]  criterion=entropy, max_depth=7, n_estimators=350, random_state=42, score=0.812, total=   7.8s\n",
            "[CV] criterion=entropy, max_depth=7, n_estimators=350, random_state=42 \n",
            "[CV]  criterion=entropy, max_depth=7, n_estimators=350, random_state=42, score=0.801, total=   7.9s\n",
            "[CV] criterion=entropy, max_depth=7, n_estimators=350, random_state=42 \n",
            "[CV]  criterion=entropy, max_depth=7, n_estimators=350, random_state=42, score=0.801, total=   7.9s\n",
            "[CV] criterion=entropy, max_depth=7, n_estimators=350, random_state=42 \n",
            "[CV]  criterion=entropy, max_depth=7, n_estimators=350, random_state=42, score=0.803, total=   7.9s\n",
            "[CV] criterion=entropy, max_depth=7, n_estimators=350, random_state=42 \n",
            "[CV]  criterion=entropy, max_depth=7, n_estimators=350, random_state=42, score=0.789, total=   7.9s\n",
            "[CV] criterion=entropy, max_depth=7, n_estimators=350, random_state=42 \n",
            "[CV]  criterion=entropy, max_depth=7, n_estimators=350, random_state=42, score=0.807, total=   7.7s\n",
            "[CV] criterion=entropy, max_depth=7, n_estimators=400, random_state=42 \n",
            "[CV]  criterion=entropy, max_depth=7, n_estimators=400, random_state=42, score=0.794, total=   8.9s\n",
            "[CV] criterion=entropy, max_depth=7, n_estimators=400, random_state=42 \n",
            "[CV]  criterion=entropy, max_depth=7, n_estimators=400, random_state=42, score=0.802, total=   9.4s\n",
            "[CV] criterion=entropy, max_depth=7, n_estimators=400, random_state=42 \n",
            "[CV]  criterion=entropy, max_depth=7, n_estimators=400, random_state=42, score=0.790, total=   9.4s\n",
            "[CV] criterion=entropy, max_depth=7, n_estimators=400, random_state=42 \n",
            "[CV]  criterion=entropy, max_depth=7, n_estimators=400, random_state=42, score=0.790, total=   8.9s\n",
            "[CV] criterion=entropy, max_depth=7, n_estimators=400, random_state=42 \n",
            "[CV]  criterion=entropy, max_depth=7, n_estimators=400, random_state=42, score=0.812, total=   8.9s\n",
            "[CV] criterion=entropy, max_depth=7, n_estimators=400, random_state=42 \n",
            "[CV]  criterion=entropy, max_depth=7, n_estimators=400, random_state=42, score=0.801, total=   8.9s\n",
            "[CV] criterion=entropy, max_depth=7, n_estimators=400, random_state=42 \n",
            "[CV]  criterion=entropy, max_depth=7, n_estimators=400, random_state=42, score=0.801, total=   9.0s\n",
            "[CV] criterion=entropy, max_depth=7, n_estimators=400, random_state=42 \n",
            "[CV]  criterion=entropy, max_depth=7, n_estimators=400, random_state=42, score=0.803, total=   8.9s\n",
            "[CV] criterion=entropy, max_depth=7, n_estimators=400, random_state=42 \n",
            "[CV]  criterion=entropy, max_depth=7, n_estimators=400, random_state=42, score=0.789, total=   8.9s\n",
            "[CV] criterion=entropy, max_depth=7, n_estimators=400, random_state=42 \n",
            "[CV]  criterion=entropy, max_depth=7, n_estimators=400, random_state=42, score=0.807, total=   8.9s\n",
            "[CV] criterion=entropy, max_depth=8, n_estimators=300, random_state=42 \n",
            "[CV]  criterion=entropy, max_depth=8, n_estimators=300, random_state=42, score=0.796, total=   7.5s\n",
            "[CV] criterion=entropy, max_depth=8, n_estimators=300, random_state=42 \n",
            "[CV]  criterion=entropy, max_depth=8, n_estimators=300, random_state=42, score=0.803, total=   7.4s\n",
            "[CV] criterion=entropy, max_depth=8, n_estimators=300, random_state=42 \n",
            "[CV]  criterion=entropy, max_depth=8, n_estimators=300, random_state=42, score=0.790, total=   7.4s\n",
            "[CV] criterion=entropy, max_depth=8, n_estimators=300, random_state=42 \n",
            "[CV]  criterion=entropy, max_depth=8, n_estimators=300, random_state=42, score=0.791, total=   7.4s\n",
            "[CV] criterion=entropy, max_depth=8, n_estimators=300, random_state=42 \n",
            "[CV]  criterion=entropy, max_depth=8, n_estimators=300, random_state=42, score=0.813, total=   7.3s\n",
            "[CV] criterion=entropy, max_depth=8, n_estimators=300, random_state=42 \n",
            "[CV]  criterion=entropy, max_depth=8, n_estimators=300, random_state=42, score=0.802, total=   7.3s\n",
            "[CV] criterion=entropy, max_depth=8, n_estimators=300, random_state=42 \n",
            "[CV]  criterion=entropy, max_depth=8, n_estimators=300, random_state=42, score=0.803, total=   7.4s\n",
            "[CV] criterion=entropy, max_depth=8, n_estimators=300, random_state=42 \n",
            "[CV]  criterion=entropy, max_depth=8, n_estimators=300, random_state=42, score=0.804, total=   7.4s\n",
            "[CV] criterion=entropy, max_depth=8, n_estimators=300, random_state=42 \n",
            "[CV]  criterion=entropy, max_depth=8, n_estimators=300, random_state=42, score=0.790, total=   7.4s\n",
            "[CV] criterion=entropy, max_depth=8, n_estimators=300, random_state=42 \n",
            "[CV]  criterion=entropy, max_depth=8, n_estimators=300, random_state=42, score=0.808, total=   7.4s\n",
            "[CV] criterion=entropy, max_depth=8, n_estimators=350, random_state=42 \n",
            "[CV]  criterion=entropy, max_depth=8, n_estimators=350, random_state=42, score=0.796, total=   8.7s\n",
            "[CV] criterion=entropy, max_depth=8, n_estimators=350, random_state=42 \n",
            "[CV]  criterion=entropy, max_depth=8, n_estimators=350, random_state=42, score=0.803, total=   8.6s\n",
            "[CV] criterion=entropy, max_depth=8, n_estimators=350, random_state=42 \n",
            "[CV]  criterion=entropy, max_depth=8, n_estimators=350, random_state=42, score=0.790, total=   8.6s\n",
            "[CV] criterion=entropy, max_depth=8, n_estimators=350, random_state=42 \n",
            "[CV]  criterion=entropy, max_depth=8, n_estimators=350, random_state=42, score=0.791, total=   8.6s\n",
            "[CV] criterion=entropy, max_depth=8, n_estimators=350, random_state=42 \n",
            "[CV]  criterion=entropy, max_depth=8, n_estimators=350, random_state=42, score=0.813, total=   8.6s\n",
            "[CV] criterion=entropy, max_depth=8, n_estimators=350, random_state=42 \n",
            "[CV]  criterion=entropy, max_depth=8, n_estimators=350, random_state=42, score=0.802, total=   8.6s\n",
            "[CV] criterion=entropy, max_depth=8, n_estimators=350, random_state=42 \n",
            "[CV]  criterion=entropy, max_depth=8, n_estimators=350, random_state=42, score=0.803, total=   8.6s\n",
            "[CV] criterion=entropy, max_depth=8, n_estimators=350, random_state=42 \n",
            "[CV]  criterion=entropy, max_depth=8, n_estimators=350, random_state=42, score=0.804, total=   8.6s\n",
            "[CV] criterion=entropy, max_depth=8, n_estimators=350, random_state=42 \n",
            "[CV]  criterion=entropy, max_depth=8, n_estimators=350, random_state=42, score=0.790, total=   8.6s\n",
            "[CV] criterion=entropy, max_depth=8, n_estimators=350, random_state=42 \n",
            "[CV]  criterion=entropy, max_depth=8, n_estimators=350, random_state=42, score=0.808, total=   8.6s\n",
            "[CV] criterion=entropy, max_depth=8, n_estimators=400, random_state=42 \n",
            "[CV]  criterion=entropy, max_depth=8, n_estimators=400, random_state=42, score=0.796, total=   9.8s\n",
            "[CV] criterion=entropy, max_depth=8, n_estimators=400, random_state=42 \n",
            "[CV]  criterion=entropy, max_depth=8, n_estimators=400, random_state=42, score=0.803, total=   9.8s\n",
            "[CV] criterion=entropy, max_depth=8, n_estimators=400, random_state=42 \n",
            "[CV]  criterion=entropy, max_depth=8, n_estimators=400, random_state=42, score=0.791, total=   9.9s\n",
            "[CV] criterion=entropy, max_depth=8, n_estimators=400, random_state=42 \n",
            "[CV]  criterion=entropy, max_depth=8, n_estimators=400, random_state=42, score=0.791, total=   9.7s\n",
            "[CV] criterion=entropy, max_depth=8, n_estimators=400, random_state=42 \n",
            "[CV]  criterion=entropy, max_depth=8, n_estimators=400, random_state=42, score=0.813, total=   9.8s\n",
            "[CV] criterion=entropy, max_depth=8, n_estimators=400, random_state=42 \n",
            "[CV]  criterion=entropy, max_depth=8, n_estimators=400, random_state=42, score=0.802, total=   9.8s\n",
            "[CV] criterion=entropy, max_depth=8, n_estimators=400, random_state=42 \n",
            "[CV]  criterion=entropy, max_depth=8, n_estimators=400, random_state=42, score=0.803, total=   9.8s\n",
            "[CV] criterion=entropy, max_depth=8, n_estimators=400, random_state=42 \n",
            "[CV]  criterion=entropy, max_depth=8, n_estimators=400, random_state=42, score=0.804, total=   9.9s\n",
            "[CV] criterion=entropy, max_depth=8, n_estimators=400, random_state=42 \n",
            "[CV]  criterion=entropy, max_depth=8, n_estimators=400, random_state=42, score=0.790, total=   9.9s\n",
            "[CV] criterion=entropy, max_depth=8, n_estimators=400, random_state=42 \n",
            "[CV]  criterion=entropy, max_depth=8, n_estimators=400, random_state=42, score=0.808, total=   9.9s\n",
            "[CV] criterion=entropy, max_depth=9, n_estimators=300, random_state=42 \n",
            "[CV]  criterion=entropy, max_depth=9, n_estimators=300, random_state=42, score=0.796, total=   8.1s\n",
            "[CV] criterion=entropy, max_depth=9, n_estimators=300, random_state=42 \n",
            "[CV]  criterion=entropy, max_depth=9, n_estimators=300, random_state=42, score=0.804, total=   8.1s\n",
            "[CV] criterion=entropy, max_depth=9, n_estimators=300, random_state=42 \n",
            "[CV]  criterion=entropy, max_depth=9, n_estimators=300, random_state=42, score=0.791, total=   8.1s\n",
            "[CV] criterion=entropy, max_depth=9, n_estimators=300, random_state=42 \n",
            "[CV]  criterion=entropy, max_depth=9, n_estimators=300, random_state=42, score=0.792, total=   8.1s\n",
            "[CV] criterion=entropy, max_depth=9, n_estimators=300, random_state=42 \n",
            "[CV]  criterion=entropy, max_depth=9, n_estimators=300, random_state=42, score=0.813, total=   8.1s\n",
            "[CV] criterion=entropy, max_depth=9, n_estimators=300, random_state=42 \n",
            "[CV]  criterion=entropy, max_depth=9, n_estimators=300, random_state=42, score=0.803, total=   8.2s\n",
            "[CV] criterion=entropy, max_depth=9, n_estimators=300, random_state=42 \n",
            "[CV]  criterion=entropy, max_depth=9, n_estimators=300, random_state=42, score=0.803, total=   8.3s\n",
            "[CV] criterion=entropy, max_depth=9, n_estimators=300, random_state=42 \n",
            "[CV]  criterion=entropy, max_depth=9, n_estimators=300, random_state=42, score=0.805, total=   8.3s\n",
            "[CV] criterion=entropy, max_depth=9, n_estimators=300, random_state=42 \n",
            "[CV]  criterion=entropy, max_depth=9, n_estimators=300, random_state=42, score=0.791, total=   8.1s\n",
            "[CV] criterion=entropy, max_depth=9, n_estimators=300, random_state=42 \n",
            "[CV]  criterion=entropy, max_depth=9, n_estimators=300, random_state=42, score=0.809, total=   8.1s\n",
            "[CV] criterion=entropy, max_depth=9, n_estimators=350, random_state=42 \n",
            "[CV]  criterion=entropy, max_depth=9, n_estimators=350, random_state=42, score=0.796, total=   9.6s\n",
            "[CV] criterion=entropy, max_depth=9, n_estimators=350, random_state=42 \n",
            "[CV]  criterion=entropy, max_depth=9, n_estimators=350, random_state=42, score=0.804, total=   9.4s\n",
            "[CV] criterion=entropy, max_depth=9, n_estimators=350, random_state=42 \n",
            "[CV]  criterion=entropy, max_depth=9, n_estimators=350, random_state=42, score=0.791, total=   9.5s\n",
            "[CV] criterion=entropy, max_depth=9, n_estimators=350, random_state=42 \n",
            "[CV]  criterion=entropy, max_depth=9, n_estimators=350, random_state=42, score=0.792, total=   9.6s\n",
            "[CV] criterion=entropy, max_depth=9, n_estimators=350, random_state=42 \n",
            "[CV]  criterion=entropy, max_depth=9, n_estimators=350, random_state=42, score=0.813, total=   9.5s\n",
            "[CV] criterion=entropy, max_depth=9, n_estimators=350, random_state=42 \n",
            "[CV]  criterion=entropy, max_depth=9, n_estimators=350, random_state=42, score=0.803, total=   9.5s\n",
            "[CV] criterion=entropy, max_depth=9, n_estimators=350, random_state=42 \n",
            "[CV]  criterion=entropy, max_depth=9, n_estimators=350, random_state=42, score=0.804, total=   9.5s\n",
            "[CV] criterion=entropy, max_depth=9, n_estimators=350, random_state=42 \n",
            "[CV]  criterion=entropy, max_depth=9, n_estimators=350, random_state=42, score=0.805, total=   9.7s\n",
            "[CV] criterion=entropy, max_depth=9, n_estimators=350, random_state=42 \n",
            "[CV]  criterion=entropy, max_depth=9, n_estimators=350, random_state=42, score=0.791, total=   9.6s\n",
            "[CV] criterion=entropy, max_depth=9, n_estimators=350, random_state=42 \n",
            "[CV]  criterion=entropy, max_depth=9, n_estimators=350, random_state=42, score=0.809, total=   9.7s\n",
            "[CV] criterion=entropy, max_depth=9, n_estimators=400, random_state=42 \n",
            "[CV]  criterion=entropy, max_depth=9, n_estimators=400, random_state=42, score=0.796, total=  10.9s\n",
            "[CV] criterion=entropy, max_depth=9, n_estimators=400, random_state=42 \n",
            "[CV]  criterion=entropy, max_depth=9, n_estimators=400, random_state=42, score=0.804, total=  10.7s\n",
            "[CV] criterion=entropy, max_depth=9, n_estimators=400, random_state=42 \n",
            "[CV]  criterion=entropy, max_depth=9, n_estimators=400, random_state=42, score=0.791, total=  10.8s\n",
            "[CV] criterion=entropy, max_depth=9, n_estimators=400, random_state=42 \n",
            "[CV]  criterion=entropy, max_depth=9, n_estimators=400, random_state=42, score=0.792, total=  10.9s\n",
            "[CV] criterion=entropy, max_depth=9, n_estimators=400, random_state=42 \n",
            "[CV]  criterion=entropy, max_depth=9, n_estimators=400, random_state=42, score=0.813, total=  10.8s\n",
            "[CV] criterion=entropy, max_depth=9, n_estimators=400, random_state=42 \n",
            "[CV]  criterion=entropy, max_depth=9, n_estimators=400, random_state=42, score=0.803, total=  10.9s\n",
            "[CV] criterion=entropy, max_depth=9, n_estimators=400, random_state=42 \n",
            "[CV]  criterion=entropy, max_depth=9, n_estimators=400, random_state=42, score=0.803, total=  10.8s\n",
            "[CV] criterion=entropy, max_depth=9, n_estimators=400, random_state=42 \n",
            "[CV]  criterion=entropy, max_depth=9, n_estimators=400, random_state=42, score=0.804, total=  10.9s\n",
            "[CV] criterion=entropy, max_depth=9, n_estimators=400, random_state=42 \n",
            "[CV]  criterion=entropy, max_depth=9, n_estimators=400, random_state=42, score=0.791, total=  10.8s\n",
            "[CV] criterion=entropy, max_depth=9, n_estimators=400, random_state=42 \n",
            "[CV]  criterion=entropy, max_depth=9, n_estimators=400, random_state=42, score=0.809, total=  10.9s\n"
          ]
        },
        {
          "name": "stderr",
          "output_type": "stream",
          "text": [
            "[Parallel(n_jobs=1)]: Done 300 out of 300 | elapsed: 40.4min finished\n"
          ]
        },
        {
          "data": {
            "text/plain": [
              "{'criterion': 'entropy',\n",
              " 'max_depth': 9,\n",
              " 'n_estimators': 350,\n",
              " 'random_state': 42}"
            ]
          },
          "execution_count": 78,
          "metadata": {},
          "output_type": "execute_result"
        }
      ],
      "source": [
        "# Import classification model and hyper-parameter optimizer\n",
        "from sklearn.model_selection import GridSearchCV    # optimizer\n",
        "from sklearn.ensemble import RandomForestClassifier # model\n",
        "\n",
        "# A dictionary contains hyper-parameters combinations that we want to examine\n",
        "ranfor_param_grid = {\n",
        "    'n_estimators': range(300, 450, 50),\n",
        "    'criterion': ['gini', 'entropy'],\n",
        "    'max_depth': range(5, 10),\n",
        "    'random_state': [42]\n",
        "}\n",
        "\n",
        "# Setup grid search\n",
        "search_ranfor = GridSearchCV(RandomForestClassifier(),\n",
        "                             param_grid=ranfor_param_grid,\n",
        "                             scoring='roc_auc',\n",
        "                             cv=10,\n",
        "                             verbose=3)\n",
        "\n",
        "# Fit the training set on the model with combinations of hyper-parameters\n",
        "search_ranfor.fit(X_train, y_train.values.flatten())\n",
        "\n",
        "# The best hyper-parameters combination\n",
        "search_ranfor.best_params_"
      ]
    },
    {
      "cell_type": "code",
      "execution_count": null,
      "metadata": {
        "colab": {
          "base_uri": "https://localhost:8080/"
        },
        "id": "U_V5SoWayUaZ",
        "outputId": "7deef8a1-a565-4de7-e024-e8c6d839fd01"
      },
      "outputs": [
        {
          "data": {
            "text/plain": [
              "RandomForestClassifier(bootstrap=True, ccp_alpha=0.0, class_weight=None,\n",
              "                       criterion='entropy', max_depth=9, max_features='auto',\n",
              "                       max_leaf_nodes=None, max_samples=None,\n",
              "                       min_impurity_decrease=0.0, min_impurity_split=None,\n",
              "                       min_samples_leaf=1, min_samples_split=2,\n",
              "                       min_weight_fraction_leaf=0.0, n_estimators=350,\n",
              "                       n_jobs=None, oob_score=False, random_state=42, verbose=0,\n",
              "                       warm_start=False)"
            ]
          },
          "execution_count": 79,
          "metadata": {},
          "output_type": "execute_result"
        }
      ],
      "source": [
        "# Create model object with the best found hyper-parameters combination\n",
        "ranfor = search_ranfor.best_estimator_\n",
        "\n",
        "# Fit the training set on the model\n",
        "ranfor.fit(X_train, y_train.values.flatten())"
      ]
    },
    {
      "cell_type": "code",
      "execution_count": null,
      "metadata": {
        "colab": {
          "base_uri": "https://localhost:8080/",
          "height": 352
        },
        "id": "p0EGuyYTyUaZ",
        "outputId": "5e88e5f0-5fd1-4983-f9fc-d1dede7c259a"
      },
      "outputs": [
        {
          "name": "stdout",
          "output_type": "stream",
          "text": [
            "Accuracy:\t 0.7452431289640592\n",
            "Precision:\t 0.780565596427812\n",
            "Recall:\t\t 0.6754866963529974\n",
            "F1 score:\t 0.7242345328282827\n",
            "ROC AUC:\t 0.7445857384996618\n"
          ]
        },
        {
          "data": {
            "image/png": "[encoded data removed]",
            "text/plain": [
              "<Figure size 432x288 with 2 Axes>"
            ]
          },
          "metadata": {
            "needs_background": "light"
          },
          "output_type": "display_data"
        }
      ],
      "source": [
        "# Import classification metrics\n",
        "from sklearn.metrics import confusion_matrix                                                        # confusion matrix\n",
        "from sklearn.metrics import accuracy_score, precision_score, recall_score, f1_score, roc_auc_score  # metrics\n",
        "\n",
        "# Create model evaluation object\n",
        "evaluation = ModelEvaluation(y_train)\n",
        "\n",
        "# Predict target class based on training set\n",
        "y_train_pred = ranfor.predict(X_train)\n",
        "\n",
        "# Plot confusion matrix\n",
        "evaluation.plot_confusion_matrix(y_train_pred)"
      ]
    },
    {
      "cell_type": "code",
      "execution_count": null,
      "metadata": {
        "colab": {
          "base_uri": "https://localhost:8080/",
          "height": 353
        },
        "id": "akzytr-uyUaZ",
        "outputId": "643f3f7e-a36d-4434-9819-6357775b5ed6"
      },
      "outputs": [
        {
          "name": "stdout",
          "output_type": "stream",
          "text": [
            "Accuracy:\t 0.7344535977254502\n",
            "Precision:\t 0.7679323100471959\n",
            "Recall:\t\t 0.6646671328156626\n",
            "F1 score:\t 0.7125779215655329\n",
            "ROC AUC:\t 0.7337959242341537\n"
          ]
        },
        {
          "data": {
            "image/png": "[encoded data removed]",
            "text/plain": [
              "<Figure size 432x288 with 2 Axes>"
            ]
          },
          "metadata": {
            "needs_background": "light"
          },
          "output_type": "display_data"
        }
      ],
      "source": [
        "# Import cross-validation predictor\n",
        "from sklearn.model_selection import cross_val_predict # model validation\n",
        "\n",
        "# Use cross-validation to predict target class based on training set\n",
        "y_train_pred = cross_val_predict(ranfor, X_train, y_train.values.flatten(), cv=10)\n",
        "\n",
        "# Plot confusion matrix\n",
        "evaluation.plot_confusion_matrix(y_train_pred)"
      ]
    },
    {
      "cell_type": "code",
      "execution_count": null,
      "metadata": {
        "colab": {
          "base_uri": "https://localhost:8080/"
        },
        "id": "Q4IrrE1iyUaZ",
        "outputId": "4c0d7132-d84b-4ce8-cfb7-b074f89d01c1"
      },
      "outputs": [
        {
          "name": "stdout",
          "output_type": "stream",
          "text": [
            "1. ap_hi (0.47376071492121036)\n",
            "2. ap_lo (0.19549493521024625)\n",
            "3. age (0.1266145786546227)\n",
            "4. cholesterol (0.09180357718470566)\n",
            "5. weight (0.05384736965711177)\n",
            "6. height (0.025017761460550715)\n",
            "7. gluc (0.012811742614474953)\n",
            "8. active (0.007529887873926873)\n",
            "9. smoke (0.005180937622944499)\n",
            "10. alco (0.004018483228233092)\n",
            "11. gender (0.003920011571973103)\n"
          ]
        }
      ],
      "source": [
        "# The impact of each feature on the model\n",
        "importances = list(zip(ranfor.feature_importances_, X_train.columns))   # list of important features\n",
        "importances.sort(reverse=True)                                          # sort the importances\n",
        "\n",
        "# Print feature ranking\n",
        "i = 1\n",
        "for f in importances:                         # iterate over the list of important features\n",
        "  print(\"{}. {} ({})\".format(i, f[1], f[0]))  # print the ranking\n",
        "  i += 1"
      ]
    },
    {
      "cell_type": "markdown",
      "metadata": {
        "id": "OakP9RLwyUaZ"
      },
      "source": [
        "##### VIII.1.2. Evaluate on Test Set"
      ]
    },
    {
      "cell_type": "code",
      "execution_count": null,
      "metadata": {
        "colab": {
          "base_uri": "https://localhost:8080/",
          "height": 354
        },
        "id": "kqmwb5dbyUaZ",
        "outputId": "ded275c9-62ac-4c2d-8494-aaa031161260"
      },
      "outputs": [
        {
          "name": "stdout",
          "output_type": "stream",
          "text": [
            "Accuracy:\t 0.7261991543956845\n",
            "Precision:\t 0.7558717641008058\n",
            "Recall:\t\t 0.6540572615338971\n",
            "F1 score:\t 0.7012883728328297\n",
            "ROC AUC:\t 0.7249790392519708\n"
          ]
        },
        {
          "data": {
            "image/png": "[encoded data removed]",
            "text/plain": [
              "<Figure size 432x288 with 2 Axes>"
            ]
          },
          "metadata": {
            "needs_background": "light"
          },
          "output_type": "display_data"
        }
      ],
      "source": [
        "# Create model evaluation object\n",
        "evaluation = ModelEvaluation(y_test)\n",
        "\n",
        "# Predict target class based on test set\n",
        "y_test_pred = ranfor.predict(X_test)\n",
        "\n",
        "# Plot confusion matrix\n",
        "evaluation.plot_confusion_matrix(y_test_pred)"
      ]
    },
    {
      "cell_type": "code",
      "execution_count": null,
      "metadata": {
        "colab": {
          "base_uri": "https://localhost:8080/",
          "height": 314
        },
        "id": "JtwvxPR0yUaZ",
        "outputId": "5f899b76-cea5-4910-daa0-e7b20dd3e49d"
      },
      "outputs": [
        {
          "data": {
            "image/png": "[encoded data removed]",
            "text/plain": [
              "<Figure size 432x288 with 1 Axes>"
            ]
          },
          "metadata": {
            "needs_background": "light"
          },
          "output_type": "display_data"
        },
        {
          "name": "stdout",
          "output_type": "stream",
          "text": [
            "Best Threshold = 0.44857832559700617\n",
            "G-Mean = 0.7302968248604884\n"
          ]
        }
      ],
      "source": [
        "# Import essential libraries\n",
        "from sklearn.metrics import roc_curve # roc curve metric\n",
        "from numpy import sqrt                # calculate square root\n",
        "from numpy import argmax              # find max value\n",
        "\n",
        "# Predict target class probabilities based on test set\n",
        "y_test_probas = ranfor.predict_proba(X_test)\n",
        "\n",
        "# Plot roc curve\n",
        "evaluation.plot_roc_curve(y_test_probas)"
      ]
    },
    {
      "cell_type": "code",
      "execution_count": null,
      "metadata": {
        "colab": {
          "base_uri": "https://localhost:8080/",
          "height": 352
        },
        "id": "aAhcu9aNyUaZ",
        "outputId": "d4f23e8b-32f3-4f11-c49e-f7e7e1b20203"
      },
      "outputs": [
        {
          "name": "stdout",
          "output_type": "stream",
          "text": [
            "Accuracy:\t 0.7303542790494241\n",
            "Precision:\t 0.7263392857142857\n",
            "Recall:\t\t 0.724076546506453\n",
            "F1 score:\t 0.725206151103187\n",
            "ROC AUC:\t 0.7302481055593754\n"
          ]
        },
        {
          "data": {
            "image/png": "[encoded data removed]",
            "text/plain": [
              "<Figure size 432x288 with 2 Axes>"
            ]
          },
          "metadata": {
            "needs_background": "light"
          },
          "output_type": "display_data"
        }
      ],
      "source": [
        "# Set threshold to best threshold\n",
        "threshold = evaluation.best_threshold()\n",
        "\n",
        "# Use new threshold value to make new prediction based on test set\n",
        "y_test_newpred = [1 if y_test_probas[i][1] > threshold else 0 for i in range(len(y_test_probas))]\n",
        "\n",
        "# Plot confusion matrix\n",
        "evaluation.plot_confusion_matrix(y_test_newpred)"
      ]
    },
    {
      "cell_type": "markdown",
      "metadata": {
        "id": "Ll0pjuwQ3wa3"
      },
      "source": [
        "Let's try out another model which called [Gradient Boosting Classifier](https://towardsdatascience.com/understanding-gradient-boosting-machines-9be756fe76ab)."
      ]
    },
    {
      "cell_type": "markdown",
      "metadata": {
        "id": "mF1cnXhFdUs0"
      },
      "source": [
        "### VIII.2. Gradient Boosting Classifier"
      ]
    },
    {
      "cell_type": "markdown",
      "metadata": {
        "id": "Y9DxgOojdUs0"
      },
      "source": [
        "##### VIII.2.1. Train and Evaluate on Training Set"
      ]
    },
    {
      "cell_type": "code",
      "execution_count": null,
      "metadata": {
        "colab": {
          "base_uri": "https://localhost:8080/"
        },
        "id": "9vNd-hUydUs0",
        "outputId": "dfe2cff4-b02c-45bb-c7e8-7471a3853910"
      },
      "outputs": [
        {
          "name": "stdout",
          "output_type": "stream",
          "text": [
            "Fitting 10 folds for each of 15 candidates, totalling 150 fits\n",
            "[CV] learning_rate=0.03, max_depth=3, n_estimators=150, random_state=42 \n"
          ]
        },
        {
          "name": "stderr",
          "output_type": "stream",
          "text": [
            "[Parallel(n_jobs=1)]: Using backend SequentialBackend with 1 concurrent workers.\n"
          ]
        },
        {
          "name": "stdout",
          "output_type": "stream",
          "text": [
            "[CV]  learning_rate=0.03, max_depth=3, n_estimators=150, random_state=42, score=0.795, total=   6.1s\n",
            "[CV] learning_rate=0.03, max_depth=3, n_estimators=150, random_state=42 \n"
          ]
        },
        {
          "name": "stderr",
          "output_type": "stream",
          "text": [
            "[Parallel(n_jobs=1)]: Done   1 out of   1 | elapsed:    6.1s remaining:    0.0s\n"
          ]
        },
        {
          "name": "stdout",
          "output_type": "stream",
          "text": [
            "[CV]  learning_rate=0.03, max_depth=3, n_estimators=150, random_state=42, score=0.803, total=   6.0s\n",
            "[CV] learning_rate=0.03, max_depth=3, n_estimators=150, random_state=42 \n"
          ]
        },
        {
          "name": "stderr",
          "output_type": "stream",
          "text": [
            "[Parallel(n_jobs=1)]: Done   2 out of   2 | elapsed:   12.1s remaining:    0.0s\n"
          ]
        },
        {
          "name": "stdout",
          "output_type": "stream",
          "text": [
            "[CV]  learning_rate=0.03, max_depth=3, n_estimators=150, random_state=42, score=0.791, total=   6.0s\n",
            "[CV] learning_rate=0.03, max_depth=3, n_estimators=150, random_state=42 \n",
            "[CV]  learning_rate=0.03, max_depth=3, n_estimators=150, random_state=42, score=0.792, total=   5.9s\n",
            "[CV] learning_rate=0.03, max_depth=3, n_estimators=150, random_state=42 \n",
            "[CV]  learning_rate=0.03, max_depth=3, n_estimators=150, random_state=42, score=0.813, total=   5.9s\n",
            "[CV] learning_rate=0.03, max_depth=3, n_estimators=150, random_state=42 \n",
            "[CV]  learning_rate=0.03, max_depth=3, n_estimators=150, random_state=42, score=0.801, total=   6.0s\n",
            "[CV] learning_rate=0.03, max_depth=3, n_estimators=150, random_state=42 \n",
            "[CV]  learning_rate=0.03, max_depth=3, n_estimators=150, random_state=42, score=0.802, total=   6.0s\n",
            "[CV] learning_rate=0.03, max_depth=3, n_estimators=150, random_state=42 \n",
            "[CV]  learning_rate=0.03, max_depth=3, n_estimators=150, random_state=42, score=0.804, total=   6.0s\n",
            "[CV] learning_rate=0.03, max_depth=3, n_estimators=150, random_state=42 \n",
            "[CV]  learning_rate=0.03, max_depth=3, n_estimators=150, random_state=42, score=0.789, total=   6.0s\n",
            "[CV] learning_rate=0.03, max_depth=3, n_estimators=150, random_state=42 \n",
            "[CV]  learning_rate=0.03, max_depth=3, n_estimators=150, random_state=42, score=0.808, total=   6.0s\n",
            "[CV] learning_rate=0.03, max_depth=3, n_estimators=200, random_state=42 \n",
            "[CV]  learning_rate=0.03, max_depth=3, n_estimators=200, random_state=42, score=0.796, total=   8.0s\n",
            "[CV] learning_rate=0.03, max_depth=3, n_estimators=200, random_state=42 \n",
            "[CV]  learning_rate=0.03, max_depth=3, n_estimators=200, random_state=42, score=0.804, total=   8.2s\n",
            "[CV] learning_rate=0.03, max_depth=3, n_estimators=200, random_state=42 \n",
            "[CV]  learning_rate=0.03, max_depth=3, n_estimators=200, random_state=42, score=0.792, total=   8.0s\n",
            "[CV] learning_rate=0.03, max_depth=3, n_estimators=200, random_state=42 \n",
            "[CV]  learning_rate=0.03, max_depth=3, n_estimators=200, random_state=42, score=0.793, total=   7.9s\n",
            "[CV] learning_rate=0.03, max_depth=3, n_estimators=200, random_state=42 \n",
            "[CV]  learning_rate=0.03, max_depth=3, n_estimators=200, random_state=42, score=0.813, total=   7.9s\n",
            "[CV] learning_rate=0.03, max_depth=3, n_estimators=200, random_state=42 \n",
            "[CV]  learning_rate=0.03, max_depth=3, n_estimators=200, random_state=42, score=0.802, total=   8.0s\n",
            "[CV] learning_rate=0.03, max_depth=3, n_estimators=200, random_state=42 \n",
            "[CV]  learning_rate=0.03, max_depth=3, n_estimators=200, random_state=42, score=0.803, total=   7.8s\n",
            "[CV] learning_rate=0.03, max_depth=3, n_estimators=200, random_state=42 \n",
            "[CV]  learning_rate=0.03, max_depth=3, n_estimators=200, random_state=42, score=0.804, total=   8.0s\n",
            "[CV] learning_rate=0.03, max_depth=3, n_estimators=200, random_state=42 \n",
            "[CV]  learning_rate=0.03, max_depth=3, n_estimators=200, random_state=42, score=0.790, total=   7.9s\n",
            "[CV] learning_rate=0.03, max_depth=3, n_estimators=200, random_state=42 \n",
            "[CV]  learning_rate=0.03, max_depth=3, n_estimators=200, random_state=42, score=0.809, total=   7.9s\n",
            "[CV] learning_rate=0.03, max_depth=3, n_estimators=250, random_state=42 \n",
            "[CV]  learning_rate=0.03, max_depth=3, n_estimators=250, random_state=42, score=0.796, total=   9.9s\n",
            "[CV] learning_rate=0.03, max_depth=3, n_estimators=250, random_state=42 \n",
            "[CV]  learning_rate=0.03, max_depth=3, n_estimators=250, random_state=42, score=0.805, total=   9.9s\n",
            "[CV] learning_rate=0.03, max_depth=3, n_estimators=250, random_state=42 \n",
            "[CV]  learning_rate=0.03, max_depth=3, n_estimators=250, random_state=42, score=0.793, total=   9.9s\n",
            "[CV] learning_rate=0.03, max_depth=3, n_estimators=250, random_state=42 \n",
            "[CV]  learning_rate=0.03, max_depth=3, n_estimators=250, random_state=42, score=0.793, total=   9.9s\n",
            "[CV] learning_rate=0.03, max_depth=3, n_estimators=250, random_state=42 \n",
            "[CV]  learning_rate=0.03, max_depth=3, n_estimators=250, random_state=42, score=0.813, total=   9.9s\n",
            "[CV] learning_rate=0.03, max_depth=3, n_estimators=250, random_state=42 \n",
            "[CV]  learning_rate=0.03, max_depth=3, n_estimators=250, random_state=42, score=0.803, total=   9.8s\n",
            "[CV] learning_rate=0.03, max_depth=3, n_estimators=250, random_state=42 \n",
            "[CV]  learning_rate=0.03, max_depth=3, n_estimators=250, random_state=42, score=0.804, total=   9.8s\n",
            "[CV] learning_rate=0.03, max_depth=3, n_estimators=250, random_state=42 \n",
            "[CV]  learning_rate=0.03, max_depth=3, n_estimators=250, random_state=42, score=0.805, total=   9.8s\n",
            "[CV] learning_rate=0.03, max_depth=3, n_estimators=250, random_state=42 \n",
            "[CV]  learning_rate=0.03, max_depth=3, n_estimators=250, random_state=42, score=0.790, total=   9.9s\n",
            "[CV] learning_rate=0.03, max_depth=3, n_estimators=250, random_state=42 \n",
            "[CV]  learning_rate=0.03, max_depth=3, n_estimators=250, random_state=42, score=0.809, total=  10.0s\n",
            "[CV] learning_rate=0.03, max_depth=4, n_estimators=150, random_state=42 \n",
            "[CV]  learning_rate=0.03, max_depth=4, n_estimators=150, random_state=42, score=0.796, total=   7.6s\n",
            "[CV] learning_rate=0.03, max_depth=4, n_estimators=150, random_state=42 \n",
            "[CV]  learning_rate=0.03, max_depth=4, n_estimators=150, random_state=42, score=0.805, total=   7.6s\n",
            "[CV] learning_rate=0.03, max_depth=4, n_estimators=150, random_state=42 \n",
            "[CV]  learning_rate=0.03, max_depth=4, n_estimators=150, random_state=42, score=0.793, total=   7.6s\n",
            "[CV] learning_rate=0.03, max_depth=4, n_estimators=150, random_state=42 \n",
            "[CV]  learning_rate=0.03, max_depth=4, n_estimators=150, random_state=42, score=0.793, total=   7.6s\n",
            "[CV] learning_rate=0.03, max_depth=4, n_estimators=150, random_state=42 \n",
            "[CV]  learning_rate=0.03, max_depth=4, n_estimators=150, random_state=42, score=0.813, total=   7.5s\n",
            "[CV] learning_rate=0.03, max_depth=4, n_estimators=150, random_state=42 \n",
            "[CV]  learning_rate=0.03, max_depth=4, n_estimators=150, random_state=42, score=0.803, total=   7.6s\n",
            "[CV] learning_rate=0.03, max_depth=4, n_estimators=150, random_state=42 \n",
            "[CV]  learning_rate=0.03, max_depth=4, n_estimators=150, random_state=42, score=0.804, total=   7.7s\n",
            "[CV] learning_rate=0.03, max_depth=4, n_estimators=150, random_state=42 \n",
            "[CV]  learning_rate=0.03, max_depth=4, n_estimators=150, random_state=42, score=0.804, total=   7.7s\n",
            "[CV] learning_rate=0.03, max_depth=4, n_estimators=150, random_state=42 \n",
            "[CV]  learning_rate=0.03, max_depth=4, n_estimators=150, random_state=42, score=0.790, total=   7.6s\n",
            "[CV] learning_rate=0.03, max_depth=4, n_estimators=150, random_state=42 \n",
            "[CV]  learning_rate=0.03, max_depth=4, n_estimators=150, random_state=42, score=0.809, total=   7.7s\n",
            "[CV] learning_rate=0.03, max_depth=4, n_estimators=200, random_state=42 \n",
            "[CV]  learning_rate=0.03, max_depth=4, n_estimators=200, random_state=42, score=0.797, total=  10.1s\n",
            "[CV] learning_rate=0.03, max_depth=4, n_estimators=200, random_state=42 \n",
            "[CV]  learning_rate=0.03, max_depth=4, n_estimators=200, random_state=42, score=0.806, total=  10.1s\n",
            "[CV] learning_rate=0.03, max_depth=4, n_estimators=200, random_state=42 \n",
            "[CV]  learning_rate=0.03, max_depth=4, n_estimators=200, random_state=42, score=0.793, total=  10.1s\n",
            "[CV] learning_rate=0.03, max_depth=4, n_estimators=200, random_state=42 \n",
            "[CV]  learning_rate=0.03, max_depth=4, n_estimators=200, random_state=42, score=0.794, total=  10.2s\n",
            "[CV] learning_rate=0.03, max_depth=4, n_estimators=200, random_state=42 \n",
            "[CV]  learning_rate=0.03, max_depth=4, n_estimators=200, random_state=42, score=0.813, total=  10.1s\n",
            "[CV] learning_rate=0.03, max_depth=4, n_estimators=200, random_state=42 \n",
            "[CV]  learning_rate=0.03, max_depth=4, n_estimators=200, random_state=42, score=0.804, total=  10.0s\n",
            "[CV] learning_rate=0.03, max_depth=4, n_estimators=200, random_state=42 \n",
            "[CV]  learning_rate=0.03, max_depth=4, n_estimators=200, random_state=42, score=0.805, total=  10.1s\n",
            "[CV] learning_rate=0.03, max_depth=4, n_estimators=200, random_state=42 \n",
            "[CV]  learning_rate=0.03, max_depth=4, n_estimators=200, random_state=42, score=0.805, total=  10.1s\n",
            "[CV] learning_rate=0.03, max_depth=4, n_estimators=200, random_state=42 \n",
            "[CV]  learning_rate=0.03, max_depth=4, n_estimators=200, random_state=42, score=0.791, total=  10.1s\n",
            "[CV] learning_rate=0.03, max_depth=4, n_estimators=200, random_state=42 \n",
            "[CV]  learning_rate=0.03, max_depth=4, n_estimators=200, random_state=42, score=0.809, total=  10.2s\n",
            "[CV] learning_rate=0.03, max_depth=4, n_estimators=250, random_state=42 \n",
            "[CV]  learning_rate=0.03, max_depth=4, n_estimators=250, random_state=42, score=0.797, total=  12.7s\n",
            "[CV] learning_rate=0.03, max_depth=4, n_estimators=250, random_state=42 \n",
            "[CV]  learning_rate=0.03, max_depth=4, n_estimators=250, random_state=42, score=0.806, total=  12.7s\n",
            "[CV] learning_rate=0.03, max_depth=4, n_estimators=250, random_state=42 \n",
            "[CV]  learning_rate=0.03, max_depth=4, n_estimators=250, random_state=42, score=0.793, total=  12.8s\n",
            "[CV] learning_rate=0.03, max_depth=4, n_estimators=250, random_state=42 \n",
            "[CV]  learning_rate=0.03, max_depth=4, n_estimators=250, random_state=42, score=0.794, total=  12.8s\n",
            "[CV] learning_rate=0.03, max_depth=4, n_estimators=250, random_state=42 \n",
            "[CV]  learning_rate=0.03, max_depth=4, n_estimators=250, random_state=42, score=0.813, total=  12.7s\n",
            "[CV] learning_rate=0.03, max_depth=4, n_estimators=250, random_state=42 \n",
            "[CV]  learning_rate=0.03, max_depth=4, n_estimators=250, random_state=42, score=0.804, total=  12.8s\n",
            "[CV] learning_rate=0.03, max_depth=4, n_estimators=250, random_state=42 \n",
            "[CV]  learning_rate=0.03, max_depth=4, n_estimators=250, random_state=42, score=0.805, total=  13.1s\n",
            "[CV] learning_rate=0.03, max_depth=4, n_estimators=250, random_state=42 \n",
            "[CV]  learning_rate=0.03, max_depth=4, n_estimators=250, random_state=42, score=0.805, total=  13.1s\n",
            "[CV] learning_rate=0.03, max_depth=4, n_estimators=250, random_state=42 \n",
            "[CV]  learning_rate=0.03, max_depth=4, n_estimators=250, random_state=42, score=0.791, total=  13.0s\n",
            "[CV] learning_rate=0.03, max_depth=4, n_estimators=250, random_state=42 \n",
            "[CV]  learning_rate=0.03, max_depth=4, n_estimators=250, random_state=42, score=0.809, total=  13.1s\n",
            "[CV] learning_rate=0.03, max_depth=5, n_estimators=150, random_state=42 \n",
            "[CV]  learning_rate=0.03, max_depth=5, n_estimators=150, random_state=42, score=0.798, total=   9.5s\n",
            "[CV] learning_rate=0.03, max_depth=5, n_estimators=150, random_state=42 \n",
            "[CV]  learning_rate=0.03, max_depth=5, n_estimators=150, random_state=42, score=0.805, total=   9.5s\n",
            "[CV] learning_rate=0.03, max_depth=5, n_estimators=150, random_state=42 \n",
            "[CV]  learning_rate=0.03, max_depth=5, n_estimators=150, random_state=42, score=0.793, total=   9.5s\n",
            "[CV] learning_rate=0.03, max_depth=5, n_estimators=150, random_state=42 \n",
            "[CV]  learning_rate=0.03, max_depth=5, n_estimators=150, random_state=42, score=0.794, total=   9.7s\n",
            "[CV] learning_rate=0.03, max_depth=5, n_estimators=150, random_state=42 \n",
            "[CV]  learning_rate=0.03, max_depth=5, n_estimators=150, random_state=42, score=0.812, total=   9.7s\n",
            "[CV] learning_rate=0.03, max_depth=5, n_estimators=150, random_state=42 \n",
            "[CV]  learning_rate=0.03, max_depth=5, n_estimators=150, random_state=42, score=0.805, total=   9.6s\n",
            "[CV] learning_rate=0.03, max_depth=5, n_estimators=150, random_state=42 \n",
            "[CV]  learning_rate=0.03, max_depth=5, n_estimators=150, random_state=42, score=0.805, total=   9.7s\n",
            "[CV] learning_rate=0.03, max_depth=5, n_estimators=150, random_state=42 \n",
            "[CV]  learning_rate=0.03, max_depth=5, n_estimators=150, random_state=42, score=0.805, total=   9.6s\n",
            "[CV] learning_rate=0.03, max_depth=5, n_estimators=150, random_state=42 \n",
            "[CV]  learning_rate=0.03, max_depth=5, n_estimators=150, random_state=42, score=0.791, total=   9.6s\n",
            "[CV] learning_rate=0.03, max_depth=5, n_estimators=150, random_state=42 \n",
            "[CV]  learning_rate=0.03, max_depth=5, n_estimators=150, random_state=42, score=0.810, total=   9.6s\n",
            "[CV] learning_rate=0.03, max_depth=5, n_estimators=200, random_state=42 \n",
            "[CV]  learning_rate=0.03, max_depth=5, n_estimators=200, random_state=42, score=0.798, total=  12.7s\n",
            "[CV] learning_rate=0.03, max_depth=5, n_estimators=200, random_state=42 \n",
            "[CV]  learning_rate=0.03, max_depth=5, n_estimators=200, random_state=42, score=0.805, total=  12.8s\n",
            "[CV] learning_rate=0.03, max_depth=5, n_estimators=200, random_state=42 \n",
            "[CV]  learning_rate=0.03, max_depth=5, n_estimators=200, random_state=42, score=0.793, total=  12.6s\n",
            "[CV] learning_rate=0.03, max_depth=5, n_estimators=200, random_state=42 \n",
            "[CV]  learning_rate=0.03, max_depth=5, n_estimators=200, random_state=42, score=0.794, total=  12.5s\n",
            "[CV] learning_rate=0.03, max_depth=5, n_estimators=200, random_state=42 \n",
            "[CV]  learning_rate=0.03, max_depth=5, n_estimators=200, random_state=42, score=0.812, total=  12.7s\n",
            "[CV] learning_rate=0.03, max_depth=5, n_estimators=200, random_state=42 \n",
            "[CV]  learning_rate=0.03, max_depth=5, n_estimators=200, random_state=42, score=0.805, total=  12.5s\n",
            "[CV] learning_rate=0.03, max_depth=5, n_estimators=200, random_state=42 \n",
            "[CV]  learning_rate=0.03, max_depth=5, n_estimators=200, random_state=42, score=0.805, total=  12.4s\n",
            "[CV] learning_rate=0.03, max_depth=5, n_estimators=200, random_state=42 \n",
            "[CV]  learning_rate=0.03, max_depth=5, n_estimators=200, random_state=42, score=0.804, total=  12.4s\n",
            "[CV] learning_rate=0.03, max_depth=5, n_estimators=200, random_state=42 \n",
            "[CV]  learning_rate=0.03, max_depth=5, n_estimators=200, random_state=42, score=0.792, total=  12.4s\n",
            "[CV] learning_rate=0.03, max_depth=5, n_estimators=200, random_state=42 \n",
            "[CV]  learning_rate=0.03, max_depth=5, n_estimators=200, random_state=42, score=0.810, total=  12.4s\n",
            "[CV] learning_rate=0.03, max_depth=5, n_estimators=250, random_state=42 \n",
            "[CV]  learning_rate=0.03, max_depth=5, n_estimators=250, random_state=42, score=0.798, total=  15.7s\n",
            "[CV] learning_rate=0.03, max_depth=5, n_estimators=250, random_state=42 \n",
            "[CV]  learning_rate=0.03, max_depth=5, n_estimators=250, random_state=42, score=0.805, total=  15.7s\n",
            "[CV] learning_rate=0.03, max_depth=5, n_estimators=250, random_state=42 \n",
            "[CV]  learning_rate=0.03, max_depth=5, n_estimators=250, random_state=42, score=0.793, total=  15.5s\n",
            "[CV] learning_rate=0.03, max_depth=5, n_estimators=250, random_state=42 \n",
            "[CV]  learning_rate=0.03, max_depth=5, n_estimators=250, random_state=42, score=0.794, total=  15.6s\n",
            "[CV] learning_rate=0.03, max_depth=5, n_estimators=250, random_state=42 \n",
            "[CV]  learning_rate=0.03, max_depth=5, n_estimators=250, random_state=42, score=0.812, total=  15.6s\n",
            "[CV] learning_rate=0.03, max_depth=5, n_estimators=250, random_state=42 \n",
            "[CV]  learning_rate=0.03, max_depth=5, n_estimators=250, random_state=42, score=0.805, total=  15.5s\n",
            "[CV] learning_rate=0.03, max_depth=5, n_estimators=250, random_state=42 \n",
            "[CV]  learning_rate=0.03, max_depth=5, n_estimators=250, random_state=42, score=0.805, total=  15.5s\n",
            "[CV] learning_rate=0.03, max_depth=5, n_estimators=250, random_state=42 \n",
            "[CV]  learning_rate=0.03, max_depth=5, n_estimators=250, random_state=42, score=0.805, total=  15.5s\n",
            "[CV] learning_rate=0.03, max_depth=5, n_estimators=250, random_state=42 \n",
            "[CV]  learning_rate=0.03, max_depth=5, n_estimators=250, random_state=42, score=0.792, total=  15.6s\n",
            "[CV] learning_rate=0.03, max_depth=5, n_estimators=250, random_state=42 \n",
            "[CV]  learning_rate=0.03, max_depth=5, n_estimators=250, random_state=42, score=0.810, total=  15.6s\n",
            "[CV] learning_rate=0.03, max_depth=6, n_estimators=150, random_state=42 \n",
            "[CV]  learning_rate=0.03, max_depth=6, n_estimators=150, random_state=42, score=0.796, total=  11.2s\n",
            "[CV] learning_rate=0.03, max_depth=6, n_estimators=150, random_state=42 \n",
            "[CV]  learning_rate=0.03, max_depth=6, n_estimators=150, random_state=42, score=0.803, total=  11.2s\n",
            "[CV] learning_rate=0.03, max_depth=6, n_estimators=150, random_state=42 \n",
            "[CV]  learning_rate=0.03, max_depth=6, n_estimators=150, random_state=42, score=0.792, total=  11.2s\n",
            "[CV] learning_rate=0.03, max_depth=6, n_estimators=150, random_state=42 \n",
            "[CV]  learning_rate=0.03, max_depth=6, n_estimators=150, random_state=42, score=0.793, total=  11.2s\n",
            "[CV] learning_rate=0.03, max_depth=6, n_estimators=150, random_state=42 \n",
            "[CV]  learning_rate=0.03, max_depth=6, n_estimators=150, random_state=42, score=0.811, total=  11.0s\n",
            "[CV] learning_rate=0.03, max_depth=6, n_estimators=150, random_state=42 \n",
            "[CV]  learning_rate=0.03, max_depth=6, n_estimators=150, random_state=42, score=0.806, total=  11.0s\n",
            "[CV] learning_rate=0.03, max_depth=6, n_estimators=150, random_state=42 \n",
            "[CV]  learning_rate=0.03, max_depth=6, n_estimators=150, random_state=42, score=0.805, total=  11.1s\n",
            "[CV] learning_rate=0.03, max_depth=6, n_estimators=150, random_state=42 \n",
            "[CV]  learning_rate=0.03, max_depth=6, n_estimators=150, random_state=42, score=0.805, total=  11.1s\n",
            "[CV] learning_rate=0.03, max_depth=6, n_estimators=150, random_state=42 \n",
            "[CV]  learning_rate=0.03, max_depth=6, n_estimators=150, random_state=42, score=0.791, total=  11.1s\n",
            "[CV] learning_rate=0.03, max_depth=6, n_estimators=150, random_state=42 \n",
            "[CV]  learning_rate=0.03, max_depth=6, n_estimators=150, random_state=42, score=0.810, total=  11.2s\n",
            "[CV] learning_rate=0.03, max_depth=6, n_estimators=200, random_state=42 \n",
            "[CV]  learning_rate=0.03, max_depth=6, n_estimators=200, random_state=42, score=0.796, total=  14.7s\n",
            "[CV] learning_rate=0.03, max_depth=6, n_estimators=200, random_state=42 \n",
            "[CV]  learning_rate=0.03, max_depth=6, n_estimators=200, random_state=42, score=0.803, total=  14.8s\n",
            "[CV] learning_rate=0.03, max_depth=6, n_estimators=200, random_state=42 \n",
            "[CV]  learning_rate=0.03, max_depth=6, n_estimators=200, random_state=42, score=0.792, total=  14.7s\n",
            "[CV] learning_rate=0.03, max_depth=6, n_estimators=200, random_state=42 \n",
            "[CV]  learning_rate=0.03, max_depth=6, n_estimators=200, random_state=42, score=0.793, total=  14.8s\n",
            "[CV] learning_rate=0.03, max_depth=6, n_estimators=200, random_state=42 \n",
            "[CV]  learning_rate=0.03, max_depth=6, n_estimators=200, random_state=42, score=0.811, total=  14.8s\n",
            "[CV] learning_rate=0.03, max_depth=6, n_estimators=200, random_state=42 \n",
            "[CV]  learning_rate=0.03, max_depth=6, n_estimators=200, random_state=42, score=0.806, total=  14.8s\n",
            "[CV] learning_rate=0.03, max_depth=6, n_estimators=200, random_state=42 \n",
            "[CV]  learning_rate=0.03, max_depth=6, n_estimators=200, random_state=42, score=0.804, total=  14.9s\n",
            "[CV] learning_rate=0.03, max_depth=6, n_estimators=200, random_state=42 \n",
            "[CV]  learning_rate=0.03, max_depth=6, n_estimators=200, random_state=42, score=0.805, total=  14.8s\n",
            "[CV] learning_rate=0.03, max_depth=6, n_estimators=200, random_state=42 \n",
            "[CV]  learning_rate=0.03, max_depth=6, n_estimators=200, random_state=42, score=0.791, total=  14.6s\n",
            "[CV] learning_rate=0.03, max_depth=6, n_estimators=200, random_state=42 \n",
            "[CV]  learning_rate=0.03, max_depth=6, n_estimators=200, random_state=42, score=0.810, total=  14.7s\n",
            "[CV] learning_rate=0.03, max_depth=6, n_estimators=250, random_state=42 \n",
            "[CV]  learning_rate=0.03, max_depth=6, n_estimators=250, random_state=42, score=0.796, total=  18.3s\n",
            "[CV] learning_rate=0.03, max_depth=6, n_estimators=250, random_state=42 \n",
            "[CV]  learning_rate=0.03, max_depth=6, n_estimators=250, random_state=42, score=0.802, total=  18.4s\n",
            "[CV] learning_rate=0.03, max_depth=6, n_estimators=250, random_state=42 \n",
            "[CV]  learning_rate=0.03, max_depth=6, n_estimators=250, random_state=42, score=0.792, total=  18.6s\n",
            "[CV] learning_rate=0.03, max_depth=6, n_estimators=250, random_state=42 \n",
            "[CV]  learning_rate=0.03, max_depth=6, n_estimators=250, random_state=42, score=0.794, total=  18.5s\n",
            "[CV] learning_rate=0.03, max_depth=6, n_estimators=250, random_state=42 \n",
            "[CV]  learning_rate=0.03, max_depth=6, n_estimators=250, random_state=42, score=0.811, total=  18.3s\n",
            "[CV] learning_rate=0.03, max_depth=6, n_estimators=250, random_state=42 \n",
            "[CV]  learning_rate=0.03, max_depth=6, n_estimators=250, random_state=42, score=0.805, total=  18.4s\n",
            "[CV] learning_rate=0.03, max_depth=6, n_estimators=250, random_state=42 \n",
            "[CV]  learning_rate=0.03, max_depth=6, n_estimators=250, random_state=42, score=0.804, total=  18.4s\n",
            "[CV] learning_rate=0.03, max_depth=6, n_estimators=250, random_state=42 \n",
            "[CV]  learning_rate=0.03, max_depth=6, n_estimators=250, random_state=42, score=0.804, total=  18.6s\n",
            "[CV] learning_rate=0.03, max_depth=6, n_estimators=250, random_state=42 \n",
            "[CV]  learning_rate=0.03, max_depth=6, n_estimators=250, random_state=42, score=0.791, total=  18.5s\n",
            "[CV] learning_rate=0.03, max_depth=6, n_estimators=250, random_state=42 \n",
            "[CV]  learning_rate=0.03, max_depth=6, n_estimators=250, random_state=42, score=0.811, total=  18.6s\n",
            "[CV] learning_rate=0.03, max_depth=7, n_estimators=150, random_state=42 \n",
            "[CV]  learning_rate=0.03, max_depth=7, n_estimators=150, random_state=42, score=0.795, total=  13.2s\n",
            "[CV] learning_rate=0.03, max_depth=7, n_estimators=150, random_state=42 \n",
            "[CV]  learning_rate=0.03, max_depth=7, n_estimators=150, random_state=42, score=0.802, total=  13.3s\n",
            "[CV] learning_rate=0.03, max_depth=7, n_estimators=150, random_state=42 \n",
            "[CV]  learning_rate=0.03, max_depth=7, n_estimators=150, random_state=42, score=0.791, total=  13.2s\n",
            "[CV] learning_rate=0.03, max_depth=7, n_estimators=150, random_state=42 \n",
            "[CV]  learning_rate=0.03, max_depth=7, n_estimators=150, random_state=42, score=0.791, total=  13.0s\n",
            "[CV] learning_rate=0.03, max_depth=7, n_estimators=150, random_state=42 \n",
            "[CV]  learning_rate=0.03, max_depth=7, n_estimators=150, random_state=42, score=0.810, total=  13.0s\n",
            "[CV] learning_rate=0.03, max_depth=7, n_estimators=150, random_state=42 \n",
            "[CV]  learning_rate=0.03, max_depth=7, n_estimators=150, random_state=42, score=0.805, total=  13.1s\n",
            "[CV] learning_rate=0.03, max_depth=7, n_estimators=150, random_state=42 \n",
            "[CV]  learning_rate=0.03, max_depth=7, n_estimators=150, random_state=42, score=0.804, total=  13.2s\n",
            "[CV] learning_rate=0.03, max_depth=7, n_estimators=150, random_state=42 \n",
            "[CV]  learning_rate=0.03, max_depth=7, n_estimators=150, random_state=42, score=0.804, total=  13.1s\n",
            "[CV] learning_rate=0.03, max_depth=7, n_estimators=150, random_state=42 \n",
            "[CV]  learning_rate=0.03, max_depth=7, n_estimators=150, random_state=42, score=0.791, total=  13.0s\n",
            "[CV] learning_rate=0.03, max_depth=7, n_estimators=150, random_state=42 \n",
            "[CV]  learning_rate=0.03, max_depth=7, n_estimators=150, random_state=42, score=0.810, total=  13.1s\n",
            "[CV] learning_rate=0.03, max_depth=7, n_estimators=200, random_state=42 \n",
            "[CV]  learning_rate=0.03, max_depth=7, n_estimators=200, random_state=42, score=0.795, total=  17.5s\n",
            "[CV] learning_rate=0.03, max_depth=7, n_estimators=200, random_state=42 \n",
            "[CV]  learning_rate=0.03, max_depth=7, n_estimators=200, random_state=42, score=0.801, total=  17.3s\n",
            "[CV] learning_rate=0.03, max_depth=7, n_estimators=200, random_state=42 \n",
            "[CV]  learning_rate=0.03, max_depth=7, n_estimators=200, random_state=42, score=0.790, total=  17.4s\n",
            "[CV] learning_rate=0.03, max_depth=7, n_estimators=200, random_state=42 \n",
            "[CV]  learning_rate=0.03, max_depth=7, n_estimators=200, random_state=42, score=0.791, total=  17.4s\n",
            "[CV] learning_rate=0.03, max_depth=7, n_estimators=200, random_state=42 \n",
            "[CV]  learning_rate=0.03, max_depth=7, n_estimators=200, random_state=42, score=0.809, total=  17.4s\n",
            "[CV] learning_rate=0.03, max_depth=7, n_estimators=200, random_state=42 \n",
            "[CV]  learning_rate=0.03, max_depth=7, n_estimators=200, random_state=42, score=0.805, total=  17.3s\n",
            "[CV] learning_rate=0.03, max_depth=7, n_estimators=200, random_state=42 \n",
            "[CV]  learning_rate=0.03, max_depth=7, n_estimators=200, random_state=42, score=0.804, total=  17.4s\n",
            "[CV] learning_rate=0.03, max_depth=7, n_estimators=200, random_state=42 \n",
            "[CV]  learning_rate=0.03, max_depth=7, n_estimators=200, random_state=42, score=0.803, total=  17.4s\n",
            "[CV] learning_rate=0.03, max_depth=7, n_estimators=200, random_state=42 \n",
            "[CV]  learning_rate=0.03, max_depth=7, n_estimators=200, random_state=42, score=0.791, total=  17.3s\n",
            "[CV] learning_rate=0.03, max_depth=7, n_estimators=200, random_state=42 \n",
            "[CV]  learning_rate=0.03, max_depth=7, n_estimators=200, random_state=42, score=0.809, total=  17.3s\n",
            "[CV] learning_rate=0.03, max_depth=7, n_estimators=250, random_state=42 \n",
            "[CV]  learning_rate=0.03, max_depth=7, n_estimators=250, random_state=42, score=0.794, total=  21.8s\n",
            "[CV] learning_rate=0.03, max_depth=7, n_estimators=250, random_state=42 \n",
            "[CV]  learning_rate=0.03, max_depth=7, n_estimators=250, random_state=42, score=0.801, total=  21.6s\n",
            "[CV] learning_rate=0.03, max_depth=7, n_estimators=250, random_state=42 \n",
            "[CV]  learning_rate=0.03, max_depth=7, n_estimators=250, random_state=42, score=0.789, total=  21.8s\n",
            "[CV] learning_rate=0.03, max_depth=7, n_estimators=250, random_state=42 \n",
            "[CV]  learning_rate=0.03, max_depth=7, n_estimators=250, random_state=42, score=0.791, total=  21.7s\n",
            "[CV] learning_rate=0.03, max_depth=7, n_estimators=250, random_state=42 \n",
            "[CV]  learning_rate=0.03, max_depth=7, n_estimators=250, random_state=42, score=0.809, total=  21.8s\n",
            "[CV] learning_rate=0.03, max_depth=7, n_estimators=250, random_state=42 \n",
            "[CV]  learning_rate=0.03, max_depth=7, n_estimators=250, random_state=42, score=0.804, total=  21.8s\n",
            "[CV] learning_rate=0.03, max_depth=7, n_estimators=250, random_state=42 \n",
            "[CV]  learning_rate=0.03, max_depth=7, n_estimators=250, random_state=42, score=0.803, total=  21.5s\n",
            "[CV] learning_rate=0.03, max_depth=7, n_estimators=250, random_state=42 \n",
            "[CV]  learning_rate=0.03, max_depth=7, n_estimators=250, random_state=42, score=0.803, total=  21.7s\n",
            "[CV] learning_rate=0.03, max_depth=7, n_estimators=250, random_state=42 \n",
            "[CV]  learning_rate=0.03, max_depth=7, n_estimators=250, random_state=42, score=0.791, total=  21.9s\n",
            "[CV] learning_rate=0.03, max_depth=7, n_estimators=250, random_state=42 \n",
            "[CV]  learning_rate=0.03, max_depth=7, n_estimators=250, random_state=42, score=0.809, total=  22.0s\n"
          ]
        },
        {
          "name": "stderr",
          "output_type": "stream",
          "text": [
            "[Parallel(n_jobs=1)]: Done 150 out of 150 | elapsed: 31.5min finished\n"
          ]
        },
        {
          "data": {
            "text/plain": [
              "{'learning_rate': 0.03,\n",
              " 'max_depth': 4,\n",
              " 'n_estimators': 250,\n",
              " 'random_state': 42}"
            ]
          },
          "execution_count": 86,
          "metadata": {},
          "output_type": "execute_result"
        }
      ],
      "source": [
        "# Import classification model and hyper-parameter optimizer\n",
        "from sklearn.model_selection import GridSearchCV  # optimizer\n",
        "from sklearn.ensemble import GradientBoostingClassifier   # model\n",
        "\n",
        "# A dictionary contains hyper-parameters combinations that we want to examine\n",
        "gb_param_grid = {\n",
        "    'learning_rate': [0.03],\n",
        "    'n_estimators': range(150, 300, 50),\n",
        "    'max_depth': range(3, 8),\n",
        "    'random_state': [42]\n",
        "}\n",
        "\n",
        "# Setup grid search\n",
        "search_gb = GridSearchCV(GradientBoostingClassifier(),\n",
        "                         param_grid=gb_param_grid,\n",
        "                         scoring='roc_auc',\n",
        "                         cv=10,\n",
        "                         verbose=3)\n",
        "\n",
        "# Fit the training set on the model with combinations of hyper-parameters\n",
        "search_gb.fit(X_train, y_train.values.flatten())\n",
        "\n",
        "# The best hyper-parameters combination\n",
        "search_gb.best_params_"
      ]
    },
    {
      "cell_type": "code",
      "execution_count": null,
      "metadata": {
        "colab": {
          "base_uri": "https://localhost:8080/"
        },
        "id": "bF1MdKXTdUs0",
        "outputId": "0d85e232-8b86-485d-947d-15e69884918e"
      },
      "outputs": [
        {
          "data": {
            "text/plain": [
              "GradientBoostingClassifier(ccp_alpha=0.0, criterion='friedman_mse', init=None,\n",
              "                           learning_rate=0.03, loss='deviance', max_depth=4,\n",
              "                           max_features=None, max_leaf_nodes=None,\n",
              "                           min_impurity_decrease=0.0, min_impurity_split=None,\n",
              "                           min_samples_leaf=1, min_samples_split=2,\n",
              "                           min_weight_fraction_leaf=0.0, n_estimators=250,\n",
              "                           n_iter_no_change=None, presort='deprecated',\n",
              "                           random_state=42, subsample=1.0, tol=0.0001,\n",
              "                           validation_fraction=0.1, verbose=0,\n",
              "                           warm_start=False)"
            ]
          },
          "execution_count": 87,
          "metadata": {},
          "output_type": "execute_result"
        }
      ],
      "source": [
        "# Create model object with the best found hyper-parameters combination\n",
        "gb = search_gb.best_estimator_\n",
        "\n",
        "# Fit the training set on the model\n",
        "gb.fit(X_train, y_train.values.flatten())"
      ]
    },
    {
      "cell_type": "code",
      "execution_count": null,
      "metadata": {
        "colab": {
          "base_uri": "https://localhost:8080/",
          "height": 352
        },
        "id": "w0cTnbezdUs0",
        "outputId": "e7c9ff43-1032-4de9-a324-72e8316b518b"
      },
      "outputs": [
        {
          "name": "stdout",
          "output_type": "stream",
          "text": [
            "Accuracy:\t 0.741014799154334\n",
            "Precision:\t 0.7635934767578999\n",
            "Recall:\t\t 0.6909800169285688\n",
            "F1 score:\t 0.7254742861558673\n",
            "ROC AUC:\t 0.7405432671752431\n"
          ]
        },
        {
          "data": {
            "image/png": "[encoded data removed]",
            "text/plain": [
              "<Figure size 432x288 with 2 Axes>"
            ]
          },
          "metadata": {
            "needs_background": "light"
          },
          "output_type": "display_data"
        }
      ],
      "source": [
        "# Import classification metrics\n",
        "from sklearn.metrics import confusion_matrix                                                        # confusion matrix\n",
        "from sklearn.metrics import accuracy_score, precision_score, recall_score, f1_score, roc_auc_score  # metrics\n",
        "\n",
        "# Create model evaluation object\n",
        "evaluation = ModelEvaluation(y_train)\n",
        "\n",
        "# Predict target class based on training set\n",
        "y_train_pred = gb.predict(X_train)\n",
        "\n",
        "# Plot confusion matrix\n",
        "evaluation.plot_confusion_matrix(y_train_pred)"
      ]
    },
    {
      "cell_type": "code",
      "execution_count": null,
      "metadata": {
        "colab": {
          "base_uri": "https://localhost:8080/",
          "height": 352
        },
        "id": "Q0QFOWChdUs0",
        "outputId": "3b6ea2ee-617c-4439-a99c-38750326068d"
      },
      "outputs": [
        {
          "name": "stdout",
          "output_type": "stream",
          "text": [
            "Accuracy:\t 0.736039221404097\n",
            "Precision:\t 0.7563843542912558\n",
            "Recall:\t\t 0.6888823464468407\n",
            "F1 score:\t 0.7210569904277653\n",
            "ROC AUC:\t 0.7355948110641858\n"
          ]
        },
        {
          "data": {
            "image/png": "[encoded data removed]",
            "text/plain": [
              "<Figure size 432x288 with 2 Axes>"
            ]
          },
          "metadata": {
            "needs_background": "light"
          },
          "output_type": "display_data"
        }
      ],
      "source": [
        "# Import cross-validation predictor\n",
        "from sklearn.model_selection import cross_val_predict # model validation\n",
        "\n",
        "# Use cross-validation to predict target class based on training set\n",
        "y_train_pred = cross_val_predict(gb, X_train, y_train.values.flatten(), cv=10)\n",
        "\n",
        "# Plot confusion matrix\n",
        "evaluation.plot_confusion_matrix(y_train_pred)"
      ]
    },
    {
      "cell_type": "code",
      "execution_count": null,
      "metadata": {
        "colab": {
          "base_uri": "https://localhost:8080/"
        },
        "id": "1-BDZOwbdUs1",
        "outputId": "57b99a4d-33ff-4e99-bd6a-a8df52e1d989"
      },
      "outputs": [
        {
          "name": "stdout",
          "output_type": "stream",
          "text": [
            "1. ap_hi (0.7384829849689685)\n",
            "2. age (0.12442024980279066)\n",
            "3. cholesterol (0.07633019069123553)\n",
            "4. weight (0.0224152503291574)\n",
            "5. ap_lo (0.011381513976314848)\n",
            "6. active (0.007391466953146436)\n",
            "7. gluc (0.006299071137316351)\n",
            "8. height (0.005653163778885532)\n",
            "9. smoke (0.00424691034784652)\n",
            "10. alco (0.002321355762590927)\n",
            "11. gender (0.0010578422517473747)\n"
          ]
        }
      ],
      "source": [
        "# The impact of each feature on the model\n",
        "importances = list(zip(gb.feature_importances_, X_train.columns))      # list of important features\n",
        "importances.sort(reverse=True)                                          # sort the importances\n",
        "\n",
        "# Print feature ranking\n",
        "i = 1\n",
        "for f in importances:                         # iterate over the list of important features\n",
        "  print(\"{}. {} ({})\".format(i, f[1], f[0]))  # print the ranking\n",
        "  i += 1"
      ]
    },
    {
      "cell_type": "markdown",
      "metadata": {
        "id": "TuDrNE3MdUs1"
      },
      "source": [
        "Same as previous model, the situation happened, the way the dataset was preprocessed causes this model to be underfitted on the training set."
      ]
    },
    {
      "cell_type": "markdown",
      "metadata": {
        "id": "6x7mTyBndUs1"
      },
      "source": [
        "##### VIII.2.2. Evaluate on Test Set"
      ]
    },
    {
      "cell_type": "code",
      "execution_count": null,
      "metadata": {
        "colab": {
          "base_uri": "https://localhost:8080/",
          "height": 352
        },
        "id": "LaXJSrSBdUs1",
        "outputId": "ee79e172-678b-48a2-d9cf-55b37311ca85"
      },
      "outputs": [
        {
          "name": "stdout",
          "output_type": "stream",
          "text": [
            "Accuracy:\t 0.7305000728969238\n",
            "Precision:\t 0.7489368662087014\n",
            "Recall:\t\t 0.6792760717994363\n",
            "F1 score:\t 0.7124076234928043\n",
            "ROC AUC:\t 0.729633736057379\n"
          ]
        },
        {
          "data": {
            "image/png": "[encoded data removed]",
            "text/plain": [
              "<Figure size 432x288 with 2 Axes>"
            ]
          },
          "metadata": {
            "needs_background": "light"
          },
          "output_type": "display_data"
        }
      ],
      "source": [
        "# Create model evaluation object\n",
        "evaluation = ModelEvaluation(y_test)\n",
        "\n",
        "# Predict target class based on test set\n",
        "y_test_pred = gb.predict(X_test)\n",
        "\n",
        "# Plot confusion matrix\n",
        "evaluation.plot_confusion_matrix(y_test_pred)"
      ]
    },
    {
      "cell_type": "code",
      "execution_count": null,
      "metadata": {
        "colab": {
          "base_uri": "https://localhost:8080/",
          "height": 314
        },
        "id": "uyni9wQLdUs1",
        "outputId": "c8d4ced7-e03e-4462-d343-9e735ffd6938"
      },
      "outputs": [
        {
          "data": {
            "image/png": "[encoded data removed]",
            "text/plain": [
              "<Figure size 432x288 with 1 Axes>"
            ]
          },
          "metadata": {
            "needs_background": "light"
          },
          "output_type": "display_data"
        },
        {
          "name": "stdout",
          "output_type": "stream",
          "text": [
            "Best Threshold = 0.47061341539019813\n",
            "G-Mean = 0.731225667068862\n"
          ]
        }
      ],
      "source": [
        "# Import essential libraries\n",
        "from sklearn.metrics import roc_curve # roc curve metric\n",
        "from numpy import sqrt                # calculate square root\n",
        "from numpy import argmax              # find max value\n",
        "\n",
        "# Predict target class probabilities based on test set\n",
        "y_test_probas = gb.predict_proba(X_test)\n",
        "\n",
        "# Plot roc curve\n",
        "evaluation.plot_roc_curve(y_test_probas)"
      ]
    },
    {
      "cell_type": "code",
      "execution_count": null,
      "metadata": {
        "colab": {
          "base_uri": "https://localhost:8080/",
          "height": 352
        },
        "id": "mAm5Hcy-dUs1",
        "outputId": "5e83184c-ff1c-4610-921d-d06aa26d3215"
      },
      "outputs": [
        {
          "name": "stdout",
          "output_type": "stream",
          "text": [
            "Accuracy:\t 0.7315206298294212\n",
            "Precision:\t 0.7311762927124282\n",
            "Recall:\t\t 0.7174009790832221\n",
            "F1 score:\t 0.7242231374017224\n",
            "ROC AUC:\t 0.7312818282258593\n"
          ]
        },
        {
          "data": {
            "image/png": "[encoded data removed]",
            "text/plain": [
              "<Figure size 432x288 with 2 Axes>"
            ]
          },
          "metadata": {
            "needs_background": "light"
          },
          "output_type": "display_data"
        }
      ],
      "source": [
        "# Set threshold to best threshold\n",
        "threshold = evaluation.best_threshold()\n",
        "\n",
        "# Use new threshold value to make new prediction based on test set\n",
        "y_test_newpred = [1 if y_test_probas[i][1] > threshold else 0 for i in range(len(y_test_probas))]\n",
        "\n",
        "# Plot confusion matrix\n",
        "evaluation.plot_confusion_matrix(y_test_newpred)"
      ]
    },
    {
      "cell_type": "markdown",
      "metadata": {
        "id": "aD4wGg9l3gyY"
      },
      "source": [
        "Lastly, let's give it a try with the [AdaBoost Classifier](https://towardsdatascience.com/understanding-adaboost-2f94f22d5bfe)."
      ]
    },
    {
      "cell_type": "markdown",
      "metadata": {
        "id": "otwhTOhPvI9b"
      },
      "source": [
        "### VIII.3. AdaBoost Classifier"
      ]
    },
    {
      "cell_type": "markdown",
      "metadata": {
        "id": "OWipJIZUvI9b"
      },
      "source": [
        "##### VIII.3.1. Train and Evaluate on Training Set"
      ]
    },
    {
      "cell_type": "code",
      "execution_count": null,
      "metadata": {
        "colab": {
          "base_uri": "https://localhost:8080/"
        },
        "id": "OvlIY2qBvI9b",
        "outputId": "f8176cb7-435f-4d7c-da4e-fabf02de6c3d"
      },
      "outputs": [
        {
          "name": "stdout",
          "output_type": "stream",
          "text": [
            "Fitting 10 folds for each of 25 candidates, totalling 250 fits\n",
            "[CV] learning_rate=0.03, n_estimators=50, random_state=42 ............\n"
          ]
        },
        {
          "name": "stderr",
          "output_type": "stream",
          "text": [
            "[Parallel(n_jobs=1)]: Using backend SequentialBackend with 1 concurrent workers.\n"
          ]
        },
        {
          "name": "stdout",
          "output_type": "stream",
          "text": [
            "[CV]  learning_rate=0.03, n_estimators=50, random_state=42, score=0.775, total=   1.3s\n",
            "[CV] learning_rate=0.03, n_estimators=50, random_state=42 ............\n"
          ]
        },
        {
          "name": "stderr",
          "output_type": "stream",
          "text": [
            "[Parallel(n_jobs=1)]: Done   1 out of   1 | elapsed:    1.3s remaining:    0.0s\n"
          ]
        },
        {
          "name": "stdout",
          "output_type": "stream",
          "text": [
            "[CV]  learning_rate=0.03, n_estimators=50, random_state=42, score=0.790, total=   1.3s\n",
            "[CV] learning_rate=0.03, n_estimators=50, random_state=42 ............\n"
          ]
        },
        {
          "name": "stderr",
          "output_type": "stream",
          "text": [
            "[Parallel(n_jobs=1)]: Done   2 out of   2 | elapsed:    2.7s remaining:    0.0s\n"
          ]
        },
        {
          "name": "stdout",
          "output_type": "stream",
          "text": [
            "[CV]  learning_rate=0.03, n_estimators=50, random_state=42, score=0.773, total=   1.3s\n",
            "[CV] learning_rate=0.03, n_estimators=50, random_state=42 ............\n",
            "[CV]  learning_rate=0.03, n_estimators=50, random_state=42, score=0.771, total=   1.3s\n",
            "[CV] learning_rate=0.03, n_estimators=50, random_state=42 ............\n",
            "[CV]  learning_rate=0.03, n_estimators=50, random_state=42, score=0.792, total=   1.3s\n",
            "[CV] learning_rate=0.03, n_estimators=50, random_state=42 ............\n",
            "[CV]  learning_rate=0.03, n_estimators=50, random_state=42, score=0.783, total=   1.3s\n",
            "[CV] learning_rate=0.03, n_estimators=50, random_state=42 ............\n",
            "[CV]  learning_rate=0.03, n_estimators=50, random_state=42, score=0.784, total=   1.3s\n",
            "[CV] learning_rate=0.03, n_estimators=50, random_state=42 ............\n",
            "[CV]  learning_rate=0.03, n_estimators=50, random_state=42, score=0.785, total=   1.3s\n",
            "[CV] learning_rate=0.03, n_estimators=50, random_state=42 ............\n",
            "[CV]  learning_rate=0.03, n_estimators=50, random_state=42, score=0.769, total=   1.3s\n",
            "[CV] learning_rate=0.03, n_estimators=50, random_state=42 ............\n",
            "[CV]  learning_rate=0.03, n_estimators=50, random_state=42, score=0.794, total=   1.3s\n",
            "[CV] learning_rate=0.03, n_estimators=100, random_state=42 ...........\n",
            "[CV]  learning_rate=0.03, n_estimators=100, random_state=42, score=0.785, total=   2.6s\n",
            "[CV] learning_rate=0.03, n_estimators=100, random_state=42 ...........\n",
            "[CV]  learning_rate=0.03, n_estimators=100, random_state=42, score=0.794, total=   2.6s\n",
            "[CV] learning_rate=0.03, n_estimators=100, random_state=42 ...........\n",
            "[CV]  learning_rate=0.03, n_estimators=100, random_state=42, score=0.778, total=   2.6s\n",
            "[CV] learning_rate=0.03, n_estimators=100, random_state=42 ...........\n",
            "[CV]  learning_rate=0.03, n_estimators=100, random_state=42, score=0.781, total=   2.6s\n",
            "[CV] learning_rate=0.03, n_estimators=100, random_state=42 ...........\n",
            "[CV]  learning_rate=0.03, n_estimators=100, random_state=42, score=0.800, total=   2.6s\n",
            "[CV] learning_rate=0.03, n_estimators=100, random_state=42 ...........\n",
            "[CV]  learning_rate=0.03, n_estimators=100, random_state=42, score=0.791, total=   2.6s\n",
            "[CV] learning_rate=0.03, n_estimators=100, random_state=42 ...........\n",
            "[CV]  learning_rate=0.03, n_estimators=100, random_state=42, score=0.791, total=   2.6s\n",
            "[CV] learning_rate=0.03, n_estimators=100, random_state=42 ...........\n",
            "[CV]  learning_rate=0.03, n_estimators=100, random_state=42, score=0.794, total=   2.6s\n",
            "[CV] learning_rate=0.03, n_estimators=100, random_state=42 ...........\n",
            "[CV]  learning_rate=0.03, n_estimators=100, random_state=42, score=0.778, total=   2.6s\n",
            "[CV] learning_rate=0.03, n_estimators=100, random_state=42 ...........\n",
            "[CV]  learning_rate=0.03, n_estimators=100, random_state=42, score=0.799, total=   2.6s\n",
            "[CV] learning_rate=0.03, n_estimators=150, random_state=42 ...........\n",
            "[CV]  learning_rate=0.03, n_estimators=150, random_state=42, score=0.787, total=   3.9s\n",
            "[CV] learning_rate=0.03, n_estimators=150, random_state=42 ...........\n",
            "[CV]  learning_rate=0.03, n_estimators=150, random_state=42, score=0.796, total=   3.9s\n",
            "[CV] learning_rate=0.03, n_estimators=150, random_state=42 ...........\n",
            "[CV]  learning_rate=0.03, n_estimators=150, random_state=42, score=0.780, total=   3.9s\n",
            "[CV] learning_rate=0.03, n_estimators=150, random_state=42 ...........\n",
            "[CV]  learning_rate=0.03, n_estimators=150, random_state=42, score=0.782, total=   3.9s\n",
            "[CV] learning_rate=0.03, n_estimators=150, random_state=42 ...........\n",
            "[CV]  learning_rate=0.03, n_estimators=150, random_state=42, score=0.801, total=   3.9s\n",
            "[CV] learning_rate=0.03, n_estimators=150, random_state=42 ...........\n",
            "[CV]  learning_rate=0.03, n_estimators=150, random_state=42, score=0.793, total=   3.9s\n",
            "[CV] learning_rate=0.03, n_estimators=150, random_state=42 ...........\n",
            "[CV]  learning_rate=0.03, n_estimators=150, random_state=42, score=0.792, total=   3.9s\n",
            "[CV] learning_rate=0.03, n_estimators=150, random_state=42 ...........\n",
            "[CV]  learning_rate=0.03, n_estimators=150, random_state=42, score=0.796, total=   3.9s\n",
            "[CV] learning_rate=0.03, n_estimators=150, random_state=42 ...........\n",
            "[CV]  learning_rate=0.03, n_estimators=150, random_state=42, score=0.779, total=   3.9s\n",
            "[CV] learning_rate=0.03, n_estimators=150, random_state=42 ...........\n",
            "[CV]  learning_rate=0.03, n_estimators=150, random_state=42, score=0.800, total=   4.0s\n",
            "[CV] learning_rate=0.03, n_estimators=200, random_state=42 ...........\n",
            "[CV]  learning_rate=0.03, n_estimators=200, random_state=42, score=0.788, total=   5.3s\n",
            "[CV] learning_rate=0.03, n_estimators=200, random_state=42 ...........\n",
            "[CV]  learning_rate=0.03, n_estimators=200, random_state=42, score=0.797, total=   5.2s\n",
            "[CV] learning_rate=0.03, n_estimators=200, random_state=42 ...........\n",
            "[CV]  learning_rate=0.03, n_estimators=200, random_state=42, score=0.782, total=   5.2s\n",
            "[CV] learning_rate=0.03, n_estimators=200, random_state=42 ...........\n",
            "[CV]  learning_rate=0.03, n_estimators=200, random_state=42, score=0.785, total=   5.3s\n",
            "[CV] learning_rate=0.03, n_estimators=200, random_state=42 ...........\n",
            "[CV]  learning_rate=0.03, n_estimators=200, random_state=42, score=0.803, total=   5.2s\n",
            "[CV] learning_rate=0.03, n_estimators=200, random_state=42 ...........\n",
            "[CV]  learning_rate=0.03, n_estimators=200, random_state=42, score=0.794, total=   5.2s\n",
            "[CV] learning_rate=0.03, n_estimators=200, random_state=42 ...........\n",
            "[CV]  learning_rate=0.03, n_estimators=200, random_state=42, score=0.794, total=   5.2s\n",
            "[CV] learning_rate=0.03, n_estimators=200, random_state=42 ...........\n",
            "[CV]  learning_rate=0.03, n_estimators=200, random_state=42, score=0.798, total=   5.3s\n",
            "[CV] learning_rate=0.03, n_estimators=200, random_state=42 ...........\n",
            "[CV]  learning_rate=0.03, n_estimators=200, random_state=42, score=0.781, total=   5.3s\n",
            "[CV] learning_rate=0.03, n_estimators=200, random_state=42 ...........\n",
            "[CV]  learning_rate=0.03, n_estimators=200, random_state=42, score=0.801, total=   5.4s\n",
            "[CV] learning_rate=0.03, n_estimators=250, random_state=42 ...........\n",
            "[CV]  learning_rate=0.03, n_estimators=250, random_state=42, score=0.789, total=   6.6s\n",
            "[CV] learning_rate=0.03, n_estimators=250, random_state=42 ...........\n",
            "[CV]  learning_rate=0.03, n_estimators=250, random_state=42, score=0.798, total=   6.7s\n",
            "[CV] learning_rate=0.03, n_estimators=250, random_state=42 ...........\n",
            "[CV]  learning_rate=0.03, n_estimators=250, random_state=42, score=0.784, total=   6.6s\n",
            "[CV] learning_rate=0.03, n_estimators=250, random_state=42 ...........\n",
            "[CV]  learning_rate=0.03, n_estimators=250, random_state=42, score=0.786, total=   6.6s\n",
            "[CV] learning_rate=0.03, n_estimators=250, random_state=42 ...........\n",
            "[CV]  learning_rate=0.03, n_estimators=250, random_state=42, score=0.804, total=   6.5s\n",
            "[CV] learning_rate=0.03, n_estimators=250, random_state=42 ...........\n",
            "[CV]  learning_rate=0.03, n_estimators=250, random_state=42, score=0.795, total=   6.5s\n",
            "[CV] learning_rate=0.03, n_estimators=250, random_state=42 ...........\n",
            "[CV]  learning_rate=0.03, n_estimators=250, random_state=42, score=0.795, total=   6.6s\n",
            "[CV] learning_rate=0.03, n_estimators=250, random_state=42 ...........\n",
            "[CV]  learning_rate=0.03, n_estimators=250, random_state=42, score=0.799, total=   6.5s\n",
            "[CV] learning_rate=0.03, n_estimators=250, random_state=42 ...........\n",
            "[CV]  learning_rate=0.03, n_estimators=250, random_state=42, score=0.782, total=   6.6s\n",
            "[CV] learning_rate=0.03, n_estimators=250, random_state=42 ...........\n",
            "[CV]  learning_rate=0.03, n_estimators=250, random_state=42, score=0.802, total=   6.5s\n",
            "[CV] learning_rate=0.1, n_estimators=50, random_state=42 .............\n",
            "[CV]  learning_rate=0.1, n_estimators=50, random_state=42, score=0.788, total=   1.3s\n",
            "[CV] learning_rate=0.1, n_estimators=50, random_state=42 .............\n",
            "[CV]  learning_rate=0.1, n_estimators=50, random_state=42, score=0.796, total=   1.3s\n",
            "[CV] learning_rate=0.1, n_estimators=50, random_state=42 .............\n",
            "[CV]  learning_rate=0.1, n_estimators=50, random_state=42, score=0.781, total=   1.3s\n",
            "[CV] learning_rate=0.1, n_estimators=50, random_state=42 .............\n",
            "[CV]  learning_rate=0.1, n_estimators=50, random_state=42, score=0.783, total=   1.3s\n",
            "[CV] learning_rate=0.1, n_estimators=50, random_state=42 .............\n",
            "[CV]  learning_rate=0.1, n_estimators=50, random_state=42, score=0.802, total=   1.3s\n",
            "[CV] learning_rate=0.1, n_estimators=50, random_state=42 .............\n",
            "[CV]  learning_rate=0.1, n_estimators=50, random_state=42, score=0.793, total=   1.3s\n",
            "[CV] learning_rate=0.1, n_estimators=50, random_state=42 .............\n",
            "[CV]  learning_rate=0.1, n_estimators=50, random_state=42, score=0.794, total=   1.3s\n",
            "[CV] learning_rate=0.1, n_estimators=50, random_state=42 .............\n",
            "[CV]  learning_rate=0.1, n_estimators=50, random_state=42, score=0.797, total=   1.3s\n",
            "[CV] learning_rate=0.1, n_estimators=50, random_state=42 .............\n",
            "[CV]  learning_rate=0.1, n_estimators=50, random_state=42, score=0.780, total=   1.3s\n",
            "[CV] learning_rate=0.1, n_estimators=50, random_state=42 .............\n",
            "[CV]  learning_rate=0.1, n_estimators=50, random_state=42, score=0.800, total=   1.3s\n",
            "[CV] learning_rate=0.1, n_estimators=100, random_state=42 ............\n",
            "[CV]  learning_rate=0.1, n_estimators=100, random_state=42, score=0.790, total=   2.6s\n",
            "[CV] learning_rate=0.1, n_estimators=100, random_state=42 ............\n",
            "[CV]  learning_rate=0.1, n_estimators=100, random_state=42, score=0.800, total=   2.5s\n",
            "[CV] learning_rate=0.1, n_estimators=100, random_state=42 ............\n",
            "[CV]  learning_rate=0.1, n_estimators=100, random_state=42, score=0.784, total=   2.6s\n",
            "[CV] learning_rate=0.1, n_estimators=100, random_state=42 ............\n",
            "[CV]  learning_rate=0.1, n_estimators=100, random_state=42, score=0.787, total=   2.6s\n",
            "[CV] learning_rate=0.1, n_estimators=100, random_state=42 ............\n",
            "[CV]  learning_rate=0.1, n_estimators=100, random_state=42, score=0.805, total=   2.6s\n",
            "[CV] learning_rate=0.1, n_estimators=100, random_state=42 ............\n",
            "[CV]  learning_rate=0.1, n_estimators=100, random_state=42, score=0.795, total=   2.6s\n",
            "[CV] learning_rate=0.1, n_estimators=100, random_state=42 ............\n",
            "[CV]  learning_rate=0.1, n_estimators=100, random_state=42, score=0.796, total=   2.6s\n",
            "[CV] learning_rate=0.1, n_estimators=100, random_state=42 ............\n",
            "[CV]  learning_rate=0.1, n_estimators=100, random_state=42, score=0.800, total=   2.6s\n",
            "[CV] learning_rate=0.1, n_estimators=100, random_state=42 ............\n",
            "[CV]  learning_rate=0.1, n_estimators=100, random_state=42, score=0.783, total=   2.6s\n",
            "[CV] learning_rate=0.1, n_estimators=100, random_state=42 ............\n",
            "[CV]  learning_rate=0.1, n_estimators=100, random_state=42, score=0.803, total=   2.6s\n",
            "[CV] learning_rate=0.1, n_estimators=150, random_state=42 ............\n",
            "[CV]  learning_rate=0.1, n_estimators=150, random_state=42, score=0.791, total=   3.9s\n",
            "[CV] learning_rate=0.1, n_estimators=150, random_state=42 ............\n",
            "[CV]  learning_rate=0.1, n_estimators=150, random_state=42, score=0.801, total=   3.9s\n",
            "[CV] learning_rate=0.1, n_estimators=150, random_state=42 ............\n",
            "[CV]  learning_rate=0.1, n_estimators=150, random_state=42, score=0.786, total=   3.9s\n",
            "[CV] learning_rate=0.1, n_estimators=150, random_state=42 ............\n",
            "[CV]  learning_rate=0.1, n_estimators=150, random_state=42, score=0.788, total=   3.9s\n",
            "[CV] learning_rate=0.1, n_estimators=150, random_state=42 ............\n",
            "[CV]  learning_rate=0.1, n_estimators=150, random_state=42, score=0.806, total=   3.8s\n",
            "[CV] learning_rate=0.1, n_estimators=150, random_state=42 ............\n",
            "[CV]  learning_rate=0.1, n_estimators=150, random_state=42, score=0.797, total=   3.8s\n",
            "[CV] learning_rate=0.1, n_estimators=150, random_state=42 ............\n",
            "[CV]  learning_rate=0.1, n_estimators=150, random_state=42, score=0.797, total=   3.9s\n",
            "[CV] learning_rate=0.1, n_estimators=150, random_state=42 ............\n",
            "[CV]  learning_rate=0.1, n_estimators=150, random_state=42, score=0.800, total=   3.8s\n",
            "[CV] learning_rate=0.1, n_estimators=150, random_state=42 ............\n",
            "[CV]  learning_rate=0.1, n_estimators=150, random_state=42, score=0.785, total=   3.9s\n",
            "[CV] learning_rate=0.1, n_estimators=150, random_state=42 ............\n",
            "[CV]  learning_rate=0.1, n_estimators=150, random_state=42, score=0.804, total=   3.8s\n",
            "[CV] learning_rate=0.1, n_estimators=200, random_state=42 ............\n",
            "[CV]  learning_rate=0.1, n_estimators=200, random_state=42, score=0.792, total=   5.1s\n",
            "[CV] learning_rate=0.1, n_estimators=200, random_state=42 ............\n",
            "[CV]  learning_rate=0.1, n_estimators=200, random_state=42, score=0.802, total=   5.2s\n",
            "[CV] learning_rate=0.1, n_estimators=200, random_state=42 ............\n",
            "[CV]  learning_rate=0.1, n_estimators=200, random_state=42, score=0.787, total=   5.1s\n",
            "[CV] learning_rate=0.1, n_estimators=200, random_state=42 ............\n",
            "[CV]  learning_rate=0.1, n_estimators=200, random_state=42, score=0.788, total=   5.1s\n",
            "[CV] learning_rate=0.1, n_estimators=200, random_state=42 ............\n",
            "[CV]  learning_rate=0.1, n_estimators=200, random_state=42, score=0.806, total=   5.2s\n",
            "[CV] learning_rate=0.1, n_estimators=200, random_state=42 ............\n",
            "[CV]  learning_rate=0.1, n_estimators=200, random_state=42, score=0.797, total=   5.1s\n",
            "[CV] learning_rate=0.1, n_estimators=200, random_state=42 ............\n",
            "[CV]  learning_rate=0.1, n_estimators=200, random_state=42, score=0.797, total=   5.2s\n",
            "[CV] learning_rate=0.1, n_estimators=200, random_state=42 ............\n",
            "[CV]  learning_rate=0.1, n_estimators=200, random_state=42, score=0.800, total=   5.2s\n",
            "[CV] learning_rate=0.1, n_estimators=200, random_state=42 ............\n",
            "[CV]  learning_rate=0.1, n_estimators=200, random_state=42, score=0.785, total=   5.2s\n",
            "[CV] learning_rate=0.1, n_estimators=200, random_state=42 ............\n",
            "[CV]  learning_rate=0.1, n_estimators=200, random_state=42, score=0.804, total=   5.1s\n",
            "[CV] learning_rate=0.1, n_estimators=250, random_state=42 ............\n",
            "[CV]  learning_rate=0.1, n_estimators=250, random_state=42, score=0.792, total=   6.4s\n",
            "[CV] learning_rate=0.1, n_estimators=250, random_state=42 ............\n",
            "[CV]  learning_rate=0.1, n_estimators=250, random_state=42, score=0.802, total=   6.4s\n",
            "[CV] learning_rate=0.1, n_estimators=250, random_state=42 ............\n",
            "[CV]  learning_rate=0.1, n_estimators=250, random_state=42, score=0.787, total=   6.4s\n",
            "[CV] learning_rate=0.1, n_estimators=250, random_state=42 ............\n",
            "[CV]  learning_rate=0.1, n_estimators=250, random_state=42, score=0.788, total=   6.4s\n",
            "[CV] learning_rate=0.1, n_estimators=250, random_state=42 ............\n",
            "[CV]  learning_rate=0.1, n_estimators=250, random_state=42, score=0.806, total=   6.4s\n",
            "[CV] learning_rate=0.1, n_estimators=250, random_state=42 ............\n",
            "[CV]  learning_rate=0.1, n_estimators=250, random_state=42, score=0.798, total=   6.4s\n",
            "[CV] learning_rate=0.1, n_estimators=250, random_state=42 ............\n",
            "[CV]  learning_rate=0.1, n_estimators=250, random_state=42, score=0.797, total=   6.4s\n",
            "[CV] learning_rate=0.1, n_estimators=250, random_state=42 ............\n",
            "[CV]  learning_rate=0.1, n_estimators=250, random_state=42, score=0.800, total=   6.4s\n",
            "[CV] learning_rate=0.1, n_estimators=250, random_state=42 ............\n",
            "[CV]  learning_rate=0.1, n_estimators=250, random_state=42, score=0.785, total=   6.4s\n",
            "[CV] learning_rate=0.1, n_estimators=250, random_state=42 ............\n",
            "[CV]  learning_rate=0.1, n_estimators=250, random_state=42, score=0.804, total=   6.3s\n",
            "[CV] learning_rate=0.3, n_estimators=50, random_state=42 .............\n",
            "[CV]  learning_rate=0.3, n_estimators=50, random_state=42, score=0.791, total=   1.3s\n",
            "[CV] learning_rate=0.3, n_estimators=50, random_state=42 .............\n",
            "[CV]  learning_rate=0.3, n_estimators=50, random_state=42, score=0.800, total=   1.3s\n",
            "[CV] learning_rate=0.3, n_estimators=50, random_state=42 .............\n",
            "[CV]  learning_rate=0.3, n_estimators=50, random_state=42, score=0.786, total=   1.3s\n",
            "[CV] learning_rate=0.3, n_estimators=50, random_state=42 .............\n",
            "[CV]  learning_rate=0.3, n_estimators=50, random_state=42, score=0.787, total=   1.3s\n",
            "[CV] learning_rate=0.3, n_estimators=50, random_state=42 .............\n",
            "[CV]  learning_rate=0.3, n_estimators=50, random_state=42, score=0.806, total=   1.3s\n",
            "[CV] learning_rate=0.3, n_estimators=50, random_state=42 .............\n",
            "[CV]  learning_rate=0.3, n_estimators=50, random_state=42, score=0.797, total=   1.3s\n",
            "[CV] learning_rate=0.3, n_estimators=50, random_state=42 .............\n",
            "[CV]  learning_rate=0.3, n_estimators=50, random_state=42, score=0.796, total=   1.3s\n",
            "[CV] learning_rate=0.3, n_estimators=50, random_state=42 .............\n",
            "[CV]  learning_rate=0.3, n_estimators=50, random_state=42, score=0.799, total=   1.3s\n",
            "[CV] learning_rate=0.3, n_estimators=50, random_state=42 .............\n",
            "[CV]  learning_rate=0.3, n_estimators=50, random_state=42, score=0.785, total=   1.3s\n",
            "[CV] learning_rate=0.3, n_estimators=50, random_state=42 .............\n",
            "[CV]  learning_rate=0.3, n_estimators=50, random_state=42, score=0.803, total=   1.3s\n",
            "[CV] learning_rate=0.3, n_estimators=100, random_state=42 ............\n",
            "[CV]  learning_rate=0.3, n_estimators=100, random_state=42, score=0.792, total=   2.5s\n",
            "[CV] learning_rate=0.3, n_estimators=100, random_state=42 ............\n",
            "[CV]  learning_rate=0.3, n_estimators=100, random_state=42, score=0.802, total=   2.6s\n",
            "[CV] learning_rate=0.3, n_estimators=100, random_state=42 ............\n",
            "[CV]  learning_rate=0.3, n_estimators=100, random_state=42, score=0.787, total=   2.6s\n",
            "[CV] learning_rate=0.3, n_estimators=100, random_state=42 ............\n",
            "[CV]  learning_rate=0.3, n_estimators=100, random_state=42, score=0.787, total=   2.6s\n",
            "[CV] learning_rate=0.3, n_estimators=100, random_state=42 ............\n",
            "[CV]  learning_rate=0.3, n_estimators=100, random_state=42, score=0.806, total=   2.6s\n",
            "[CV] learning_rate=0.3, n_estimators=100, random_state=42 ............\n",
            "[CV]  learning_rate=0.3, n_estimators=100, random_state=42, score=0.797, total=   2.6s\n",
            "[CV] learning_rate=0.3, n_estimators=100, random_state=42 ............\n",
            "[CV]  learning_rate=0.3, n_estimators=100, random_state=42, score=0.797, total=   2.6s\n",
            "[CV] learning_rate=0.3, n_estimators=100, random_state=42 ............\n",
            "[CV]  learning_rate=0.3, n_estimators=100, random_state=42, score=0.799, total=   2.6s\n",
            "[CV] learning_rate=0.3, n_estimators=100, random_state=42 ............\n",
            "[CV]  learning_rate=0.3, n_estimators=100, random_state=42, score=0.785, total=   2.6s\n",
            "[CV] learning_rate=0.3, n_estimators=100, random_state=42 ............\n",
            "[CV]  learning_rate=0.3, n_estimators=100, random_state=42, score=0.804, total=   2.6s\n",
            "[CV] learning_rate=0.3, n_estimators=150, random_state=42 ............\n",
            "[CV]  learning_rate=0.3, n_estimators=150, random_state=42, score=0.792, total=   3.9s\n",
            "[CV] learning_rate=0.3, n_estimators=150, random_state=42 ............\n",
            "[CV]  learning_rate=0.3, n_estimators=150, random_state=42, score=0.802, total=   3.9s\n",
            "[CV] learning_rate=0.3, n_estimators=150, random_state=42 ............\n",
            "[CV]  learning_rate=0.3, n_estimators=150, random_state=42, score=0.787, total=   3.9s\n",
            "[CV] learning_rate=0.3, n_estimators=150, random_state=42 ............\n",
            "[CV]  learning_rate=0.3, n_estimators=150, random_state=42, score=0.788, total=   3.9s\n",
            "[CV] learning_rate=0.3, n_estimators=150, random_state=42 ............\n",
            "[CV]  learning_rate=0.3, n_estimators=150, random_state=42, score=0.806, total=   3.8s\n",
            "[CV] learning_rate=0.3, n_estimators=150, random_state=42 ............\n",
            "[CV]  learning_rate=0.3, n_estimators=150, random_state=42, score=0.797, total=   3.9s\n",
            "[CV] learning_rate=0.3, n_estimators=150, random_state=42 ............\n",
            "[CV]  learning_rate=0.3, n_estimators=150, random_state=42, score=0.797, total=   3.9s\n",
            "[CV] learning_rate=0.3, n_estimators=150, random_state=42 ............\n",
            "[CV]  learning_rate=0.3, n_estimators=150, random_state=42, score=0.800, total=   3.9s\n",
            "[CV] learning_rate=0.3, n_estimators=150, random_state=42 ............\n",
            "[CV]  learning_rate=0.3, n_estimators=150, random_state=42, score=0.785, total=   3.8s\n",
            "[CV] learning_rate=0.3, n_estimators=150, random_state=42 ............\n",
            "[CV]  learning_rate=0.3, n_estimators=150, random_state=42, score=0.804, total=   3.8s\n",
            "[CV] learning_rate=0.3, n_estimators=200, random_state=42 ............\n",
            "[CV]  learning_rate=0.3, n_estimators=200, random_state=42, score=0.792, total=   5.1s\n",
            "[CV] learning_rate=0.3, n_estimators=200, random_state=42 ............\n",
            "[CV]  learning_rate=0.3, n_estimators=200, random_state=42, score=0.802, total=   5.1s\n",
            "[CV] learning_rate=0.3, n_estimators=200, random_state=42 ............\n",
            "[CV]  learning_rate=0.3, n_estimators=200, random_state=42, score=0.787, total=   5.1s\n",
            "[CV] learning_rate=0.3, n_estimators=200, random_state=42 ............\n",
            "[CV]  learning_rate=0.3, n_estimators=200, random_state=42, score=0.788, total=   5.1s\n",
            "[CV] learning_rate=0.3, n_estimators=200, random_state=42 ............\n",
            "[CV]  learning_rate=0.3, n_estimators=200, random_state=42, score=0.806, total=   5.2s\n",
            "[CV] learning_rate=0.3, n_estimators=200, random_state=42 ............\n",
            "[CV]  learning_rate=0.3, n_estimators=200, random_state=42, score=0.798, total=   5.1s\n",
            "[CV] learning_rate=0.3, n_estimators=200, random_state=42 ............\n",
            "[CV]  learning_rate=0.3, n_estimators=200, random_state=42, score=0.798, total=   5.1s\n",
            "[CV] learning_rate=0.3, n_estimators=200, random_state=42 ............\n",
            "[CV]  learning_rate=0.3, n_estimators=200, random_state=42, score=0.800, total=   5.1s\n",
            "[CV] learning_rate=0.3, n_estimators=200, random_state=42 ............\n",
            "[CV]  learning_rate=0.3, n_estimators=200, random_state=42, score=0.785, total=   5.2s\n",
            "[CV] learning_rate=0.3, n_estimators=200, random_state=42 ............\n",
            "[CV]  learning_rate=0.3, n_estimators=200, random_state=42, score=0.804, total=   5.2s\n",
            "[CV] learning_rate=0.3, n_estimators=250, random_state=42 ............\n",
            "[CV]  learning_rate=0.3, n_estimators=250, random_state=42, score=0.793, total=   6.5s\n",
            "[CV] learning_rate=0.3, n_estimators=250, random_state=42 ............\n",
            "[CV]  learning_rate=0.3, n_estimators=250, random_state=42, score=0.802, total=   6.4s\n",
            "[CV] learning_rate=0.3, n_estimators=250, random_state=42 ............\n",
            "[CV]  learning_rate=0.3, n_estimators=250, random_state=42, score=0.787, total=   6.4s\n",
            "[CV] learning_rate=0.3, n_estimators=250, random_state=42 ............\n",
            "[CV]  learning_rate=0.3, n_estimators=250, random_state=42, score=0.788, total=   6.5s\n",
            "[CV] learning_rate=0.3, n_estimators=250, random_state=42 ............\n",
            "[CV]  learning_rate=0.3, n_estimators=250, random_state=42, score=0.806, total=   6.5s\n",
            "[CV] learning_rate=0.3, n_estimators=250, random_state=42 ............\n",
            "[CV]  learning_rate=0.3, n_estimators=250, random_state=42, score=0.797, total=   6.5s\n",
            "[CV] learning_rate=0.3, n_estimators=250, random_state=42 ............\n",
            "[CV]  learning_rate=0.3, n_estimators=250, random_state=42, score=0.798, total=   6.5s\n",
            "[CV] learning_rate=0.3, n_estimators=250, random_state=42 ............\n",
            "[CV]  learning_rate=0.3, n_estimators=250, random_state=42, score=0.800, total=   6.4s\n",
            "[CV] learning_rate=0.3, n_estimators=250, random_state=42 ............\n",
            "[CV]  learning_rate=0.3, n_estimators=250, random_state=42, score=0.785, total=   6.5s\n",
            "[CV] learning_rate=0.3, n_estimators=250, random_state=42 ............\n",
            "[CV]  learning_rate=0.3, n_estimators=250, random_state=42, score=0.804, total=   6.4s\n",
            "[CV] learning_rate=1, n_estimators=50, random_state=42 ...............\n",
            "[CV]  learning_rate=1, n_estimators=50, random_state=42, score=0.792, total=   1.3s\n",
            "[CV] learning_rate=1, n_estimators=50, random_state=42 ...............\n",
            "[CV]  learning_rate=1, n_estimators=50, random_state=42, score=0.801, total=   1.3s\n",
            "[CV] learning_rate=1, n_estimators=50, random_state=42 ...............\n",
            "[CV]  learning_rate=1, n_estimators=50, random_state=42, score=0.786, total=   1.3s\n",
            "[CV] learning_rate=1, n_estimators=50, random_state=42 ...............\n",
            "[CV]  learning_rate=1, n_estimators=50, random_state=42, score=0.788, total=   1.3s\n",
            "[CV] learning_rate=1, n_estimators=50, random_state=42 ...............\n",
            "[CV]  learning_rate=1, n_estimators=50, random_state=42, score=0.805, total=   1.3s\n",
            "[CV] learning_rate=1, n_estimators=50, random_state=42 ...............\n",
            "[CV]  learning_rate=1, n_estimators=50, random_state=42, score=0.797, total=   1.3s\n",
            "[CV] learning_rate=1, n_estimators=50, random_state=42 ...............\n",
            "[CV]  learning_rate=1, n_estimators=50, random_state=42, score=0.797, total=   1.3s\n",
            "[CV] learning_rate=1, n_estimators=50, random_state=42 ...............\n",
            "[CV]  learning_rate=1, n_estimators=50, random_state=42, score=0.799, total=   1.3s\n",
            "[CV] learning_rate=1, n_estimators=50, random_state=42 ...............\n",
            "[CV]  learning_rate=1, n_estimators=50, random_state=42, score=0.785, total=   1.3s\n",
            "[CV] learning_rate=1, n_estimators=50, random_state=42 ...............\n",
            "[CV]  learning_rate=1, n_estimators=50, random_state=42, score=0.803, total=   1.3s\n",
            "[CV] learning_rate=1, n_estimators=100, random_state=42 ..............\n",
            "[CV]  learning_rate=1, n_estimators=100, random_state=42, score=0.792, total=   2.6s\n",
            "[CV] learning_rate=1, n_estimators=100, random_state=42 ..............\n",
            "[CV]  learning_rate=1, n_estimators=100, random_state=42, score=0.801, total=   2.6s\n",
            "[CV] learning_rate=1, n_estimators=100, random_state=42 ..............\n",
            "[CV]  learning_rate=1, n_estimators=100, random_state=42, score=0.787, total=   2.7s\n",
            "[CV] learning_rate=1, n_estimators=100, random_state=42 ..............\n",
            "[CV]  learning_rate=1, n_estimators=100, random_state=42, score=0.788, total=   2.6s\n",
            "[CV] learning_rate=1, n_estimators=100, random_state=42 ..............\n",
            "[CV]  learning_rate=1, n_estimators=100, random_state=42, score=0.805, total=   2.6s\n",
            "[CV] learning_rate=1, n_estimators=100, random_state=42 ..............\n",
            "[CV]  learning_rate=1, n_estimators=100, random_state=42, score=0.797, total=   2.6s\n",
            "[CV] learning_rate=1, n_estimators=100, random_state=42 ..............\n",
            "[CV]  learning_rate=1, n_estimators=100, random_state=42, score=0.797, total=   2.6s\n",
            "[CV] learning_rate=1, n_estimators=100, random_state=42 ..............\n",
            "[CV]  learning_rate=1, n_estimators=100, random_state=42, score=0.799, total=   2.6s\n",
            "[CV] learning_rate=1, n_estimators=100, random_state=42 ..............\n",
            "[CV]  learning_rate=1, n_estimators=100, random_state=42, score=0.786, total=   2.6s\n",
            "[CV] learning_rate=1, n_estimators=100, random_state=42 ..............\n",
            "[CV]  learning_rate=1, n_estimators=100, random_state=42, score=0.804, total=   2.6s\n",
            "[CV] learning_rate=1, n_estimators=150, random_state=42 ..............\n",
            "[CV]  learning_rate=1, n_estimators=150, random_state=42, score=0.792, total=   3.9s\n",
            "[CV] learning_rate=1, n_estimators=150, random_state=42 ..............\n",
            "[CV]  learning_rate=1, n_estimators=150, random_state=42, score=0.801, total=   3.9s\n",
            "[CV] learning_rate=1, n_estimators=150, random_state=42 ..............\n",
            "[CV]  learning_rate=1, n_estimators=150, random_state=42, score=0.787, total=   3.8s\n",
            "[CV] learning_rate=1, n_estimators=150, random_state=42 ..............\n",
            "[CV]  learning_rate=1, n_estimators=150, random_state=42, score=0.788, total=   3.9s\n",
            "[CV] learning_rate=1, n_estimators=150, random_state=42 ..............\n",
            "[CV]  learning_rate=1, n_estimators=150, random_state=42, score=0.806, total=   3.9s\n",
            "[CV] learning_rate=1, n_estimators=150, random_state=42 ..............\n",
            "[CV]  learning_rate=1, n_estimators=150, random_state=42, score=0.796, total=   3.9s\n",
            "[CV] learning_rate=1, n_estimators=150, random_state=42 ..............\n",
            "[CV]  learning_rate=1, n_estimators=150, random_state=42, score=0.797, total=   3.9s\n",
            "[CV] learning_rate=1, n_estimators=150, random_state=42 ..............\n",
            "[CV]  learning_rate=1, n_estimators=150, random_state=42, score=0.799, total=   3.9s\n",
            "[CV] learning_rate=1, n_estimators=150, random_state=42 ..............\n",
            "[CV]  learning_rate=1, n_estimators=150, random_state=42, score=0.785, total=   3.9s\n",
            "[CV] learning_rate=1, n_estimators=150, random_state=42 ..............\n",
            "[CV]  learning_rate=1, n_estimators=150, random_state=42, score=0.804, total=   3.8s\n",
            "[CV] learning_rate=1, n_estimators=200, random_state=42 ..............\n",
            "[CV]  learning_rate=1, n_estimators=200, random_state=42, score=0.792, total=   5.2s\n",
            "[CV] learning_rate=1, n_estimators=200, random_state=42 ..............\n",
            "[CV]  learning_rate=1, n_estimators=200, random_state=42, score=0.801, total=   5.2s\n",
            "[CV] learning_rate=1, n_estimators=200, random_state=42 ..............\n",
            "[CV]  learning_rate=1, n_estimators=200, random_state=42, score=0.787, total=   5.2s\n",
            "[CV] learning_rate=1, n_estimators=200, random_state=42 ..............\n",
            "[CV]  learning_rate=1, n_estimators=200, random_state=42, score=0.788, total=   5.1s\n",
            "[CV] learning_rate=1, n_estimators=200, random_state=42 ..............\n",
            "[CV]  learning_rate=1, n_estimators=200, random_state=42, score=0.805, total=   5.1s\n",
            "[CV] learning_rate=1, n_estimators=200, random_state=42 ..............\n",
            "[CV]  learning_rate=1, n_estimators=200, random_state=42, score=0.796, total=   5.1s\n",
            "[CV] learning_rate=1, n_estimators=200, random_state=42 ..............\n",
            "[CV]  learning_rate=1, n_estimators=200, random_state=42, score=0.797, total=   5.1s\n",
            "[CV] learning_rate=1, n_estimators=200, random_state=42 ..............\n",
            "[CV]  learning_rate=1, n_estimators=200, random_state=42, score=0.799, total=   5.1s\n",
            "[CV] learning_rate=1, n_estimators=200, random_state=42 ..............\n",
            "[CV]  learning_rate=1, n_estimators=200, random_state=42, score=0.785, total=   5.1s\n",
            "[CV] learning_rate=1, n_estimators=200, random_state=42 ..............\n",
            "[CV]  learning_rate=1, n_estimators=200, random_state=42, score=0.804, total=   5.1s\n",
            "[CV] learning_rate=1, n_estimators=250, random_state=42 ..............\n",
            "[CV]  learning_rate=1, n_estimators=250, random_state=42, score=0.792, total=   6.4s\n",
            "[CV] learning_rate=1, n_estimators=250, random_state=42 ..............\n",
            "[CV]  learning_rate=1, n_estimators=250, random_state=42, score=0.801, total=   6.4s\n",
            "[CV] learning_rate=1, n_estimators=250, random_state=42 ..............\n",
            "[CV]  learning_rate=1, n_estimators=250, random_state=42, score=0.787, total=   6.4s\n",
            "[CV] learning_rate=1, n_estimators=250, random_state=42 ..............\n",
            "[CV]  learning_rate=1, n_estimators=250, random_state=42, score=0.788, total=   6.4s\n",
            "[CV] learning_rate=1, n_estimators=250, random_state=42 ..............\n",
            "[CV]  learning_rate=1, n_estimators=250, random_state=42, score=0.805, total=   6.5s\n",
            "[CV] learning_rate=1, n_estimators=250, random_state=42 ..............\n",
            "[CV]  learning_rate=1, n_estimators=250, random_state=42, score=0.796, total=   6.4s\n",
            "[CV] learning_rate=1, n_estimators=250, random_state=42 ..............\n",
            "[CV]  learning_rate=1, n_estimators=250, random_state=42, score=0.797, total=   6.4s\n",
            "[CV] learning_rate=1, n_estimators=250, random_state=42 ..............\n",
            "[CV]  learning_rate=1, n_estimators=250, random_state=42, score=0.799, total=   6.3s\n",
            "[CV] learning_rate=1, n_estimators=250, random_state=42 ..............\n",
            "[CV]  learning_rate=1, n_estimators=250, random_state=42, score=0.785, total=   6.4s\n",
            "[CV] learning_rate=1, n_estimators=250, random_state=42 ..............\n",
            "[CV]  learning_rate=1, n_estimators=250, random_state=42, score=0.804, total=   6.5s\n",
            "[CV] learning_rate=3, n_estimators=50, random_state=42 ...............\n",
            "[CV]  learning_rate=3, n_estimators=50, random_state=42, score=0.297, total=   1.3s\n",
            "[CV] learning_rate=3, n_estimators=50, random_state=42 ...............\n",
            "[CV]  learning_rate=3, n_estimators=50, random_state=42, score=0.279, total=   3.5s\n",
            "[CV] learning_rate=3, n_estimators=50, random_state=42 ...............\n",
            "[CV]  learning_rate=3, n_estimators=50, random_state=42, score=0.295, total=   1.3s\n",
            "[CV] learning_rate=3, n_estimators=50, random_state=42 ...............\n",
            "[CV]  learning_rate=3, n_estimators=50, random_state=42, score=0.295, total=   1.3s\n",
            "[CV] learning_rate=3, n_estimators=50, random_state=42 ...............\n",
            "[CV]  learning_rate=3, n_estimators=50, random_state=42, score=0.272, total=   1.3s\n",
            "[CV] learning_rate=3, n_estimators=50, random_state=42 ...............\n",
            "[CV]  learning_rate=3, n_estimators=50, random_state=42, score=0.284, total=   3.6s\n",
            "[CV] learning_rate=3, n_estimators=50, random_state=42 ...............\n",
            "[CV]  learning_rate=3, n_estimators=50, random_state=42, score=0.286, total=   1.3s\n",
            "[CV] learning_rate=3, n_estimators=50, random_state=42 ...............\n",
            "[CV]  learning_rate=3, n_estimators=50, random_state=42, score=0.286, total=   1.3s\n",
            "[CV] learning_rate=3, n_estimators=50, random_state=42 ...............\n",
            "[CV]  learning_rate=3, n_estimators=50, random_state=42, score=0.297, total=   1.3s\n",
            "[CV] learning_rate=3, n_estimators=50, random_state=42 ...............\n",
            "[CV]  learning_rate=3, n_estimators=50, random_state=42, score=0.274, total=   3.6s\n",
            "[CV] learning_rate=3, n_estimators=100, random_state=42 ..............\n",
            "[CV]  learning_rate=3, n_estimators=100, random_state=42, score=0.297, total=   2.6s\n",
            "[CV] learning_rate=3, n_estimators=100, random_state=42 ..............\n",
            "[CV]  learning_rate=3, n_estimators=100, random_state=42, score=0.279, total=   7.4s\n",
            "[CV] learning_rate=3, n_estimators=100, random_state=42 ..............\n",
            "[CV]  learning_rate=3, n_estimators=100, random_state=42, score=0.295, total=   2.6s\n",
            "[CV] learning_rate=3, n_estimators=100, random_state=42 ..............\n",
            "[CV]  learning_rate=3, n_estimators=100, random_state=42, score=0.295, total=   2.6s\n",
            "[CV] learning_rate=3, n_estimators=100, random_state=42 ..............\n",
            "[CV]  learning_rate=3, n_estimators=100, random_state=42, score=0.272, total=   2.6s\n",
            "[CV] learning_rate=3, n_estimators=100, random_state=42 ..............\n",
            "[CV]  learning_rate=3, n_estimators=100, random_state=42, score=0.284, total=   7.4s\n",
            "[CV] learning_rate=3, n_estimators=100, random_state=42 ..............\n",
            "[CV]  learning_rate=3, n_estimators=100, random_state=42, score=0.286, total=   2.6s\n",
            "[CV] learning_rate=3, n_estimators=100, random_state=42 ..............\n",
            "[CV]  learning_rate=3, n_estimators=100, random_state=42, score=0.286, total=   2.6s\n",
            "[CV] learning_rate=3, n_estimators=100, random_state=42 ..............\n",
            "[CV]  learning_rate=3, n_estimators=100, random_state=42, score=0.297, total=   2.6s\n",
            "[CV] learning_rate=3, n_estimators=100, random_state=42 ..............\n",
            "[CV]  learning_rate=3, n_estimators=100, random_state=42, score=0.274, total=   7.4s\n",
            "[CV] learning_rate=3, n_estimators=150, random_state=42 ..............\n",
            "[CV]  learning_rate=3, n_estimators=150, random_state=42, score=0.297, total=   3.9s\n",
            "[CV] learning_rate=3, n_estimators=150, random_state=42 ..............\n",
            "[CV]  learning_rate=3, n_estimators=150, random_state=42, score=0.279, total=  11.4s\n",
            "[CV] learning_rate=3, n_estimators=150, random_state=42 ..............\n",
            "[CV]  learning_rate=3, n_estimators=150, random_state=42, score=0.295, total=   4.0s\n",
            "[CV] learning_rate=3, n_estimators=150, random_state=42 ..............\n",
            "[CV]  learning_rate=3, n_estimators=150, random_state=42, score=0.295, total=   4.0s\n",
            "[CV] learning_rate=3, n_estimators=150, random_state=42 ..............\n",
            "[CV]  learning_rate=3, n_estimators=150, random_state=42, score=0.272, total=   4.0s\n",
            "[CV] learning_rate=3, n_estimators=150, random_state=42 ..............\n",
            "[CV]  learning_rate=3, n_estimators=150, random_state=42, score=0.284, total=  11.4s\n",
            "[CV] learning_rate=3, n_estimators=150, random_state=42 ..............\n",
            "[CV]  learning_rate=3, n_estimators=150, random_state=42, score=0.286, total=   4.0s\n",
            "[CV] learning_rate=3, n_estimators=150, random_state=42 ..............\n",
            "[CV]  learning_rate=3, n_estimators=150, random_state=42, score=0.286, total=   4.0s\n",
            "[CV] learning_rate=3, n_estimators=150, random_state=42 ..............\n",
            "[CV]  learning_rate=3, n_estimators=150, random_state=42, score=0.297, total=   4.0s\n",
            "[CV] learning_rate=3, n_estimators=150, random_state=42 ..............\n",
            "[CV]  learning_rate=3, n_estimators=150, random_state=42, score=0.274, total=  11.4s\n",
            "[CV] learning_rate=3, n_estimators=200, random_state=42 ..............\n",
            "[CV]  learning_rate=3, n_estimators=200, random_state=42, score=0.297, total=   5.4s\n",
            "[CV] learning_rate=3, n_estimators=200, random_state=42 ..............\n",
            "[CV]  learning_rate=3, n_estimators=200, random_state=42, score=0.279, total=  15.3s\n",
            "[CV] learning_rate=3, n_estimators=200, random_state=42 ..............\n",
            "[CV]  learning_rate=3, n_estimators=200, random_state=42, score=0.295, total=   5.4s\n",
            "[CV] learning_rate=3, n_estimators=200, random_state=42 ..............\n",
            "[CV]  learning_rate=3, n_estimators=200, random_state=42, score=0.295, total=   5.4s\n",
            "[CV] learning_rate=3, n_estimators=200, random_state=42 ..............\n",
            "[CV]  learning_rate=3, n_estimators=200, random_state=42, score=0.272, total=   5.3s\n",
            "[CV] learning_rate=3, n_estimators=200, random_state=42 ..............\n",
            "[CV]  learning_rate=3, n_estimators=200, random_state=42, score=0.284, total=  15.4s\n",
            "[CV] learning_rate=3, n_estimators=200, random_state=42 ..............\n",
            "[CV]  learning_rate=3, n_estimators=200, random_state=42, score=0.286, total=   5.4s\n",
            "[CV] learning_rate=3, n_estimators=200, random_state=42 ..............\n",
            "[CV]  learning_rate=3, n_estimators=200, random_state=42, score=0.286, total=   5.3s\n",
            "[CV] learning_rate=3, n_estimators=200, random_state=42 ..............\n",
            "[CV]  learning_rate=3, n_estimators=200, random_state=42, score=0.297, total=   5.4s\n",
            "[CV] learning_rate=3, n_estimators=200, random_state=42 ..............\n",
            "[CV]  learning_rate=3, n_estimators=200, random_state=42, score=0.274, total=  15.3s\n",
            "[CV] learning_rate=3, n_estimators=250, random_state=42 ..............\n",
            "[CV]  learning_rate=3, n_estimators=250, random_state=42, score=0.297, total=   6.6s\n",
            "[CV] learning_rate=3, n_estimators=250, random_state=42 ..............\n",
            "[CV]  learning_rate=3, n_estimators=250, random_state=42, score=0.279, total=  19.0s\n",
            "[CV] learning_rate=3, n_estimators=250, random_state=42 ..............\n",
            "[CV]  learning_rate=3, n_estimators=250, random_state=42, score=0.295, total=   6.6s\n",
            "[CV] learning_rate=3, n_estimators=250, random_state=42 ..............\n",
            "[CV]  learning_rate=3, n_estimators=250, random_state=42, score=0.295, total=   6.5s\n",
            "[CV] learning_rate=3, n_estimators=250, random_state=42 ..............\n",
            "[CV]  learning_rate=3, n_estimators=250, random_state=42, score=0.272, total=   6.6s\n",
            "[CV] learning_rate=3, n_estimators=250, random_state=42 ..............\n",
            "[CV]  learning_rate=3, n_estimators=250, random_state=42, score=0.284, total=  19.1s\n",
            "[CV] learning_rate=3, n_estimators=250, random_state=42 ..............\n",
            "[CV]  learning_rate=3, n_estimators=250, random_state=42, score=0.286, total=   6.6s\n",
            "[CV] learning_rate=3, n_estimators=250, random_state=42 ..............\n",
            "[CV]  learning_rate=3, n_estimators=250, random_state=42, score=0.286, total=   6.7s\n",
            "[CV] learning_rate=3, n_estimators=250, random_state=42 ..............\n",
            "[CV]  learning_rate=3, n_estimators=250, random_state=42, score=0.297, total=   6.6s\n",
            "[CV] learning_rate=3, n_estimators=250, random_state=42 ..............\n",
            "[CV]  learning_rate=3, n_estimators=250, random_state=42, score=0.274, total=  19.4s\n"
          ]
        },
        {
          "name": "stderr",
          "output_type": "stream",
          "text": [
            "[Parallel(n_jobs=1)]: Done 250 out of 250 | elapsed: 18.1min finished\n"
          ]
        },
        {
          "data": {
            "text/plain": [
              "{'learning_rate': 0.3, 'n_estimators': 250, 'random_state': 42}"
            ]
          },
          "execution_count": 94,
          "metadata": {},
          "output_type": "execute_result"
        }
      ],
      "source": [
        "# Import classification model and hyper-parameter optimizer\n",
        "from sklearn.model_selection import GridSearchCV  # optimizer\n",
        "from sklearn.ensemble import AdaBoostClassifier   # model\n",
        "\n",
        "# A dictionary contains hyper-parameters combinations that we want to examine\n",
        "ada_param_grid = {\n",
        "    'n_estimators': range(50, 300, 50),\n",
        "    'learning_rate': [0.03, 0.1, 0.3, 1],\n",
        "    'random_state': [42]\n",
        "}\n",
        "\n",
        "# Setup grid search\n",
        "search_ada = GridSearchCV(AdaBoostClassifier(),\n",
        "                          param_grid=ada_param_grid,\n",
        "                          scoring='roc_auc',\n",
        "                          cv=10,\n",
        "                          verbose=3)\n",
        "\n",
        "# Fit the training set on the model with combinations of hyper-parameters\n",
        "search_ada.fit(X_train, y_train.values.flatten())\n",
        "\n",
        "# The best hyper-parameters combination\n",
        "search_ada.best_params_"
      ]
    },
    {
      "cell_type": "code",
      "execution_count": null,
      "metadata": {
        "colab": {
          "base_uri": "https://localhost:8080/"
        },
        "id": "rIQKFc8VvI9c",
        "outputId": "8d475c93-c619-433a-a73f-2e945df3a796"
      },
      "outputs": [
        {
          "data": {
            "text/plain": [
              "AdaBoostClassifier(algorithm='SAMME.R', base_estimator=None, learning_rate=0.3,\n",
              "                   n_estimators=250, random_state=42)"
            ]
          },
          "execution_count": 95,
          "metadata": {},
          "output_type": "execute_result"
        }
      ],
      "source": [
        "# Create model object with the best found hyper-parameters combination\n",
        "ada = search_ada.best_estimator_\n",
        "\n",
        "# Fit the training set on the model\n",
        "ada.fit(X_train, y_train.values.flatten())"
      ]
    },
    {
      "cell_type": "code",
      "execution_count": null,
      "metadata": {
        "colab": {
          "base_uri": "https://localhost:8080/",
          "height": 352
        },
        "id": "YV0TICd6vI9c",
        "outputId": "3f04577b-c689-4b92-befb-050715a251ac"
      },
      "outputs": [
        {
          "name": "stdout",
          "output_type": "stream",
          "text": [
            "Accuracy:\t 0.7319931471896187\n",
            "Precision:\t 0.7709021380149487\n",
            "Recall:\t\t 0.6528539358922459\n",
            "F1 score:\t 0.7069841586131312\n",
            "ROC AUC:\t 0.7312473326328895\n"
          ]
        },
        {
          "data": {
            "image/png": "[encoded data removed]",
            "text/plain": [
              "<Figure size 432x288 with 2 Axes>"
            ]
          },
          "metadata": {
            "needs_background": "light"
          },
          "output_type": "display_data"
        }
      ],
      "source": [
        "# Import classification metrics\n",
        "from sklearn.metrics import confusion_matrix                                                        # confusion matrix\n",
        "from sklearn.metrics import accuracy_score, precision_score, recall_score, f1_score, roc_auc_score  # metrics\n",
        "\n",
        "# Create model evaluation object\n",
        "evaluation = ModelEvaluation(y_train)\n",
        "\n",
        "# Predict target class based on training set\n",
        "y_train_pred = ada.predict(X_train)\n",
        "\n",
        "# Plot confusion matrix\n",
        "evaluation.plot_confusion_matrix(y_train_pred)"
      ]
    },
    {
      "cell_type": "code",
      "execution_count": null,
      "metadata": {
        "colab": {
          "base_uri": "https://localhost:8080/",
          "height": 352
        },
        "id": "37EwoNdmvI9c",
        "outputId": "cab2085f-7f79-488d-d684-1a04961b3bf7"
      },
      "outputs": [
        {
          "name": "stdout",
          "output_type": "stream",
          "text": [
            "Accuracy:\t 0.7302434934752496\n",
            "Precision:\t 0.7694955127646598\n",
            "Recall:\t\t 0.6500202406800869\n",
            "F1 score:\t 0.7047299858359767\n",
            "ROC AUC:\t 0.7294874628206357\n"
          ]
        },
        {
          "data": {
            "image/png": "[encoded data removed]",
            "text/plain": [
              "<Figure size 432x288 with 2 Axes>"
            ]
          },
          "metadata": {
            "needs_background": "light"
          },
          "output_type": "display_data"
        }
      ],
      "source": [
        "# Import cross-validation predictor\n",
        "from sklearn.model_selection import cross_val_predict # model validation\n",
        "\n",
        "# Use cross-validation to predict target class based on training set\n",
        "y_train_pred = cross_val_predict(ada, X_train, y_train.values.flatten(), cv=10)\n",
        "\n",
        "# Plot confusion matrix\n",
        "evaluation.plot_confusion_matrix(y_train_pred)"
      ]
    },
    {
      "cell_type": "code",
      "execution_count": null,
      "metadata": {
        "colab": {
          "base_uri": "https://localhost:8080/"
        },
        "id": "rgqCjZO8vI9c",
        "outputId": "1669ea7e-6058-4d5c-deb5-58e4a5866183"
      },
      "outputs": [
        {
          "name": "stdout",
          "output_type": "stream",
          "text": [
            "1. age (0.276)\n",
            "2. weight (0.204)\n",
            "3. ap_hi (0.152)\n",
            "4. ap_lo (0.12)\n",
            "5. height (0.072)\n",
            "6. cholesterol (0.064)\n",
            "7. gluc (0.04)\n",
            "8. active (0.028)\n",
            "9. alco (0.02)\n",
            "10. smoke (0.016)\n",
            "11. gender (0.008)\n"
          ]
        }
      ],
      "source": [
        "# The impact of each feature on the model\n",
        "importances = list(zip(ada.feature_importances_, X_train.columns))   # list of important features\n",
        "importances.sort(reverse=True)                                       # sort the importances\n",
        "\n",
        "# Print feature ranking\n",
        "i = 1\n",
        "for f in importances:                         # iterate over the list of important features\n",
        "  print(\"{}. {} ({})\".format(i, f[1], f[0]))  # print the ranking\n",
        "  i += 1"
      ]
    },
    {
      "cell_type": "markdown",
      "metadata": {
        "id": "c2wzJku1vI9c"
      },
      "source": [
        "##### VIII.3.2. Evaluate on Test Set"
      ]
    },
    {
      "cell_type": "code",
      "execution_count": null,
      "metadata": {
        "colab": {
          "base_uri": "https://localhost:8080/",
          "height": 352
        },
        "id": "CMnbNU_WvI9c",
        "outputId": "382a4983-a2f0-48ce-cdc7-6b349a68116c"
      },
      "outputs": [
        {
          "name": "stdout",
          "output_type": "stream",
          "text": [
            "Accuracy:\t 0.7224814112844438\n",
            "Precision:\t 0.7573684210526316\n",
            "Recall:\t\t 0.6404094348019582\n",
            "F1 score:\t 0.6939956595129009\n",
            "ROC AUC:\t 0.7210933514843961\n"
          ]
        },
        {
          "data": {
            "image/png": "[encoded data removed]",
            "text/plain": [
              "<Figure size 432x288 with 2 Axes>"
            ]
          },
          "metadata": {
            "needs_background": "light"
          },
          "output_type": "display_data"
        }
      ],
      "source": [
        "# Create model evaluation object\n",
        "evaluation = ModelEvaluation(y_test)\n",
        "\n",
        "# Predict target class based on test set\n",
        "y_test_pred = ada.predict(X_test)\n",
        "\n",
        "# Plot confusion matrix\n",
        "evaluation.plot_confusion_matrix(y_test_pred)"
      ]
    },
    {
      "cell_type": "code",
      "execution_count": null,
      "metadata": {
        "colab": {
          "base_uri": "https://localhost:8080/",
          "height": 314
        },
        "id": "7ODDvDvkvI9d",
        "outputId": "ad61f28a-64d4-4767-8ec0-3a20ddae8fb9"
      },
      "outputs": [
        {
          "data": {
            "image/png": "[encoded data removed]",
            "text/plain": [
              "<Figure size 432x288 with 1 Axes>"
            ]
          },
          "metadata": {
            "needs_background": "light"
          },
          "output_type": "display_data"
        },
        {
          "name": "stdout",
          "output_type": "stream",
          "text": [
            "Best Threshold = 0.49865733559899855\n",
            "G-Mean = 0.7262685712692871\n"
          ]
        }
      ],
      "source": [
        "# Import essential libraries\n",
        "from sklearn.metrics import roc_curve # roc curve metric\n",
        "from numpy import sqrt                # calculate square root\n",
        "from numpy import argmax              # find max value\n",
        "\n",
        "# Predict target class probabilities based on test set\n",
        "y_test_probas = ada.predict_proba(X_test)\n",
        "\n",
        "# Plot roc curve\n",
        "evaluation.plot_roc_curve(y_test_probas)"
      ]
    },
    {
      "cell_type": "code",
      "execution_count": null,
      "metadata": {
        "colab": {
          "base_uri": "https://localhost:8080/",
          "height": 354
        },
        "id": "VkSjy7rXvI9d",
        "outputId": "8e0c42fb-d80c-4dfa-c35e-76991486ba67"
      },
      "outputs": [
        {
          "name": "stdout",
          "output_type": "stream",
          "text": [
            "Accuracy:\t 0.7261262574719347\n",
            "Precision:\t 0.7107940096072337\n",
            "Recall:\t\t 0.7463284379172229\n",
            "F1 score:\t 0.7281279397930386\n",
            "ROC AUC:\t 0.726467931155831\n"
          ]
        },
        {
          "data": {
            "image/png": "[encoded data removed]",
            "text/plain": [
              "<Figure size 432x288 with 2 Axes>"
            ]
          },
          "metadata": {
            "needs_background": "light"
          },
          "output_type": "display_data"
        }
      ],
      "source": [
        "# Set threshold to best threshold\n",
        "threshold = evaluation.best_threshold()\n",
        "\n",
        "# Use new threshold value to make new prediction based on test set\n",
        "y_test_newpred = [1 if y_test_probas[i][1] > threshold else 0 for i in range(len(y_test_probas))]\n",
        "\n",
        "# Plot confusion matrix\n",
        "evaluation.plot_confusion_matrix(y_test_newpred)"
      ]
    }
  ],
  "metadata": {
    "colab": {
      "collapsed_sections": [
        "WAPca51Ko40T",
        "i_MRwuYsqeSQ",
        "1ACL4GMARUX6",
        "4Y-A0ut_rEAv",
        "I1_j8IprT_em",
        "pRPiKdr1zw6W",
        "nbrd4sxNqBdQ",
        "YcC4g1AaU4__",
        "NB0bo4rZKcjU",
        "LtrmB-AiEuMM",
        "Jic4M-7zFZny",
        "9OXR8tQIauZs",
        "moQ1oTlvFWfp",
        "CELXRAKiF2BP",
        "fq9hLP8TkxSL",
        "HQv_XUhqVZFP",
        "xb1Mab5bnh_5",
        "7OLSRFg__uim",
        "KxLLI53hTmwP",
        "LB9sJ7b0UXQU",
        "w6wsYccaUvs3",
        "qff6YK_pU-CX",
        "alhMEo40WQ-1",
        "uBcpufYbWdsi",
        "5czKDXOb4MW0",
        "omC4YRmqyUaY",
        "1eONjf2tyUaY",
        "OakP9RLwyUaZ",
        "mF1cnXhFdUs0",
        "Y9DxgOojdUs0",
        "6x7mTyBndUs1",
        "otwhTOhPvI9b",
        "OWipJIZUvI9b",
        "c2wzJku1vI9c"
      ],
      "name": "Cardiovascular Disease.ipynb",
      "provenance": [],
      "toc_visible": true
    },
    "kernelspec": {
      "display_name": "Python 3",
      "name": "python3"
    },
    "language_info": {
      "codemirror_mode": {
        "name": "ipython",
        "version": 3
      },
      "file_extension": ".py",
      "mimetype": "text/x-python",
      "name": "python",
      "nbconvert_exporter": "python",
      "pygments_lexer": "ipython3",
      "version": "3.8.5"
    }
  },
  "nbformat": 4,
  "nbformat_minor": 0
}
