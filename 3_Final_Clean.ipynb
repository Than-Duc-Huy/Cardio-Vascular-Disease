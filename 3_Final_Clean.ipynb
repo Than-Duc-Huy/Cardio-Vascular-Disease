{
 "cells": [
  {
   "cell_type": "markdown",
   "metadata": {},
   "source": [
    "# Final Clean data\n",
    "- Drop Index\n",
    "- Convert Age to years\n",
    "- Calculate BMI (but does not use BMI because they are heavily related to height, weight)\n",
    "- Filter humanly possible range:\n",
    "\t- ap_hi [40,200]\n",
    "\t- ap_lo [40,140]\n",
    "\t- BMI [10,80]"
   ]
  },
  {
   "cell_type": "code",
   "execution_count": 1,
   "metadata": {},
   "outputs": [],
   "source": [
    "import pandas as pd\n",
    "\n",
    "# Create a copy of the dataset\n",
    "cardio_raw = pd.read_csv('cardio_train.csv', sep=';')\n",
    "cardio = cardio_raw.copy()\n",
    "\n",
    "# Numerical and categorical attributes\n",
    "num_attribs = ['age', 'height', 'weight', 'ap_hi', 'ap_lo']\n",
    "cat_attribs = ['gender', 'cholesterol', 'gluc', 'smoke', 'alco', 'active', 'cardio']\n",
    "\n",
    "# Covert the data type of categorical attributes into \"category\"\n",
    "for cat_attrib in cat_attribs:\n",
    "  cardio[cat_attrib] = cardio[cat_attrib].astype('category')\n",
    "\n",
    "# Remove the id column\n",
    "cardio = cardio.drop(columns='id')\n",
    "\n",
    "# Convert the age into years\n",
    "cardio['age'] = cardio['age'] // 365.25\n",
    "\n",
    "# Convert gender to binary categorical attribute\n",
    "# Male = 1, Female = 0\n",
    "cardio['gender'] = (cardio['gender'].astype('int') - 1).astype('category')\n",
    "\n",
    "# Extract Systolic (ap_hi) and Diastolic (ap_lo) blood pressure features\n",
    "ap_hi = cardio['ap_hi']\n",
    "ap_lo = cardio['ap_lo']\n",
    "\n",
    "# Drop data points those have ap_hi and ap_lo lower than 40 and higher than 200\n",
    "cardio = cardio.drop(cardio.loc[(ap_hi < 40) | (ap_hi > 200) | (ap_lo < 40) | (ap_lo > 140)].index)\n",
    "\n",
    "# Some data points have ap_lo > ap_hi, we will filter these as well\n",
    "cardio = cardio.drop(cardio.loc[ap_lo > ap_hi].index)\n",
    "\n",
    "# Caculate BMI for every patients\n",
    "cardio['bmi'] = cardio['weight'] / (cardio['height'] / 100) ** 2\n",
    "\n",
    "# Extract BMI (bmi) feature\n",
    "bmi = cardio['bmi']\n",
    "\n",
    "# Drop data points those have bmi lower than 10 and higher than 80\n",
    "cardio = cardio.drop(cardio.loc[(bmi < 10) | (bmi > 80)].index)\n",
    "\n",
    "# Drop BMI (bmi) feature\n",
    "cardio = cardio.drop(columns=['bmi'])\n",
    "\n",
    "\n",
    "cardio.to_csv(\"data.csv\",index = False) ## Export for Application\n"
   ]
  }
 ],
 "metadata": {
  "interpreter": {
   "hash": "949954a58fd229c86a5fa037ec77b8e1ffbae2a473d5b80b45351a81cfa17a54"
  },
  "kernelspec": {
   "display_name": "Python 3.8.5 64-bit ('base': conda)",
   "language": "python",
   "name": "python3"
  },
  "language_info": {
   "codemirror_mode": {
    "name": "ipython",
    "version": 3
   },
   "file_extension": ".py",
   "mimetype": "text/x-python",
   "name": "python",
   "nbconvert_exporter": "python",
   "pygments_lexer": "ipython3",
   "version": "3.8.5"
  },
  "orig_nbformat": 4
 },
 "nbformat": 4,
 "nbformat_minor": 2
}
